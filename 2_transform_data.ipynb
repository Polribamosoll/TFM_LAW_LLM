{
 "cells": [
  {
   "cell_type": "markdown",
   "metadata": {},
   "source": [
    "# Transform data"
   ]
  },
  {
   "cell_type": "markdown",
   "metadata": {},
   "source": [
    "# Setup"
   ]
  },
  {
   "cell_type": "code",
   "execution_count": 1,
   "metadata": {},
   "outputs": [],
   "source": [
    "# Python version\n",
    "import sys \n",
    "print(sys. version)"
   ]
  },
  {
   "cell_type": "code",
   "execution_count": 2,
   "metadata": {},
   "outputs": [
    {
     "data": {
      "text/plain": [
       "True"
      ]
     },
     "execution_count": 2,
     "metadata": {},
     "output_type": "execute_result"
    }
   ],
   "source": [
    "# Environment Variables\n",
    "from dotenv import load_dotenv\n",
    "import yaml\n",
    "import os\n",
    "\n",
    "# Load env\n",
    "load_dotenv()"
   ]
  },
  {
   "cell_type": "code",
   "execution_count": null,
   "metadata": {},
   "outputs": [],
   "source": [
    "# Torch config\n",
    "from torch import cuda, bfloat16, float16\n",
    "import torch\n",
    "\n",
    "# Torch options\n",
    "torch.backends.cuda.enable_mem_efficient_sdp(False)\n",
    "torch.backends.cuda.enable_flash_sdp(False)"
   ]
  },
  {
   "cell_type": "code",
   "execution_count": null,
   "metadata": {},
   "outputs": [],
   "source": [
    "# Jupyter extensions\n",
    "!jupyter nbextension enable --py widgetsnbextension"
   ]
  },
  {
   "cell_type": "markdown",
   "metadata": {},
   "source": [
    "# Parameters"
   ]
  },
  {
   "cell_type": "markdown",
   "metadata": {},
   "source": [
    "We load the needed parameters from a yaml file."
   ]
  },
  {
   "cell_type": "code",
   "execution_count": null,
   "metadata": {},
   "outputs": [],
   "source": [
    "# Load parameters from YAML file\n",
    "with open('config.yaml', 'r') as file:\n",
    "    config = yaml.safe_load(file)"
   ]
  },
  {
   "cell_type": "markdown",
   "metadata": {},
   "source": [
    "# Reference"
   ]
  },
  {
   "cell_type": "markdown",
   "metadata": {},
   "source": [
    "https://medium.com/@ayhamboucher/llm-based-context-splitter-for-large-documents-445d3f02b01b"
   ]
  },
  {
   "cell_type": "markdown",
   "metadata": {},
   "source": [
    "https://www.pinecone.io/learn/chunking-strategies/"
   ]
  },
  {
   "cell_type": "markdown",
   "metadata": {},
   "source": [
    "# Directory"
   ]
  },
  {
   "cell_type": "code",
   "execution_count": 4,
   "metadata": {},
   "outputs": [
    {
     "data": {
      "text/plain": [
       "'/notebooks/LawGPT'"
      ]
     },
     "execution_count": 4,
     "metadata": {},
     "output_type": "execute_result"
    }
   ],
   "source": [
    "# Set directory to file location\n",
    "from pathlib import Path\n",
    "import sys\n",
    "notebook_location = Path(os.path.abspath(''))\n",
    "os.chdir(notebook_location)\n",
    "# Get the current working directory\n",
    "current_directory = os.getcwd()\n",
    "current_directory"
   ]
  },
  {
   "cell_type": "markdown",
   "metadata": {},
   "source": [
    "# Libraries"
   ]
  },
  {
   "cell_type": "code",
   "execution_count": 5,
   "metadata": {},
   "outputs": [
    {
     "name": "stderr",
     "output_type": "stream",
     "text": [
      "/usr/local/lib/python3.9/dist-packages/torch/cuda/__init__.py:546: UserWarning: Can't initialize NVML\n",
      "  warnings.warn(\"Can't initialize NVML\")\n",
      "/usr/local/lib/python3.9/dist-packages/bitsandbytes/cextension.py:34: UserWarning: The installed version of bitsandbytes was compiled without GPU support. 8-bit optimizers, 8-bit multiplication, and GPU quantization are unavailable.\n",
      "  warn(\"The installed version of bitsandbytes was compiled without GPU support. \"\n"
     ]
    },
    {
     "name": "stdout",
     "output_type": "stream",
     "text": [
      "/usr/local/lib/python3.9/dist-packages/bitsandbytes/libbitsandbytes_cpu.so: undefined symbol: cadam32bit_grad_fp32\n"
     ]
    }
   ],
   "source": [
    "# General libraries\n",
    "import pandas as pd\n",
    "import numpy as np\n",
    "import time\n",
    "import yaml\n",
    "import csv\n",
    "import gc\n",
    "import os\n",
    "\n",
    "# Transformers\n",
    "from transformers import AutoModelForCausalLM, AutoTokenizer, BitsAndBytesConfig\n",
    "from transformers import pipeline\n",
    "import transformers\n",
    "import accelerate\n",
    "\n",
    "# Splitters\n",
    "from langchain.text_splitter import RecursiveCharacterTextSplitter\n",
    "from langchain.text_splitter import CharacterTextSplitter\n",
    "from nltk.corpus import stopwords\n",
    "import torch\n",
    "import spacy\n",
    "import nltk\n",
    "\n",
    "# Tokenizer\n",
    "import tiktoken\n",
    "\n",
    "# Optimization\n",
    "import xformers\n",
    "\n",
    "# Other\n",
    "from tqdm.notebook import tqdm\n",
    "\n",
    "# Local\n",
    "from functions import *"
   ]
  },
  {
   "cell_type": "code",
   "execution_count": null,
   "metadata": {},
   "outputs": [],
   "source": [
    "# Warnings\n",
    "import warnings\n",
    "warnings.filterwarnings(\"ignore\")"
   ]
  },
  {
   "cell_type": "code",
   "execution_count": 6,
   "metadata": {},
   "outputs": [],
   "source": [
    "# Start timing the notebook run\n",
    "start_time = time.time()"
   ]
  },
  {
   "cell_type": "markdown",
   "metadata": {},
   "source": [
    "# Device"
   ]
  },
  {
   "cell_type": "code",
   "execution_count": 7,
   "metadata": {},
   "outputs": [],
   "source": [
    "# Setting device on GPU if available, else CPU\n",
    "device = torch.device('cuda' if torch.cuda.is_available() else 'cpu')\n",
    "print('Using device:', device)\n",
    "print()\n",
    "\n",
    "# CUDA information\n",
    "if torch.cuda.is_available():\n",
    "    device = torch.device(\"cuda\")\n",
    "    print(torch.cuda.get_device_name(0))\n",
    "    print('Memory Usage:')\n",
    "    allocated_memory = torch.cuda.memory_allocated(0) / (1024**3)  # Convert bytes to GB\n",
    "    cached_memory = torch.cuda.memory_reserved(0) / (1024**3)  # Convert bytes to GB\n",
    "    total_memory = torch.cuda.get_device_properties(0).total_memory / (1024**3)  # Convert bytes to GB\n",
    "    available_memory = total_memory - cached_memory\n",
    "    print('Allocated:   ', round(allocated_memory, 1), 'GB')\n",
    "    print('Cached:      ', round(cached_memory, 1), 'GB')\n",
    "    print('Available:  ', round(available_memory, 1), 'GB')\n",
    "    print('Total:      ', round(total_memory, 1), 'GB')"
   ]
  },
  {
   "cell_type": "code",
   "execution_count": 8,
   "metadata": {},
   "outputs": [],
   "source": [
    "# Clean memory\n",
    "torch.cuda.empty_cache()\n",
    "gc.collect()"
   ]
  },
  {
   "cell_type": "markdown",
   "metadata": {
    "tags": []
   },
   "source": [
    "# Load data"
   ]
  },
  {
   "cell_type": "code",
   "execution_count": 11,
   "metadata": {
    "tags": []
   },
   "outputs": [
    {
     "data": {
      "text/plain": [
       "['boe_ids.csv', 'boe_filtered_ids.csv', 'boe_data.csv']"
      ]
     },
     "execution_count": 11,
     "metadata": {},
     "output_type": "execute_result"
    }
   ],
   "source": [
    "# Params\n",
    "file_list = [\"boe_data.csv\"]\n",
    "local_folder_path = \"raw_data/\"\n",
    "\n",
    "# List CSV files locally\n",
    "local_csv_files = list_csv_files(local_folder_path)\n",
    "local_csv_files"
   ]
  },
  {
   "cell_type": "code",
   "execution_count": 12,
   "metadata": {},
   "outputs": [
    {
     "name": "stdout",
     "output_type": "stream",
     "text": [
      "Loaded boe_data.csv from local storage.\n"
     ]
    },
    {
     "data": {
      "text/html": [
       "<div>\n",
       "<style scoped>\n",
       "    .dataframe tbody tr th:only-of-type {\n",
       "        vertical-align: middle;\n",
       "    }\n",
       "\n",
       "    .dataframe tbody tr th {\n",
       "        vertical-align: top;\n",
       "    }\n",
       "\n",
       "    .dataframe thead th {\n",
       "        text-align: right;\n",
       "    }\n",
       "</style>\n",
       "<table border=\"1\" class=\"dataframe\">\n",
       "  <thead>\n",
       "    <tr style=\"text-align: right;\">\n",
       "      <th></th>\n",
       "      <th>id</th>\n",
       "      <th>url</th>\n",
       "      <th>title</th>\n",
       "      <th>date</th>\n",
       "      <th>legislative_origin</th>\n",
       "      <th>department</th>\n",
       "      <th>rang</th>\n",
       "      <th>text</th>\n",
       "    </tr>\n",
       "  </thead>\n",
       "  <tbody>\n",
       "    <tr>\n",
       "      <th>0</th>\n",
       "      <td>1978-7433</td>\n",
       "      <td>https://www.boe.es/diario_boe/xml.php?id=BOE-A...</td>\n",
       "      <td>Ley 17/1978, de 15 de marzo, sobre modificació...</td>\n",
       "      <td>1978-03-18</td>\n",
       "      <td>Estatal</td>\n",
       "      <td>Jefatura del Estado</td>\n",
       "      <td>Ley</td>\n",
       "      <td>\\nDe conformidad con la Ley aprobada por las C...</td>\n",
       "    </tr>\n",
       "    <tr>\n",
       "      <th>1</th>\n",
       "      <td>1978-12341</td>\n",
       "      <td>https://www.boe.es/diario_boe/xml.php?id=BOE-A...</td>\n",
       "      <td>Ley 20/1978, de 8 de mayo, sobre modificación ...</td>\n",
       "      <td>1978-05-09</td>\n",
       "      <td>Estatal</td>\n",
       "      <td>Jefatura del Estado</td>\n",
       "      <td>Ley</td>\n",
       "      <td>\\nDe conformidad con la Ley aprobada por las C...</td>\n",
       "    </tr>\n",
       "    <tr>\n",
       "      <th>2</th>\n",
       "      <td>1978-18551</td>\n",
       "      <td>https://www.boe.es/diario_boe/xml.php?id=BOE-A...</td>\n",
       "      <td>Ley 31/1978, de 17 de julio, de modificación d...</td>\n",
       "      <td>1978-07-20</td>\n",
       "      <td>Estatal</td>\n",
       "      <td>Jefatura del Estado</td>\n",
       "      <td>Ley</td>\n",
       "      <td>\\nDe conformidad con la Ley aprobada por las C...</td>\n",
       "    </tr>\n",
       "    <tr>\n",
       "      <th>3</th>\n",
       "      <td>1978-25564</td>\n",
       "      <td>https://www.boe.es/diario_boe/xml.php?id=BOE-A...</td>\n",
       "      <td>Ley 45/1978, de 7 de octubre, por la que se mo...</td>\n",
       "      <td>1978-10-11</td>\n",
       "      <td>Estatal</td>\n",
       "      <td>Jefatura del Estado</td>\n",
       "      <td>Ley</td>\n",
       "      <td>\\nDe conformidad con la Ley aprobada por las C...</td>\n",
       "    </tr>\n",
       "    <tr>\n",
       "      <th>4</th>\n",
       "      <td>1978-31079</td>\n",
       "      <td>https://www.boe.es/diario_boe/xml.php?id=BOE-A...</td>\n",
       "      <td>Real Decreto 3033/1978, de 15 de diciembre, po...</td>\n",
       "      <td>1978-12-25</td>\n",
       "      <td>Estatal</td>\n",
       "      <td>Ministerio de Sanidad y Seguridad Social</td>\n",
       "      <td>Real Decreto</td>\n",
       "      <td>\\nLa Ley cuarenta y cinco/mil novecientos sete...</td>\n",
       "    </tr>\n",
       "  </tbody>\n",
       "</table>\n",
       "</div>"
      ],
      "text/plain": [
       "           id                                                url  \\\n",
       "0   1978-7433  https://www.boe.es/diario_boe/xml.php?id=BOE-A...   \n",
       "1  1978-12341  https://www.boe.es/diario_boe/xml.php?id=BOE-A...   \n",
       "2  1978-18551  https://www.boe.es/diario_boe/xml.php?id=BOE-A...   \n",
       "3  1978-25564  https://www.boe.es/diario_boe/xml.php?id=BOE-A...   \n",
       "4  1978-31079  https://www.boe.es/diario_boe/xml.php?id=BOE-A...   \n",
       "\n",
       "                                               title        date  \\\n",
       "0  Ley 17/1978, de 15 de marzo, sobre modificació...  1978-03-18   \n",
       "1  Ley 20/1978, de 8 de mayo, sobre modificación ...  1978-05-09   \n",
       "2  Ley 31/1978, de 17 de julio, de modificación d...  1978-07-20   \n",
       "3  Ley 45/1978, de 7 de octubre, por la que se mo...  1978-10-11   \n",
       "4  Real Decreto 3033/1978, de 15 de diciembre, po...  1978-12-25   \n",
       "\n",
       "  legislative_origin                                department          rang  \\\n",
       "0            Estatal                       Jefatura del Estado           Ley   \n",
       "1            Estatal                       Jefatura del Estado           Ley   \n",
       "2            Estatal                       Jefatura del Estado           Ley   \n",
       "3            Estatal                       Jefatura del Estado           Ley   \n",
       "4            Estatal  Ministerio de Sanidad y Seguridad Social  Real Decreto   \n",
       "\n",
       "                                                text  \n",
       "0  \\nDe conformidad con la Ley aprobada por las C...  \n",
       "1  \\nDe conformidad con la Ley aprobada por las C...  \n",
       "2  \\nDe conformidad con la Ley aprobada por las C...  \n",
       "3  \\nDe conformidad con la Ley aprobada por las C...  \n",
       "4  \\nLa Ley cuarenta y cinco/mil novecientos sete...  "
      ]
     },
     "execution_count": 12,
     "metadata": {},
     "output_type": "execute_result"
    }
   ],
   "source": [
    "# Check for each file in file_list\n",
    "df_txt = pd.DataFrame()\n",
    "\n",
    "# Loop by files\n",
    "for file_name in file_list:\n",
    "    try:\n",
    "        # Load the file from local storage\n",
    "        local_file_path = os.path.join(local_folder_path, file_name)\n",
    "        df = pd.read_csv(local_file_path)\n",
    "        df['id'] = df['id'].astype(str)\n",
    "        print(f\"Loaded {file_name} from local storage.\")\n",
    "\n",
    "        # Concatenate or process the DataFrame as needed\n",
    "        df_txt = pd.concat([df_txt, df], ignore_index=True)\n",
    "\n",
    "    except Exception as e:\n",
    "        print(f\"Error processing {file_name}: {e}\")\n",
    "\n",
    "# Show\n",
    "df_txt.head()"
   ]
  },
  {
   "cell_type": "code",
   "execution_count": 13,
   "metadata": {},
   "outputs": [
    {
     "data": {
      "text/plain": [
       "389"
      ]
     },
     "execution_count": 13,
     "metadata": {},
     "output_type": "execute_result"
    }
   ],
   "source": [
    "# Length of file\n",
    "len(df_txt)"
   ]
  },
  {
   "cell_type": "markdown",
   "metadata": {
    "tags": []
   },
   "source": [
    "# Filter empty texts"
   ]
  },
  {
   "cell_type": "code",
   "execution_count": null,
   "metadata": {
    "tags": []
   },
   "outputs": [],
   "source": [
    "# Calculate the character count for each row in the specified column\n",
    "df_txt['character_count'] = df_txt['text'].apply(lambda x: len(str(x)) if pd.notna(x) else 0)\n",
    "\n",
    "# Filter rows based on the character count condition\n",
    "df_txt = df_txt[df_txt['character_count'] > 0].copy()\n",
    "\n",
    "# Drop the temporary 'character_count' column\n",
    "df_txt = df_txt.drop(columns=['character_count'])"
   ]
  },
  {
   "cell_type": "code",
   "execution_count": null,
   "metadata": {},
   "outputs": [
    {
     "data": {
      "text/plain": [
       "388"
      ]
     },
     "execution_count": 15,
     "metadata": {},
     "output_type": "execute_result"
    }
   ],
   "source": [
    "# Length of file\n",
    "len(df_txt)"
   ]
  },
  {
   "cell_type": "markdown",
   "metadata": {},
   "source": [
    "# Transformation Parameters"
   ]
  },
  {
   "cell_type": "code",
   "execution_count": null,
   "metadata": {},
   "outputs": [],
   "source": [
    "# Maximum length of a text\n",
    "max_chunk_size = config['max_chunk_size']\n",
    "\n",
    "# Chunk overlap\n",
    "chunk_overlap_size = config['chunk_overlap']\n",
    "\n",
    "# Separators\n",
    "separators = [\"\\n\\n\", \"\\n\", \". \", \" \", \"\"]"
   ]
  },
  {
   "cell_type": "markdown",
   "metadata": {},
   "source": [
    "# Recursive Splitter"
   ]
  },
  {
   "cell_type": "code",
   "execution_count": null,
   "metadata": {},
   "outputs": [],
   "source": [
    "# Set splitter\n",
    "splitter = RecursiveCharacterTextSplitter(\n",
    "    chunk_size = max_chunk_size,\n",
    "    chunk_overlap  = chunk_overlap_size,\n",
    "    length_function = len,\n",
    "    separators = separators\n",
    ")"
   ]
  },
  {
   "cell_type": "code",
   "execution_count": null,
   "metadata": {},
   "outputs": [],
   "source": [
    "# Auxiliar function\n",
    "def recursive_text_splitter(text):\n",
    "    chunks = splitter.split_text(text)\n",
    "    return chunks"
   ]
  },
  {
   "cell_type": "code",
   "execution_count": null,
   "metadata": {},
   "outputs": [
    {
     "data": {
      "text/html": [
       "<div>\n",
       "<style scoped>\n",
       "    .dataframe tbody tr th:only-of-type {\n",
       "        vertical-align: middle;\n",
       "    }\n",
       "\n",
       "    .dataframe tbody tr th {\n",
       "        vertical-align: top;\n",
       "    }\n",
       "\n",
       "    .dataframe thead th {\n",
       "        text-align: right;\n",
       "    }\n",
       "</style>\n",
       "<table border=\"1\" class=\"dataframe\">\n",
       "  <thead>\n",
       "    <tr style=\"text-align: right;\">\n",
       "      <th></th>\n",
       "      <th>id</th>\n",
       "      <th>url</th>\n",
       "      <th>title</th>\n",
       "      <th>date</th>\n",
       "      <th>legislative_origin</th>\n",
       "      <th>department</th>\n",
       "      <th>rang</th>\n",
       "      <th>text_id</th>\n",
       "      <th>text</th>\n",
       "    </tr>\n",
       "  </thead>\n",
       "  <tbody>\n",
       "    <tr>\n",
       "      <th>0</th>\n",
       "      <td>1978-7433</td>\n",
       "      <td>https://www.boe.es/diario_boe/xml.php?id=BOE-A...</td>\n",
       "      <td>Ley 17/1978, de 15 de marzo, sobre modificació...</td>\n",
       "      <td>1978-03-18</td>\n",
       "      <td>Estatal</td>\n",
       "      <td>Jefatura del Estado</td>\n",
       "      <td>Ley</td>\n",
       "      <td>1978-7433_chunk1</td>\n",
       "      <td>De conformidad con la Ley aprobada por las Cor...</td>\n",
       "    </tr>\n",
       "    <tr>\n",
       "      <th>1</th>\n",
       "      <td>1978-12341</td>\n",
       "      <td>https://www.boe.es/diario_boe/xml.php?id=BOE-A...</td>\n",
       "      <td>Ley 20/1978, de 8 de mayo, sobre modificación ...</td>\n",
       "      <td>1978-05-09</td>\n",
       "      <td>Estatal</td>\n",
       "      <td>Jefatura del Estado</td>\n",
       "      <td>Ley</td>\n",
       "      <td>1978-12341_chunk1</td>\n",
       "      <td>De conformidad con la Ley aprobada por las Cor...</td>\n",
       "    </tr>\n",
       "    <tr>\n",
       "      <th>2</th>\n",
       "      <td>1978-12341</td>\n",
       "      <td>https://www.boe.es/diario_boe/xml.php?id=BOE-A...</td>\n",
       "      <td>Ley 20/1978, de 8 de mayo, sobre modificación ...</td>\n",
       "      <td>1978-05-09</td>\n",
       "      <td>Estatal</td>\n",
       "      <td>Jefatura del Estado</td>\n",
       "      <td>Ley</td>\n",
       "      <td>1978-12341_chunk2</td>\n",
       "      <td>\\nTercera. La pena de multa de diez mil a cinc...</td>\n",
       "    </tr>\n",
       "    <tr>\n",
       "      <th>3</th>\n",
       "      <td>1978-12341</td>\n",
       "      <td>https://www.boe.es/diario_boe/xml.php?id=BOE-A...</td>\n",
       "      <td>Ley 20/1978, de 8 de mayo, sobre modificación ...</td>\n",
       "      <td>1978-05-09</td>\n",
       "      <td>Estatal</td>\n",
       "      <td>Jefatura del Estado</td>\n",
       "      <td>Ley</td>\n",
       "      <td>1978-12341_chunk3</td>\n",
       "      <td>Cuarta. La pena de multa de diez mil a cien mi...</td>\n",
       "    </tr>\n",
       "    <tr>\n",
       "      <th>4</th>\n",
       "      <td>1978-12341</td>\n",
       "      <td>https://www.boe.es/diario_boe/xml.php?id=BOE-A...</td>\n",
       "      <td>Ley 20/1978, de 8 de mayo, sobre modificación ...</td>\n",
       "      <td>1978-05-09</td>\n",
       "      <td>Estatal</td>\n",
       "      <td>Jefatura del Estado</td>\n",
       "      <td>Ley</td>\n",
       "      <td>1978-12341_chunk4</td>\n",
       "      <td>Quinta. La pena de multa de diez mil a doscien...</td>\n",
       "    </tr>\n",
       "  </tbody>\n",
       "</table>\n",
       "</div>"
      ],
      "text/plain": [
       "           id                                                url  \\\n",
       "0   1978-7433  https://www.boe.es/diario_boe/xml.php?id=BOE-A...   \n",
       "1  1978-12341  https://www.boe.es/diario_boe/xml.php?id=BOE-A...   \n",
       "2  1978-12341  https://www.boe.es/diario_boe/xml.php?id=BOE-A...   \n",
       "3  1978-12341  https://www.boe.es/diario_boe/xml.php?id=BOE-A...   \n",
       "4  1978-12341  https://www.boe.es/diario_boe/xml.php?id=BOE-A...   \n",
       "\n",
       "                                               title        date  \\\n",
       "0  Ley 17/1978, de 15 de marzo, sobre modificació...  1978-03-18   \n",
       "1  Ley 20/1978, de 8 de mayo, sobre modificación ...  1978-05-09   \n",
       "2  Ley 20/1978, de 8 de mayo, sobre modificación ...  1978-05-09   \n",
       "3  Ley 20/1978, de 8 de mayo, sobre modificación ...  1978-05-09   \n",
       "4  Ley 20/1978, de 8 de mayo, sobre modificación ...  1978-05-09   \n",
       "\n",
       "  legislative_origin           department rang            text_id  \\\n",
       "0            Estatal  Jefatura del Estado  Ley   1978-7433_chunk1   \n",
       "1            Estatal  Jefatura del Estado  Ley  1978-12341_chunk1   \n",
       "2            Estatal  Jefatura del Estado  Ley  1978-12341_chunk2   \n",
       "3            Estatal  Jefatura del Estado  Ley  1978-12341_chunk3   \n",
       "4            Estatal  Jefatura del Estado  Ley  1978-12341_chunk4   \n",
       "\n",
       "                                                text  \n",
       "0  De conformidad con la Ley aprobada por las Cor...  \n",
       "1  De conformidad con la Ley aprobada por las Cor...  \n",
       "2  \\nTercera. La pena de multa de diez mil a cinc...  \n",
       "3  Cuarta. La pena de multa de diez mil a cien mi...  \n",
       "4  Quinta. La pena de multa de diez mil a doscien...  "
      ]
     },
     "execution_count": 20,
     "metadata": {},
     "output_type": "execute_result"
    }
   ],
   "source": [
    "# Split each text in the 'text' column into chunks recursively\n",
    "df_txt['chunks'] = df_txt['text'].apply(lambda x: recursive_text_splitter(x))\n",
    "\n",
    "# Create a new DataFrame with individual chunks and unique identifiers\n",
    "chunks_list = []\n",
    "for idx, row in df_txt.iterrows():\n",
    "    for i, chunk in enumerate(row['chunks']):\n",
    "        chunks_list.append({\n",
    "            'id': row['id'],\n",
    "            'url': row['url'],\n",
    "            'title': row['title'],\n",
    "            'date': row['date'],\n",
    "            'legislative_origin': row['legislative_origin'],\n",
    "            'department': row['department'],\n",
    "            'rang': row['rang'],\n",
    "            'text_id': f\"{row['id']}_chunk{i+1}\",\n",
    "            'text': chunk\n",
    "        })\n",
    "\n",
    "# Drop the 'chunks' column\n",
    "df_txt = df_txt.drop(columns=['chunks'])\n",
    "\n",
    "# Create a new DataFrame for the chunks\n",
    "splitted_df_v1 = pd.DataFrame(chunks_list)\n",
    "\n",
    "# Show\n",
    "splitted_df_v1.head()"
   ]
  },
  {
   "cell_type": "code",
   "execution_count": null,
   "metadata": {},
   "outputs": [
    {
     "data": {
      "text/plain": [
       "3309"
      ]
     },
     "execution_count": 21,
     "metadata": {},
     "output_type": "execute_result"
    }
   ],
   "source": [
    "# Length of file/\n",
    "len(splitted_df_v1)"
   ]
  },
  {
   "cell_type": "code",
   "execution_count": null,
   "metadata": {},
   "outputs": [],
   "source": [
    "# Save splitted data\n",
    "path = 'prepared_data/'\n",
    "csv_file_name_v1 = f'{path}splitted_input_base.csv'\n",
    "\n",
    "# Write the DataFrame to a CSV file\n",
    "splitted_df_v1.to_csv(csv_file_name_v1, index = False)"
   ]
  },
  {
   "cell_type": "markdown",
   "metadata": {},
   "source": [
    "## Extract core from text"
   ]
  },
  {
   "cell_type": "code",
   "execution_count": null,
   "metadata": {},
   "outputs": [],
   "source": [
    "# Use text summary\n",
    "extract_core_text = config[\"extract_core_text\"]\n",
    "\n",
    "# Show\n",
    "extract_core_text"
   ]
  },
  {
   "cell_type": "code",
   "execution_count": null,
   "metadata": {},
   "outputs": [
    {
     "data": {
      "text/html": [
       "<div>\n",
       "<style scoped>\n",
       "    .dataframe tbody tr th:only-of-type {\n",
       "        vertical-align: middle;\n",
       "    }\n",
       "\n",
       "    .dataframe tbody tr th {\n",
       "        vertical-align: top;\n",
       "    }\n",
       "\n",
       "    .dataframe thead th {\n",
       "        text-align: right;\n",
       "    }\n",
       "</style>\n",
       "<table border=\"1\" class=\"dataframe\">\n",
       "  <thead>\n",
       "    <tr style=\"text-align: right;\">\n",
       "      <th></th>\n",
       "      <th>id</th>\n",
       "      <th>url</th>\n",
       "      <th>title</th>\n",
       "      <th>date</th>\n",
       "      <th>legislative_origin</th>\n",
       "      <th>department</th>\n",
       "      <th>rang</th>\n",
       "      <th>text_id</th>\n",
       "      <th>text</th>\n",
       "    </tr>\n",
       "  </thead>\n",
       "  <tbody>\n",
       "    <tr>\n",
       "      <th>0</th>\n",
       "      <td>1978-7433</td>\n",
       "      <td>https://www.boe.es/diario_boe/xml.php?id=BOE-A...</td>\n",
       "      <td>Ley 17/1978, de 15 de marzo, sobre modificació...</td>\n",
       "      <td>1978-03-18</td>\n",
       "      <td>Estatal</td>\n",
       "      <td>Jefatura del Estado</td>\n",
       "      <td>Ley</td>\n",
       "      <td>1978-7433_chunk1</td>\n",
       "      <td>Ley 17/1978, de 15 de marzo, sobre modificació...</td>\n",
       "    </tr>\n",
       "    <tr>\n",
       "      <th>1</th>\n",
       "      <td>1978-12341</td>\n",
       "      <td>https://www.boe.es/diario_boe/xml.php?id=BOE-A...</td>\n",
       "      <td>Ley 20/1978, de 8 de mayo, sobre modificación ...</td>\n",
       "      <td>1978-05-09</td>\n",
       "      <td>Estatal</td>\n",
       "      <td>Jefatura del Estado</td>\n",
       "      <td>Ley</td>\n",
       "      <td>1978-12341_chunk1</td>\n",
       "      <td>Ley 20/1978, de 8 de mayo, sobre modificación ...</td>\n",
       "    </tr>\n",
       "    <tr>\n",
       "      <th>2</th>\n",
       "      <td>1978-12341</td>\n",
       "      <td>https://www.boe.es/diario_boe/xml.php?id=BOE-A...</td>\n",
       "      <td>Ley 20/1978, de 8 de mayo, sobre modificación ...</td>\n",
       "      <td>1978-05-09</td>\n",
       "      <td>Estatal</td>\n",
       "      <td>Jefatura del Estado</td>\n",
       "      <td>Ley</td>\n",
       "      <td>1978-12341_chunk2</td>\n",
       "      <td>Ley 20/1978, de 8 de mayo, sobre modificación ...</td>\n",
       "    </tr>\n",
       "    <tr>\n",
       "      <th>3</th>\n",
       "      <td>1978-12341</td>\n",
       "      <td>https://www.boe.es/diario_boe/xml.php?id=BOE-A...</td>\n",
       "      <td>Ley 20/1978, de 8 de mayo, sobre modificación ...</td>\n",
       "      <td>1978-05-09</td>\n",
       "      <td>Estatal</td>\n",
       "      <td>Jefatura del Estado</td>\n",
       "      <td>Ley</td>\n",
       "      <td>1978-12341_chunk3</td>\n",
       "      <td>Ley 20/1978, de 8 de mayo, sobre modificación ...</td>\n",
       "    </tr>\n",
       "    <tr>\n",
       "      <th>4</th>\n",
       "      <td>1978-12341</td>\n",
       "      <td>https://www.boe.es/diario_boe/xml.php?id=BOE-A...</td>\n",
       "      <td>Ley 20/1978, de 8 de mayo, sobre modificación ...</td>\n",
       "      <td>1978-05-09</td>\n",
       "      <td>Estatal</td>\n",
       "      <td>Jefatura del Estado</td>\n",
       "      <td>Ley</td>\n",
       "      <td>1978-12341_chunk4</td>\n",
       "      <td>Ley 20/1978, de 8 de mayo, sobre modificación ...</td>\n",
       "    </tr>\n",
       "  </tbody>\n",
       "</table>\n",
       "</div>"
      ],
      "text/plain": [
       "           id                                                url  \\\n",
       "0   1978-7433  https://www.boe.es/diario_boe/xml.php?id=BOE-A...   \n",
       "1  1978-12341  https://www.boe.es/diario_boe/xml.php?id=BOE-A...   \n",
       "2  1978-12341  https://www.boe.es/diario_boe/xml.php?id=BOE-A...   \n",
       "3  1978-12341  https://www.boe.es/diario_boe/xml.php?id=BOE-A...   \n",
       "4  1978-12341  https://www.boe.es/diario_boe/xml.php?id=BOE-A...   \n",
       "\n",
       "                                               title        date  \\\n",
       "0  Ley 17/1978, de 15 de marzo, sobre modificació...  1978-03-18   \n",
       "1  Ley 20/1978, de 8 de mayo, sobre modificación ...  1978-05-09   \n",
       "2  Ley 20/1978, de 8 de mayo, sobre modificación ...  1978-05-09   \n",
       "3  Ley 20/1978, de 8 de mayo, sobre modificación ...  1978-05-09   \n",
       "4  Ley 20/1978, de 8 de mayo, sobre modificación ...  1978-05-09   \n",
       "\n",
       "  legislative_origin           department rang            text_id  \\\n",
       "0            Estatal  Jefatura del Estado  Ley   1978-7433_chunk1   \n",
       "1            Estatal  Jefatura del Estado  Ley  1978-12341_chunk1   \n",
       "2            Estatal  Jefatura del Estado  Ley  1978-12341_chunk2   \n",
       "3            Estatal  Jefatura del Estado  Ley  1978-12341_chunk3   \n",
       "4            Estatal  Jefatura del Estado  Ley  1978-12341_chunk4   \n",
       "\n",
       "                                                text  \n",
       "0  Ley 17/1978, de 15 de marzo, sobre modificació...  \n",
       "1  Ley 20/1978, de 8 de mayo, sobre modificación ...  \n",
       "2  Ley 20/1978, de 8 de mayo, sobre modificación ...  \n",
       "3  Ley 20/1978, de 8 de mayo, sobre modificación ...  \n",
       "4  Ley 20/1978, de 8 de mayo, sobre modificación ...  "
      ]
     },
     "execution_count": 23,
     "metadata": {},
     "output_type": "execute_result"
    }
   ],
   "source": [
    "# Conditional generation\n",
    "if extract_core_text:\n",
    "    \n",
    "    # Tokenizer\n",
    "    core_tokenizer = transformers.AutoTokenizer.from_pretrained(\n",
    "        core_model_id\n",
    "    )\n",
    "    \n",
    "    # Set BNB configuration if quantization is enabled\n",
    "    bnb_config = transformers.BitsAndBytesConfig(\n",
    "        load_in_4bit=True,\n",
    "        bnb_4bit_quant_type='nf4',\n",
    "        bnb_4bit_use_double_quant=True,\n",
    "        bnb_4bit_compute_dtype=torch.bfloat16\n",
    "    ) if use_quantization else None\n",
    "    \n",
    "    # Set model\n",
    "    core_model = transformers.AutoModelForCausalLM.from_pretrained(\n",
    "        core_model_id,\n",
    "        trust_remote_code = True,\n",
    "        quantization_config = bnb_config,\n",
    "        device_map = \"auto\"\n",
    "    )\n",
    "    \n",
    "    # Pipeline\n",
    "    core_pipeline = pipeline(\n",
    "        model = core_model,\n",
    "        tokenizer = core_tokenizer,\n",
    "        task = 'text-generation',\n",
    "        model_kwargs = {\"torch_dtype\": torch.bfloat16},\n",
    "        return_full_text = config[\"core_return_full_text\"],\n",
    "        max_new_tokens = config[\"core_max_new_tokens\"],\n",
    "        repetition_penalty = config[\"core_repetition_penalty\"],\n",
    "        temperature = config[\"core_temperature\"],\n",
    "        pad_token_id = core_tokenizer.eos_token_id,\n",
    "        truncation = True,\n",
    "        batch_size = 1\n",
    "    )\n",
    "    \n",
    "    # Create object for loop\n",
    "    splitted_df_v1_summary = splitted_df_v1.copy()\n",
    "\n",
    "    # Initialize variables for token count and time measurement\n",
    "    total_tokens_processed = 0\n",
    "    start_time = time.time()\n",
    "\n",
    "    # Iteration counter\n",
    "    iteration_counter = 0\n",
    "\n",
    "    # Loop by row to generate one summary per text\n",
    "    for text_idx, core_context in tqdm(enumerate(splitted_df_v1_summary['text']), total=len(splitted_df_v1_summary)):\n",
    "        \n",
    "        # Generate summary\n",
    "        summarized_text = generate_summary(core_pipeline, core_tokenizer, core_prompt, core_context)\n",
    "        \n",
    "        # Assign summary\n",
    "        splitted_df_v1_summary.at[text_idx, 'core'] = summarized_text\n",
    "        \n",
    "        # Increment the iteration counter\n",
    "        iteration_counter += 1\n",
    "        \n",
    "        # Check if it's time to perform garbage collection\n",
    "        if iteration_counter % 1000 == 0:\n",
    "            # Clean memory\n",
    "            torch.cuda.empty_cache()\n",
    "            gc.collect()\n",
    "\n",
    "    # Calculate elapsed time\n",
    "    end_time = time.time()\n",
    "    elapsed_time = end_time - start_time\n",
    "\n",
    "    # Final format\n",
    "    splitted_df_v1_summary = splitted_df_v1_summary.rename(\n",
    "        columns={'text': 'original_text', 'core': 'text'}\n",
    "    )\n",
    "\n",
    "    # Save splitted & summarized data\n",
    "    path = 'prepared_data/'\n",
    "    csv_file_name_v1_summary = f'{path}splitted_input_core.csv'\n",
    "\n",
    "    # Write the DataFrame to a CSV file\n",
    "    splitted_df_v1_summary.to_csv(csv_file_name_v1_summary, index=False)\n",
    "\n",
    "    # Show\n",
    "    splitted_df_v1_summary.head()"
   ]
  },
  {
   "cell_type": "markdown",
   "metadata": {},
   "source": [
    "# Clean"
   ]
  },
  {
   "cell_type": "code",
   "execution_count": null,
   "metadata": {},
   "outputs": [],
   "source": [
    "# CUDA information\n",
    "if torch.cuda.is_available():\n",
    "    device = torch.device(\"cuda\")\n",
    "    print(torch.cuda.get_device_name(0))\n",
    "    print('Memory Usage:')\n",
    "    allocated_memory = torch.cuda.memory_allocated(0) / (1024**3)  # Convert bytes to GB\n",
    "    cached_memory = torch.cuda.memory_reserved(0) / (1024**3)  # Convert bytes to GB\n",
    "    total_memory = torch.cuda.get_device_properties(0).total_memory / (1024**3)  # Convert bytes to GB\n",
    "    available_memory = total_memory - cached_memory\n",
    "    print('Allocated:   ', round(allocated_memory, 1), 'GB')\n",
    "    print('Cached:      ', round(cached_memory, 1), 'GB')\n",
    "    print('Available:  ', round(available_memory, 1), 'GB')\n",
    "    print('Total:      ', round(total_memory, 1), 'GB')"
   ]
  },
  {
   "cell_type": "code",
   "execution_count": null,
   "metadata": {},
   "outputs": [
    {
     "data": {
      "text/html": [
       "<div>\n",
       "<style scoped>\n",
       "    .dataframe tbody tr th:only-of-type {\n",
       "        vertical-align: middle;\n",
       "    }\n",
       "\n",
       "    .dataframe tbody tr th {\n",
       "        vertical-align: top;\n",
       "    }\n",
       "\n",
       "    .dataframe thead th {\n",
       "        text-align: right;\n",
       "    }\n",
       "</style>\n",
       "<table border=\"1\" class=\"dataframe\">\n",
       "  <thead>\n",
       "    <tr style=\"text-align: right;\">\n",
       "      <th></th>\n",
       "      <th>id</th>\n",
       "      <th>url</th>\n",
       "      <th>title</th>\n",
       "      <th>date</th>\n",
       "      <th>legislative_origin</th>\n",
       "      <th>department</th>\n",
       "      <th>rang</th>\n",
       "      <th>text_id</th>\n",
       "      <th>text</th>\n",
       "    </tr>\n",
       "  </thead>\n",
       "  <tbody>\n",
       "    <tr>\n",
       "      <th>0</th>\n",
       "      <td>1978-7433</td>\n",
       "      <td>https://www.boe.es/diario_boe/xml.php?id=BOE-A...</td>\n",
       "      <td>Ley 17/1978, de 15 de marzo, sobre modificació...</td>\n",
       "      <td>1978-03-18</td>\n",
       "      <td>Estatal</td>\n",
       "      <td>Jefatura del Estado</td>\n",
       "      <td>Ley</td>\n",
       "      <td>1978-7433_chunk1</td>\n",
       "      <td>De conformidad con la Ley aprobada por las Cor...</td>\n",
       "    </tr>\n",
       "    <tr>\n",
       "      <th>1</th>\n",
       "      <td>1978-12341</td>\n",
       "      <td>https://www.boe.es/diario_boe/xml.php?id=BOE-A...</td>\n",
       "      <td>Ley 20/1978, de 8 de mayo, sobre modificación ...</td>\n",
       "      <td>1978-05-09</td>\n",
       "      <td>Estatal</td>\n",
       "      <td>Jefatura del Estado</td>\n",
       "      <td>Ley</td>\n",
       "      <td>1978-12341_chunk1</td>\n",
       "      <td>De conformidad con la Ley aprobada por las Cor...</td>\n",
       "    </tr>\n",
       "    <tr>\n",
       "      <th>2</th>\n",
       "      <td>1978-12341</td>\n",
       "      <td>https://www.boe.es/diario_boe/xml.php?id=BOE-A...</td>\n",
       "      <td>Ley 20/1978, de 8 de mayo, sobre modificación ...</td>\n",
       "      <td>1978-05-09</td>\n",
       "      <td>Estatal</td>\n",
       "      <td>Jefatura del Estado</td>\n",
       "      <td>Ley</td>\n",
       "      <td>1978-12341_chunk2</td>\n",
       "      <td>entenderá en lo sucesivo de mil a veinte mil p...</td>\n",
       "    </tr>\n",
       "    <tr>\n",
       "      <th>3</th>\n",
       "      <td>1978-18551</td>\n",
       "      <td>https://www.boe.es/diario_boe/xml.php?id=BOE-A...</td>\n",
       "      <td>Ley 31/1978, de 17 de julio, de modificación d...</td>\n",
       "      <td>1978-07-20</td>\n",
       "      <td>Estatal</td>\n",
       "      <td>Jefatura del Estado</td>\n",
       "      <td>Ley</td>\n",
       "      <td>1978-18551_chunk1</td>\n",
       "      <td>De conformidad con la Ley aprobada por las Cor...</td>\n",
       "    </tr>\n",
       "    <tr>\n",
       "      <th>4</th>\n",
       "      <td>1978-25564</td>\n",
       "      <td>https://www.boe.es/diario_boe/xml.php?id=BOE-A...</td>\n",
       "      <td>Ley 45/1978, de 7 de octubre, por la que se mo...</td>\n",
       "      <td>1978-10-11</td>\n",
       "      <td>Estatal</td>\n",
       "      <td>Jefatura del Estado</td>\n",
       "      <td>Ley</td>\n",
       "      <td>1978-25564_chunk1</td>\n",
       "      <td>De conformidad con la Ley aprobada por las Cor...</td>\n",
       "    </tr>\n",
       "  </tbody>\n",
       "</table>\n",
       "</div>"
      ],
      "text/plain": [
       "           id                                                url  \\\n",
       "0   1978-7433  https://www.boe.es/diario_boe/xml.php?id=BOE-A...   \n",
       "1  1978-12341  https://www.boe.es/diario_boe/xml.php?id=BOE-A...   \n",
       "2  1978-12341  https://www.boe.es/diario_boe/xml.php?id=BOE-A...   \n",
       "3  1978-18551  https://www.boe.es/diario_boe/xml.php?id=BOE-A...   \n",
       "4  1978-25564  https://www.boe.es/diario_boe/xml.php?id=BOE-A...   \n",
       "\n",
       "                                               title        date  \\\n",
       "0  Ley 17/1978, de 15 de marzo, sobre modificació...  1978-03-18   \n",
       "1  Ley 20/1978, de 8 de mayo, sobre modificación ...  1978-05-09   \n",
       "2  Ley 20/1978, de 8 de mayo, sobre modificación ...  1978-05-09   \n",
       "3  Ley 31/1978, de 17 de julio, de modificación d...  1978-07-20   \n",
       "4  Ley 45/1978, de 7 de octubre, por la que se mo...  1978-10-11   \n",
       "\n",
       "  legislative_origin           department rang            text_id  \\\n",
       "0            Estatal  Jefatura del Estado  Ley   1978-7433_chunk1   \n",
       "1            Estatal  Jefatura del Estado  Ley  1978-12341_chunk1   \n",
       "2            Estatal  Jefatura del Estado  Ley  1978-12341_chunk2   \n",
       "3            Estatal  Jefatura del Estado  Ley  1978-18551_chunk1   \n",
       "4            Estatal  Jefatura del Estado  Ley  1978-25564_chunk1   \n",
       "\n",
       "                                                text  \n",
       "0  De conformidad con la Ley aprobada por las Cor...  \n",
       "1  De conformidad con la Ley aprobada por las Cor...  \n",
       "2  entenderá en lo sucesivo de mil a veinte mil p...  \n",
       "3  De conformidad con la Ley aprobada por las Cor...  \n",
       "4  De conformidad con la Ley aprobada por las Cor...  "
      ]
     },
     "execution_count": 26,
     "metadata": {},
     "output_type": "execute_result"
    }
   ],
   "source": [
    "# Clean memory\n",
    "torch.cuda.empty_cache()\n",
    "gc.collect()"
   ]
  },
  {
   "cell_type": "markdown",
   "metadata": {},
   "source": [
    "# Runtime"
   ]
  },
  {
   "cell_type": "code",
   "execution_count": null,
   "metadata": {},
   "outputs": [],
   "source": [
    "# Sum total tokens\n",
    "total_tokens_processed = splitted_df_v1['text'].apply(lambda x: count_tokens(x)).sum()\n",
    "\n",
    "# Show\n",
    "print(\"Total number of tokens in the 'text' column:\", total_tokens_processed)"
   ]
  },
  {
   "cell_type": "code",
   "execution_count": null,
   "metadata": {},
   "outputs": [],
   "source": [
    "# End time of notebook run\n",
    "end_time = time.time()\n",
    "elapsed_time = end_time - start_time\n",
    "\n",
    "# Convert elapsed time to hours and minutes\n",
    "hours = int(elapsed_time // 3600)\n",
    "minutes = int((elapsed_time % 3600) // 60)\n",
    "\n",
    "# Print the result\n",
    "print(f\"Time elapsed: {hours} hours and {minutes} minutes.\")"
   ]
  }
 ],
 "metadata": {
  "kernelspec": {
   "display_name": "Python 3 (ipykernel)",
   "language": "python",
   "name": "python3"
  },
  "language_info": {
   "codemirror_mode": {
    "name": "ipython",
    "version": 3
   },
   "file_extension": ".py",
   "mimetype": "text/x-python",
   "name": "python",
   "nbconvert_exporter": "python",
   "pygments_lexer": "ipython3",
   "version": "3.9.16"
  }
 },
 "nbformat": 4,
 "nbformat_minor": 4
}
