{
 "cells": [
  {
   "cell_type": "markdown",
   "metadata": {},
   "source": [
    "# Groq model"
   ]
  },
  {
   "cell_type": "markdown",
   "metadata": {},
   "source": [
    "# Setup"
   ]
  },
  {
   "cell_type": "code",
   "execution_count": 50,
   "metadata": {},
   "outputs": [
    {
     "name": "stdout",
     "output_type": "stream",
     "text": [
      "3.12.2 | packaged by Anaconda, Inc. | (main, Feb 27 2024, 11:35:17) [Clang 14.0.6 ]\n"
     ]
    }
   ],
   "source": [
    "# Python version\n",
    "import sys \n",
    "print(sys.version)"
   ]
  },
  {
   "cell_type": "code",
   "execution_count": 51,
   "metadata": {},
   "outputs": [
    {
     "data": {
      "text/plain": [
       "True"
      ]
     },
     "execution_count": 51,
     "metadata": {},
     "output_type": "execute_result"
    }
   ],
   "source": [
    "# Environment Variables\n",
    "from dotenv import load_dotenv\n",
    "import yaml\n",
    "import os\n",
    "\n",
    "# Load env\n",
    "load_dotenv()"
   ]
  },
  {
   "cell_type": "code",
   "execution_count": 52,
   "metadata": {},
   "outputs": [],
   "source": [
    "# Torch config\n",
    "from torch import cuda, bfloat16, float16\n",
    "import torch\n",
    "\n",
    "# Torch options\n",
    "torch.backends.cuda.enable_mem_efficient_sdp(False)\n",
    "torch.backends.cuda.enable_flash_sdp(False)"
   ]
  },
  {
   "cell_type": "code",
   "execution_count": 53,
   "metadata": {},
   "outputs": [
    {
     "name": "stderr",
     "output_type": "stream",
     "text": [
      "huggingface/tokenizers: The current process just got forked, after parallelism has already been used. Disabling parallelism to avoid deadlocks...\n",
      "To disable this warning, you can either:\n",
      "\t- Avoid using `tokenizers` before the fork if possible\n",
      "\t- Explicitly set the environment variable TOKENIZERS_PARALLELISM=(true | false)\n"
     ]
    },
    {
     "name": "stdout",
     "output_type": "stream",
     "text": [
      "usage: jupyter [-h] [--version] [--config-dir] [--data-dir] [--runtime-dir]\n",
      "               [--paths] [--json] [--debug]\n",
      "               [subcommand]\n",
      "\n",
      "Jupyter: Interactive Computing\n",
      "\n",
      "positional arguments:\n",
      "  subcommand     the subcommand to launch\n",
      "\n",
      "options:\n",
      "  -h, --help     show this help message and exit\n",
      "  --version      show the versions of core jupyter packages and exit\n",
      "  --config-dir   show Jupyter config dir\n",
      "  --data-dir     show Jupyter data dir\n",
      "  --runtime-dir  show Jupyter runtime dir\n",
      "  --paths        show all Jupyter paths. Add --json for machine-readable\n",
      "                 format.\n",
      "  --json         output paths as machine-readable json\n",
      "  --debug        output debug information about paths\n",
      "\n",
      "Available subcommands: dejavu execute kernel kernelspec migrate nbconvert run\n",
      "troubleshoot trust\n",
      "\n",
      "Jupyter command `jupyter-nbextension` not found.\n"
     ]
    }
   ],
   "source": [
    "# Jupyter extensions\n",
    "!jupyter nbextension enable --py widgetsnbextension"
   ]
  },
  {
   "cell_type": "markdown",
   "metadata": {},
   "source": [
    "# Parameters"
   ]
  },
  {
   "cell_type": "code",
   "execution_count": 54,
   "metadata": {},
   "outputs": [],
   "source": [
    "# Load parameters from YAML file\n",
    "with open('../config.yaml', 'r') as file:\n",
    "    config = yaml.safe_load(file)"
   ]
  },
  {
   "cell_type": "code",
   "execution_count": 55,
   "metadata": {},
   "outputs": [
    {
     "data": {
      "text/plain": [
       "False"
      ]
     },
     "execution_count": 55,
     "metadata": {},
     "output_type": "execute_result"
    }
   ],
   "source": [
    "# Use optimum\n",
    "use_optimum = config[\"use_optimum\"]\n",
    "\n",
    "# Show\n",
    "use_optimum"
   ]
  },
  {
   "cell_type": "markdown",
   "metadata": {},
   "source": [
    "# Reference"
   ]
  },
  {
   "cell_type": "markdown",
   "metadata": {},
   "source": [
    "- https://wandb.ai/tensorgirl/uncategorized/reports/Restaurant-menu-ordering-Chatbot-using-Gemma-Langchain-and-Chroma-DB--Vmlldzo2OTUxNjE3\n",
    "- https://www.youtube.com/watch?v=6dyz2M_UWLwhttps://www.youtube.com/watch?v=6dyz2M_UWLw\n",
    "- https://www.youtube.com/watch?v=XctooiH0moI&ab_channel=IBMTechnology\n",
    "- https://www.youtube.com/watch?v=h5wLuVDr0oc&ab_channel=AssemblyAI\n",
    "- https://www.youtube.com/watch?v=sBhK-2K9bUc&ab_channel=CodingIsFun\n",
    "- https://www.gradio.app/guides/creating-a-custom-chatbot-with-blocks"
   ]
  },
  {
   "cell_type": "markdown",
   "metadata": {
    "tags": []
   },
   "source": [
    "# Directory"
   ]
  },
  {
   "cell_type": "code",
   "execution_count": 56,
   "metadata": {},
   "outputs": [
    {
     "data": {
      "text/plain": [
       "'/Users/ignasipascual/GitHub/LawGPT/models'"
      ]
     },
     "execution_count": 56,
     "metadata": {},
     "output_type": "execute_result"
    }
   ],
   "source": [
    "# Set directory to file location\n",
    "from pathlib import Path\n",
    "notebook_location = Path(os.path.abspath(''))\n",
    "os.chdir(notebook_location)\n",
    "\n",
    "# Get the current working directory\n",
    "current_directory = os.getcwd()\n",
    "current_directory"
   ]
  },
  {
   "cell_type": "markdown",
   "metadata": {},
   "source": [
    "# Libraries"
   ]
  },
  {
   "cell_type": "code",
   "execution_count": 57,
   "metadata": {},
   "outputs": [],
   "source": [
    "# Langchain\n",
    "from langchain.embeddings.huggingface import HuggingFaceEmbeddings\n",
    "from langchain_core.prompts import ChatPromptTemplate\n",
    "from langchain import PromptTemplate\n",
    "\n",
    "# Pinecone\n",
    "from langchain_pinecone import PineconeVectorStore  \n",
    "from pinecone import Pinecone\n",
    "\n",
    "# Groq\n",
    "from langchain_groq import ChatGroq"
   ]
  },
  {
   "cell_type": "code",
   "execution_count": 58,
   "metadata": {},
   "outputs": [],
   "source": [
    "# Warnings\n",
    "import warnings\n",
    "warnings.filterwarnings(\"ignore\")"
   ]
  },
  {
   "cell_type": "markdown",
   "metadata": {},
   "source": [
    "# Device"
   ]
  },
  {
   "cell_type": "code",
   "execution_count": 59,
   "metadata": {},
   "outputs": [
    {
     "name": "stdout",
     "output_type": "stream",
     "text": [
      "Using device: cpu\n",
      "\n"
     ]
    }
   ],
   "source": [
    "# Setting device on GPU if available, else CPU\n",
    "device = torch.device('cuda' if torch.cuda.is_available() else 'cpu')\n",
    "print('Using device:', device)\n",
    "print()\n",
    "\n",
    "# CUDA information\n",
    "if torch.cuda.is_available():\n",
    "    device = torch.device(\"cuda\")\n",
    "    print(torch.cuda.get_device_name(0))\n",
    "    print('Memory Usage:')\n",
    "    allocated_memory = torch.cuda.memory_allocated(0) / (1024**3)  # Convert bytes to GB\n",
    "    cached_memory = torch.cuda.memory_reserved(0) / (1024**3)  # Convert bytes to GB\n",
    "    total_memory = torch.cuda.get_device_properties(0).total_memory / (1024**3)  # Convert bytes to GB\n",
    "    available_memory = total_memory - cached_memory\n",
    "    print('Allocated:   ', round(allocated_memory, 1), 'GB')\n",
    "    print('Cached:      ', round(cached_memory, 1), 'GB')\n",
    "    print('Available:  ', round(available_memory, 1), 'GB')\n",
    "    print('Total:      ', round(total_memory, 1), 'GB')"
   ]
  },
  {
   "cell_type": "markdown",
   "metadata": {},
   "source": [
    "# Pinecone"
   ]
  },
  {
   "cell_type": "code",
   "execution_count": 60,
   "metadata": {},
   "outputs": [
    {
     "data": {
      "text/plain": [
       "{'dimension': 768,\n",
       " 'index_fullness': 0.07139,\n",
       " 'namespaces': {'': {'vector_count': 7139}},\n",
       " 'total_vector_count': 7139}"
      ]
     },
     "execution_count": 60,
     "metadata": {},
     "output_type": "execute_result"
    }
   ],
   "source": [
    "# Init pinecone\n",
    "pinecone = Pinecone(api_key = os.environ.get('PINECONE_API_KEY'))\n",
    "\n",
    "# Connect\n",
    "index_name = 'lawgpt-unstructured-db'\n",
    "index = pinecone.Index(index_name)\n",
    "\n",
    "# Index stats\n",
    "index.describe_index_stats()"
   ]
  },
  {
   "cell_type": "markdown",
   "metadata": {},
   "source": [
    "# Embeddings"
   ]
  },
  {
   "cell_type": "code",
   "execution_count": 61,
   "metadata": {},
   "outputs": [],
   "source": [
    "# Model ID\n",
    "embed_model_id = config[\"embedding_model\"]\n",
    "\n",
    "# Embed model\n",
    "embed_model = HuggingFaceEmbeddings(\n",
    "    model_name = embed_model_id,\n",
    "    model_kwargs = {'device': device},\n",
    "    encode_kwargs = {'device': device, 'batch_size': 32}\n",
    ") "
   ]
  },
  {
   "cell_type": "markdown",
   "metadata": {},
   "source": [
    "# Command"
   ]
  },
  {
   "cell_type": "code",
   "execution_count": 62,
   "metadata": {},
   "outputs": [],
   "source": [
    "# Get pre-prompt\n",
    "pre_prompt = config[\"pre_prompt\"]\n",
    "\n",
    "# Create prompt context\n",
    "prompt_context = config[\"prompt_context\"]"
   ]
  },
  {
   "cell_type": "code",
   "execution_count": 63,
   "metadata": {},
   "outputs": [],
   "source": [
    "# Google template\n",
    "template = f\"\"\"\n",
    "<start_of_turn>user\n",
    "{pre_prompt}. {prompt_context} A continuación se proporciona el contexto: \n",
    "Contexto: {{context}} \n",
    "Pregunta: {{query}}\n",
    "<start_of_turn>model\n",
    "Respuesta: \"\"\""
   ]
  },
  {
   "cell_type": "code",
   "execution_count": 64,
   "metadata": {},
   "outputs": [],
   "source": [
    "# Prompt Template\n",
    "prompt = PromptTemplate(\n",
    "    template = template, \n",
    "    input_variables = [\"context\", \"query\"]\n",
    ")"
   ]
  },
  {
   "cell_type": "markdown",
   "metadata": {},
   "source": [
    "# Vector store"
   ]
  },
  {
   "cell_type": "code",
   "execution_count": 65,
   "metadata": {},
   "outputs": [
    {
     "data": {
      "text/plain": [
       "<langchain_pinecone.vectorstores.PineconeVectorStore at 0x163e6ff20>"
      ]
     },
     "execution_count": 65,
     "metadata": {},
     "output_type": "execute_result"
    }
   ],
   "source": [
    "# Text field\n",
    "text_field = \"text\"  \n",
    "\n",
    "# Vector store\n",
    "vectorstore = PineconeVectorStore(index, embed_model, text_field)  \n",
    "\n",
    "# Show\n",
    "vectorstore"
   ]
  },
  {
   "cell_type": "markdown",
   "metadata": {},
   "source": [
    "# LLM Model"
   ]
  },
  {
   "cell_type": "code",
   "execution_count": 66,
   "metadata": {},
   "outputs": [
    {
     "data": {
      "text/plain": [
       "ChatGroq(client=<groq.resources.chat.completions.Completions object at 0x163e6fc20>, async_client=<groq.resources.chat.completions.AsyncCompletions object at 0x163e6dee0>, temperature=1e-08, groq_api_key=SecretStr('**********'))"
      ]
     },
     "execution_count": 66,
     "metadata": {},
     "output_type": "execute_result"
    }
   ],
   "source": [
    "# Initialize Groq Langchain chat object and conversation\n",
    "groq_chat = ChatGroq(\n",
    "        groq_api_key = os.environ.get('GROQ_API_KEY'), \n",
    "        model_name = config[\"app_model\"],\n",
    "        temperature = config[\"app_temperature\"]\n",
    ")\n",
    "\n",
    "# Show\n",
    "groq_chat"
   ]
  },
  {
   "cell_type": "code",
   "execution_count": 67,
   "metadata": {},
   "outputs": [
    {
     "data": {
      "text/plain": [
       "ChatPromptTemplate(input_variables=['context', 'query'], messages=[SystemMessagePromptTemplate(prompt=PromptTemplate(input_variables=['context', 'query'], template='\\n<start_of_turn>user\\nEres un asistente experto en derecho y leyes españolas y tu objetivo es proporcionar respuestas exhaustivas y precisas a las preguntas planteadas por tus clientes.\\nAsegúrate de basar tus respuestas en el contexto proporcionado, utilizando todas las leyes y normativas relevantes para fundamentar tus argumentos.\\nEs crucial que todas las respuestas estén redactadas en español y presentadas de forma clara y coherente.\\nConsidera ofrecer ejemplos o casos hipotéticos para ilustrar tus puntos de vista.\\n. A continuación, se presenta la información relevante que debes usar para responder a las consultas de los clientes. \\nEn caso de no encontrar la respuesta, debes indicarlo de forma explícita.\\n A continuación se proporciona el contexto: \\nContexto: {context} \\nPregunta: {query}\\n<start_of_turn>model\\nRespuesta: ')), HumanMessagePromptTemplate(prompt=PromptTemplate(input_variables=['query'], template='{query}'))])"
      ]
     },
     "execution_count": 67,
     "metadata": {},
     "output_type": "execute_result"
    }
   ],
   "source": [
    "# Prepare prompt\n",
    "prompt = ChatPromptTemplate.from_messages([(\"system\", template), (\"human\", \"{query}\")])\n",
    "\n",
    "# Show\n",
    "prompt"
   ]
  },
  {
   "cell_type": "code",
   "execution_count": 68,
   "metadata": {},
   "outputs": [
    {
     "data": {
      "text/plain": [
       "ChatPromptTemplate(input_variables=['context', 'query'], messages=[SystemMessagePromptTemplate(prompt=PromptTemplate(input_variables=['context', 'query'], template='\\n<start_of_turn>user\\nEres un asistente experto en derecho y leyes españolas y tu objetivo es proporcionar respuestas exhaustivas y precisas a las preguntas planteadas por tus clientes.\\nAsegúrate de basar tus respuestas en el contexto proporcionado, utilizando todas las leyes y normativas relevantes para fundamentar tus argumentos.\\nEs crucial que todas las respuestas estén redactadas en español y presentadas de forma clara y coherente.\\nConsidera ofrecer ejemplos o casos hipotéticos para ilustrar tus puntos de vista.\\n. A continuación, se presenta la información relevante que debes usar para responder a las consultas de los clientes. \\nEn caso de no encontrar la respuesta, debes indicarlo de forma explícita.\\n A continuación se proporciona el contexto: \\nContexto: {context} \\nPregunta: {query}\\n<start_of_turn>model\\nRespuesta: ')), HumanMessagePromptTemplate(prompt=PromptTemplate(input_variables=['query'], template='{query}'))])\n",
       "| ChatGroq(client=<groq.resources.chat.completions.Completions object at 0x163e6fc20>, async_client=<groq.resources.chat.completions.AsyncCompletions object at 0x163e6dee0>, temperature=1e-08, groq_api_key=SecretStr('**********'))"
      ]
     },
     "execution_count": 68,
     "metadata": {},
     "output_type": "execute_result"
    }
   ],
   "source": [
    "# Create chain\n",
    "chain = prompt | groq_chat\n",
    "\n",
    "# Show\n",
    "chain"
   ]
  },
  {
   "cell_type": "markdown",
   "metadata": {},
   "source": [
    "# Run model"
   ]
  },
  {
   "cell_type": "code",
   "execution_count": 69,
   "metadata": {},
   "outputs": [],
   "source": [
    "# Query\n",
    "query = \"Explicame el articulo 245 del codigo penal español que hace referencia a usurpaciones\""
   ]
  },
  {
   "cell_type": "code",
   "execution_count": 70,
   "metadata": {},
   "outputs": [
    {
     "data": {
      "text/plain": [
       "[{'date': '1995-11-24',\n",
       "  'title': 'Ley Orgánica 10/1995, de 23 de noviembre, del Código Penal.',\n",
       "  'context': '2. La misma pena se aplicará al que hiciere uso, a sabiendas, de la certificación falsa.\\nCAPITULO III\\nDisposición general\\nArtículo 400.\\nLa fabricación o tenencia de útiles, materiales, instrumentos, sustancias, máquinas, programas de ordenador o aparatos, específicamente destinados a la comisión de los delitos descritos en los capítulos anteriores, se castigarán con la pena señalada en cada caso para los autores.\\nCAPITULO IV\\nDe la usurpación del estado civil\\nArtículo 401.\\nEl que usurpare el estado civil de otro será castigado con la pena de prisión de seis meses a tres años.\\nCAPITULO V\\nDe la usurpación de funciones públicas y del intrusismo\\nArtículo 402.\\nEl que ilegítimamente ejerciere actos propios de una autoridad o funcionario público atribuyéndose carácter oficial, será castigado con la pena de prisión de uno a tres años.\\nArtículo 403.',\n",
       "  'url': 'https://www.boe.es/diario_boe/xml.php?id=BOE-A-1995-25444',\n",
       "  'score': 0.805292726},\n",
       " {'date': '2003-11-26',\n",
       "  'title': 'Ley Orgánica 15/2003, de 25 de noviembre, por la que se modifica la Ley Orgánica 10/1995, de 23 de noviembre, del Código Penal.',\n",
       "  'context': 'l)\\u2003Se modifica la regla\\xa02.a del apartado\\xa01 del artículo\\xa0795, en los siguientes términos:\\n\\n«2.a\\u2003Que se trate de alguno de los siguientes delitos:\\na)\\u2003Delitos de lesiones, coacciones, amenazas o violencia física o psíquica habitual, cometidos contra las personas a que se refiere el artículo\\xa0173.2 del Código Penal.\\nb)\\u2003Delitos de hurto.\\nc)\\u2003Delitos de robo.\\nd)\\u2003Delitos de hurto y robo de uso de vehículos.\\ne)\\u2003Delitos contra la seguridad del tráfico.\\nf)\\u2003Delitos de daños referidos en el artículo\\xa0263 del Código Penal.\\ng)\\u2003Delitos contra la salud pública previstos en el artículo\\xa0368, inciso segundo, del Código Penal.\\nh)\\u2003Delitos flagrantes relativos a la propiedad intelectual e industrial previstos en los artículos\\xa0270, 273, 274 y\\xa0275 del Código Penal.»\\n\\nm)\\u2003Se modifica la regla\\xa04.a del apartado\\xa01 del artículo\\xa0796, que queda redactada así:',\n",
       "  'url': 'https://www.boe.es/diario_boe/xml.php?id=BOE-A-2003-21538',\n",
       "  'score': 0.75052923},\n",
       " {'date': '1995-11-24',\n",
       "  'title': 'Ley Orgánica 10/1995, de 23 de noviembre, del Código Penal.',\n",
       "  'context': '4. Si el hecho se cometiere con violencia o intimidación en las personas, se impondrán, en todo caso, las penas del artículo 242.\\nCAPITULO V\\nDe la usurpación\\nArtículo 245.\\n1. Al que con violencia o intimidación en las personas ocupare una cosa inmueble o usurpare un derecho real inmobiliario de pertenencia ajena, se le impondrá, además de las penas en que incurriere por las violencias ejercidas, una multa de seis a dieciocho meses, que se fijará teniendo en cuenta la utilidad obtenida y el daño causado.\\n2. El que ocupare, sin autorización debida, un inmueble, vivienda o edificio ajenos que no constituyan morada, o se mantuviere en ellos contra la voluntad de su titular, será castigado con la pena de multa de tres a seis meses.\\nArtículo 246.',\n",
       "  'url': 'https://www.boe.es/diario_boe/xml.php?id=BOE-A-1995-25444',\n",
       "  'score': 0.728385},\n",
       " {'date': '2010-06-23',\n",
       "  'title': 'Ley Orgánica 5/2010, de 22 de junio, por la que se modifica la Ley Orgánica 10/1995, de 23 de noviembre, del Código Penal.',\n",
       "  'context': 'n) Delitos de terrorismo previstos en los artículos 572 a 578 del Código Penal.\\no) Delitos contra el patrimonio histórico previstos en el artículo 2.1.e de la Ley Orgánica 12/1995, de 12 de diciembre, de represión del contrabando.»\\nTres. Se añade un nuevo artículo 367 septies con la siguiente redacción:\\n«El Juez o Tribunal, a instancia del Ministerio Fiscal, podrá encomendar la localización, conservación, administración y realización de los efectos, bienes, instrumentos y ganancias procedentes de actividades delictivas cometidas en el marco de una organización criminal a una Oficina de Recuperación de Activos.\\nDicha Oficina tendrá la consideración de Policía Judicial, y su organización y funcionamiento, así como sus facultades para desempeñar por sí o con la colaboración de otras entidades o personas las funciones de conservación, administración y realización mencionadas en el párrafo anterior, se regularán reglamentariamente.',\n",
       "  'url': 'https://www.boe.es/diario_boe/xml.php?id=BOE-A-2010-9953',\n",
       "  'score': 0.724698961},\n",
       " {'date': '2019-05-24',\n",
       "  'title': 'Circular 7/2019, de 14 de mayo, de la Fiscalía General del Estado, sobre pautas para interpretar los delitos de odio tipificados en el artículo 510 del Código Penal.',\n",
       "  'context': 'En cualquier caso, teniendo los contenidos a los que se refiere el art.\\xa0510.6 la consideración de medios o instrumentos de comisión del delito, como ya se ha señalado, resultaría de aplicación el art.\\xa0127 octies CP, que prevé su embargo y puesta a disposición judicial desde el momento de las primeras diligencias para después, por aplicación de los arts. 367 bis y\\xa0367 ter LECrim, proceder a su destrucción, en este caso, su bloqueo o eliminación.',\n",
       "  'url': 'https://www.boe.es/diario_boe/xml.php?id=BOE-A-2019-7771',\n",
       "  'score': 0.717053115}]"
      ]
     },
     "execution_count": 70,
     "metadata": {},
     "output_type": "execute_result"
    }
   ],
   "source": [
    "# Similarity output\n",
    "similarity_output = vectorstore.similarity_search_with_score(query, k = config['top_k_docs'])\n",
    "\n",
    "# Assuming similarity_output is the list of Document objects\n",
    "context_processed = []\n",
    "\n",
    "for doc, score in similarity_output:\n",
    "    metadata = doc.metadata\n",
    "    context_processed.append({\n",
    "        \"date\": metadata.get('date', ''),\n",
    "        \"title\": metadata.get('title', ''),\n",
    "        \"context\": doc.page_content,\n",
    "        \"url\": metadata.get('url', ''),\n",
    "        \"score\": score\n",
    "    })\n",
    "\n",
    "# Show\n",
    "context_processed[0:5]"
   ]
  },
  {
   "cell_type": "code",
   "execution_count": 71,
   "metadata": {},
   "outputs": [
    {
     "data": {
      "text/plain": [
       "AIMessage(content='El artículo 245 del Código Penal español hace referencia a la usurpación y se estructura en dos apartados.\\n\\nEn el primer apartado se especifica que la pena de prisión de seis meses a dos años se impondrá a aquella persona que, con violencia o intimidación en las personas, ocupe una cosa inmueble o usurpe un derecho real inmobiliario de pertenencia ajena. A esta pena se le añadirá una multa de seis a dieciocho meses, que se fijará teniendo en cuenta la utilidad obtenida y el daño causado.\\n\\nEn el segundo apartado se indica que la pena de multa de tres a seis meses se impondrá a aquella persona que ocupe, sin autorización debida, un inmueble, vivienda o edificio ajenos que no constituyan morada, o se mantenga en ellos contra la voluntad de su titular.\\n\\nEs importante mencionar que estas penas se impondrán además de las penas en que incurriere por las violencias ejercidas, en caso de que se cometiere el hecho con violencia o intimidación en las personas.', response_metadata={'token_usage': {'completion_time': 0.532, 'completion_tokens': 298, 'prompt_time': 0.421, 'prompt_tokens': 2321, 'queue_time': None, 'total_time': 0.9530000000000001, 'total_tokens': 2619}, 'model_name': 'mixtral-8x7b-32768', 'system_fingerprint': 'fp_dbffcd8265', 'finish_reason': 'stop', 'logprobs': None}, id='run-153dbc2d-4ac7-438f-ac42-6590d077ab1c-0')"
      ]
     },
     "execution_count": 71,
     "metadata": {},
     "output_type": "execute_result"
    }
   ],
   "source": [
    "# Invoke response\n",
    "response = chain.invoke({\"context\": str(context_processed[0:5]), \"query\": query})\n",
    "\n",
    "# Show\n",
    "response"
   ]
  },
  {
   "cell_type": "markdown",
   "metadata": {},
   "source": [
    "# Clean"
   ]
  },
  {
   "cell_type": "code",
   "execution_count": 72,
   "metadata": {},
   "outputs": [],
   "source": [
    "# CUDA information\n",
    "if torch.cuda.is_available():\n",
    "    device = torch.device(\"cuda\")\n",
    "    print(torch.cuda.get_device_name(0))\n",
    "    print('Memory Usage:')\n",
    "    allocated_memory = torch.cuda.memory_allocated(0) / (1024**3)  # Convert bytes to GB\n",
    "    cached_memory = torch.cuda.memory_reserved(0) / (1024**3)  # Convert bytes to GB\n",
    "    total_memory = torch.cuda.get_device_properties(0).total_memory / (1024**3)  # Convert bytes to GB\n",
    "    available_memory = total_memory - cached_memory\n",
    "    print('Allocated:   ', round(allocated_memory, 1), 'GB')\n",
    "    print('Cached:      ', round(cached_memory, 1), 'GB')\n",
    "    print('Available:  ', round(available_memory, 1), 'GB')\n",
    "    print('Total:      ', round(total_memory, 1), 'GB')"
   ]
  },
  {
   "cell_type": "code",
   "execution_count": 73,
   "metadata": {
    "tags": []
   },
   "outputs": [
    {
     "data": {
      "text/plain": [
       "93"
      ]
     },
     "execution_count": 73,
     "metadata": {},
     "output_type": "execute_result"
    }
   ],
   "source": [
    "# Clean memory\n",
    "torch.cuda.empty_cache()\n",
    "gc.collect()"
   ]
  }
 ],
 "metadata": {
  "kernelspec": {
   "display_name": "Python 3 (ipykernel)",
   "language": "python",
   "name": "python3"
  },
  "language_info": {
   "codemirror_mode": {
    "name": "ipython",
    "version": 3
   },
   "file_extension": ".py",
   "mimetype": "text/x-python",
   "name": "python",
   "nbconvert_exporter": "python",
   "pygments_lexer": "ipython3",
   "version": "3.12.2"
  }
 },
 "nbformat": 4,
 "nbformat_minor": 4
}
