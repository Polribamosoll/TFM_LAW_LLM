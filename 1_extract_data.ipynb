{
 "cells": [
  {
   "cell_type": "markdown",
   "metadata": {},
   "source": [
    "# Extract data"
   ]
  },
  {
   "cell_type": "markdown",
   "metadata": {},
   "source": [
    "# Setup"
   ]
  },
  {
   "cell_type": "code",
   "execution_count": 1,
   "metadata": {},
   "outputs": [],
   "source": [
    "# %pip install -r requirements.txt"
   ]
  },
  {
   "cell_type": "code",
   "execution_count": 2,
   "metadata": {},
   "outputs": [
    {
     "data": {
      "text/plain": [
       "True"
      ]
     },
     "execution_count": 2,
     "metadata": {},
     "output_type": "execute_result"
    }
   ],
   "source": [
    "# Environment Variables\n",
    "import os\n",
    "from dotenv import load_dotenv\n",
    "\n",
    "# Load env\n",
    "load_dotenv()"
   ]
  },
  {
   "cell_type": "markdown",
   "metadata": {},
   "source": [
    "# Digital Ocean"
   ]
  },
  {
   "cell_type": "code",
   "execution_count": 3,
   "metadata": {},
   "outputs": [],
   "source": [
    "# Set env path\n",
    "os.environ[\"DO_USERNAME\"] = \"doadmin\"\n",
    "os.environ[\"DO_PASSWORD\"] = \"law-gpt-postgresql-cluster-do-user-15523133-0.c.db.ondigitalocean.com\"\n",
    "os.environ[\"DO_HOST\"] = \"host\"\n",
    "os.environ[\"DO_PORT\"] = \"25060\"\n",
    "os.environ[\"DO_DATABASE\"] = \"document_keys\"\n",
    "os.environ[\"DO_SSL_MODE\"] = \"require\""
   ]
  },
  {
   "cell_type": "markdown",
   "metadata": {},
   "source": [
    "# Google"
   ]
  },
  {
   "cell_type": "code",
   "execution_count": 4,
   "metadata": {},
   "outputs": [],
   "source": [
    "# Set env path\n",
    "os.environ[\"GOOGLE_APPLICATION_CREDENTIALS\"] = \"lawgpt-410122-140fba6fba7b.json\"\n",
    "\n",
    "# Bucket params\n",
    "bucket_name = 'lawgpt_madrid_bucket_1'"
   ]
  },
  {
   "cell_type": "markdown",
   "metadata": {},
   "source": [
    "# Directory"
   ]
  },
  {
   "cell_type": "code",
   "execution_count": 5,
   "metadata": {},
   "outputs": [
    {
     "data": {
      "text/plain": [
       "'/notebooks/LawGPT'"
      ]
     },
     "execution_count": 5,
     "metadata": {},
     "output_type": "execute_result"
    }
   ],
   "source": [
    "# Set directory to file location\n",
    "from pathlib import Path\n",
    "import sys\n",
    "notebook_location = Path(os.path.abspath(''))\n",
    "os.chdir(notebook_location)\n",
    "# Get the current working directory\n",
    "current_directory = os.getcwd()\n",
    "current_directory"
   ]
  },
  {
   "cell_type": "markdown",
   "metadata": {},
   "source": [
    "# Libraries"
   ]
  },
  {
   "cell_type": "code",
   "execution_count": 6,
   "metadata": {},
   "outputs": [],
   "source": [
    "# General libraries\n",
    "import pandas as pd\n",
    "import numpy as np\n",
    "import datetime\n",
    "import time\n",
    "import csv\n",
    "import os\n",
    "\n",
    "# Scrapping\n",
    "from bs4 import BeautifulSoup\n",
    "import unicodedata\n",
    "import unidecode\n",
    "import requests\n",
    "import string\n",
    "import json\n",
    "import lxml\n",
    "import xml\n",
    "import bs4\n",
    "import gc\n",
    "import re\n",
    "\n",
    "# Langchain\n",
    "from langchain.text_splitter import CharacterTextSplitter\n",
    "\n",
    "# Multiprocessing\n",
    "from multiprocessing import Pool, Manager, Queue, Process\n",
    "from concurrent.futures import ThreadPoolExecutor\n",
    "from multiprocessing import Value, Lock\n",
    "from functools import partial\n",
    "\n",
    "# Cloud\n",
    "from google.cloud import storage\n",
    "\n",
    "# Other\n",
    "from tqdm.notebook import tqdm\n",
    "import logging\n",
    "\n",
    "# Local\n",
    "from functions import *\n",
    "\n",
    "# Warnings\n",
    "import warnings\n",
    "warnings.filterwarnings(\"ignore\")"
   ]
  },
  {
   "cell_type": "code",
   "execution_count": 7,
   "metadata": {},
   "outputs": [],
   "source": [
    "# Start timing the notebook run\n",
    "start_time = time.time()"
   ]
  },
  {
   "cell_type": "markdown",
   "metadata": {},
   "source": [
    "# Keywords"
   ]
  },
  {
   "cell_type": "code",
   "execution_count": 8,
   "metadata": {},
   "outputs": [],
   "source": [
    "key_words = ['constitucion', 'legislacion', 'ley', 'codigo', 'estatuto', 'derecho', 'decreto', 'norma', \n",
    "             'deber', 'defensa', 'seguridad', 'proteccion', 'defensor', 'jurisprudencia', 'estado', \n",
    "             'autonomia', 'congreso', 'senado', 'parlamento', 'nacional', 'local', 'suspension', 'articulo', \n",
    "             'europa', 'reguladora', 'impuesto', 'penal', 'civil', 'laboral', 'convenios', 'pleno']"
   ]
  },
  {
   "cell_type": "code",
   "execution_count": 9,
   "metadata": {},
   "outputs": [],
   "source": [
    "key_words = ['codigo penal']"
   ]
  },
  {
   "cell_type": "markdown",
   "metadata": {
    "tags": []
   },
   "source": [
    "# BOE: Boletín Oficial del Estado"
   ]
  },
  {
   "cell_type": "code",
   "execution_count": 10,
   "metadata": {},
   "outputs": [],
   "source": [
    "# Parameters\n",
    "start_date = datetime.date(1978, 1, 1)\n",
    "\n",
    "# Define the end date to extract\n",
    "end_date = datetime.datetime.now().date()\n",
    "\n",
    "# BOE Class\n",
    "boe_class = ['A', 'C']\n",
    "\n",
    "# Years to extract\n",
    "years = [str(i) for i in range(1978, 2025)]\n",
    "\n",
    "# Path to store full extraction\n",
    "folder_path = 'raw_data/boe_year/'\n",
    "\n",
    "# Multiprocessing\n",
    "# n_cores = os.cpu_count() - 2\n",
    "n_cores = 1\n",
    "pool = Pool(processes = n_cores)"
   ]
  },
  {
   "cell_type": "markdown",
   "metadata": {},
   "source": [
    "# 1. Find local files"
   ]
  },
  {
   "cell_type": "code",
   "execution_count": 11,
   "metadata": {},
   "outputs": [
    {
     "data": {
      "text/plain": [
       "['boe_ids.csv']"
      ]
     },
     "execution_count": 11,
     "metadata": {},
     "output_type": "execute_result"
    }
   ],
   "source": [
    "# Params\n",
    "file_list = [\"boe_ids.csv\"]\n",
    "local_folder_path = \"raw_data/\"\n",
    "\n",
    "# List CSV files locally\n",
    "local_csv_files = list_csv_files(local_folder_path)\n",
    "local_csv_files"
   ]
  },
  {
   "cell_type": "markdown",
   "metadata": {},
   "source": [
    "# 2. Identify existing URLs from daily summaries"
   ]
  },
  {
   "cell_type": "code",
   "execution_count": 12,
   "metadata": {},
   "outputs": [],
   "source": [
    "# BOE IDs filename\n",
    "boe_ids_filename = 'raw_data/boe_ids.csv'"
   ]
  },
  {
   "cell_type": "code",
   "execution_count": null,
   "metadata": {},
   "outputs": [
    {
     "data": {
      "application/vnd.jupyter.widget-view+json": {
       "model_id": "1cf2de98773943a8ac966dacf9dd8d55",
       "version_major": 2,
       "version_minor": 0
      },
      "text/plain": [
       "Processing days:   0%|          | 0/14437 [00:00<?, ?it/s]"
      ]
     },
     "metadata": {},
     "output_type": "display_data"
    }
   ],
   "source": [
    "# Update BOE IDs\n",
    "boe_ids = extract_boe_ids(start_date, end_date, boe_class, boe_ids_filename)"
   ]
  },
  {
   "cell_type": "code",
   "execution_count": null,
   "metadata": {},
   "outputs": [],
   "source": [
    "# Show\n",
    "boe_ids.head()"
   ]
  },
  {
   "cell_type": "code",
   "execution_count": null,
   "metadata": {},
   "outputs": [],
   "source": [
    "# Length of file\n",
    "len(boe_ids)"
   ]
  },
  {
   "cell_type": "code",
   "execution_count": null,
   "metadata": {},
   "outputs": [],
   "source": [
    "# Upload the file to Google Cloud Storage\n",
    "storage_client = storage.Client()\n",
    "bucket = storage_client.bucket(bucket_name)\n",
    "blob = bucket.blob(boe_ids_filename)\n",
    "blob.upload_from_filename(boe_ids_filename)"
   ]
  },
  {
   "cell_type": "markdown",
   "metadata": {},
   "source": [
    "# 3. Identify relevant keywords from extracted URLs and titles"
   ]
  },
  {
   "cell_type": "code",
   "execution_count": null,
   "metadata": {},
   "outputs": [],
   "source": [
    "# BOE filtered IDs filename\n",
    "boe_filtered_ids_name = 'raw_data/boe_filtered_ids.csv'"
   ]
  },
  {
   "cell_type": "code",
   "execution_count": null,
   "metadata": {},
   "outputs": [],
   "source": [
    "# Identify with keywords\n",
    "boe_filtered_ids = find_titles_with_keywords(boe_ids, key_words)"
   ]
  },
  {
   "cell_type": "code",
   "execution_count": null,
   "metadata": {},
   "outputs": [],
   "source": [
    "# Show\n",
    "boe_filtered_ids.head()"
   ]
  },
  {
   "cell_type": "code",
   "execution_count": null,
   "metadata": {},
   "outputs": [],
   "source": [
    "# Length of file\n",
    "len(boe_filtered_ids)"
   ]
  },
  {
   "cell_type": "code",
   "execution_count": null,
   "metadata": {},
   "outputs": [],
   "source": [
    "# Save output\n",
    "boe_filtered_ids.to_csv(boe_filtered_ids_name, index = False)"
   ]
  },
  {
   "cell_type": "code",
   "execution_count": null,
   "metadata": {},
   "outputs": [],
   "source": [
    "# Upload the file to Google Cloud Storage\n",
    "storage_client = storage.Client()\n",
    "bucket = storage_client.bucket(bucket_name)\n",
    "blob = bucket.blob(boe_filtered_ids_name)\n",
    "blob.upload_from_filename(boe_filtered_ids_name)"
   ]
  },
  {
   "cell_type": "markdown",
   "metadata": {},
   "source": [
    "# 4. Extract publications from identified URLs"
   ]
  },
  {
   "cell_type": "code",
   "execution_count": null,
   "metadata": {},
   "outputs": [],
   "source": [
    "# Initialize multiprocessing manager and queue for logging\n",
    "manager = Manager()\n",
    "log_queue = manager.Queue()\n",
    "\n",
    "# Start logger process\n",
    "logger_process = Process(target=setup_logger, args=(log_queue,))\n",
    "logger_process.start()\n",
    "\n",
    "# Start extraction process\n",
    "pool = Pool(processes=n_cores)\n",
    "processes = [pool.apply_async(extract_boe_year, args=(folder_path, boe_filtered_ids, year, log_queue)) for year in years]\n",
    "[p.get() for p in processes]\n",
    "\n",
    "# Signal the logger process to stop\n",
    "log_queue.put(None)\n",
    "logger_process.join()"
   ]
  },
  {
   "cell_type": "markdown",
   "metadata": {},
   "source": [
    "# 5. Append results"
   ]
  },
  {
   "cell_type": "code",
   "execution_count": null,
   "metadata": {},
   "outputs": [],
   "source": [
    "# List CSV files\n",
    "csv_files = [f for f in os.listdir(folder_path) if f.endswith('.csv')]\n",
    "\n",
    "# Initialize an empty DataFrame to store the concatenated data\n",
    "boe_concat = pd.DataFrame()\n",
    "\n",
    "# Loop through the CSV files and concatenate them\n",
    "for csv_file in csv_files:\n",
    "    file_path = os.path.join(folder_path, csv_file)\n",
    "    df = pd.read_csv(file_path)\n",
    "    boe_concat = pd.concat([boe_concat, df], ignore_index=True)"
   ]
  },
  {
   "cell_type": "code",
   "execution_count": null,
   "metadata": {},
   "outputs": [],
   "source": [
    "# Show\n",
    "boe_concat.head()"
   ]
  },
  {
   "cell_type": "code",
   "execution_count": null,
   "metadata": {},
   "outputs": [],
   "source": [
    "# Length of file\n",
    "len(boe_concat)"
   ]
  },
  {
   "cell_type": "markdown",
   "metadata": {},
   "source": [
    "# 6. Format results"
   ]
  },
  {
   "cell_type": "code",
   "execution_count": null,
   "metadata": {},
   "outputs": [],
   "source": [
    "# BOE format filename\n",
    "boe_format_name = 'raw_data/boe_data.csv'"
   ]
  },
  {
   "cell_type": "code",
   "execution_count": null,
   "metadata": {},
   "outputs": [],
   "source": [
    "# Input for formatting\n",
    "boe_format = boe_concat.copy()\n",
    "\n",
    "# Create id column\n",
    "boe_format['date'] =  pd.to_datetime(boe_format['id'], format='%Y%m%d')\n",
    "\n",
    "# Drop column\n",
    "boe_format = boe_format.drop(['id'], axis = 1)\n",
    "\n",
    "# Regular expression to capture the year and the ID\n",
    "regex_pattern = r'BOE-[ABC]-(\\d{4})-(\\d+)'\n",
    "\n",
    "# Extract the year and ID and concatenate them into a new column\n",
    "boe_format['id'] = boe_format['url'].str.extract(regex_pattern).agg('-'.join, axis=1)\n",
    "\n",
    "# Filter columns\n",
    "cols = ['id', 'url', 'title', 'date', 'legislative_origin', 'department', 'rang', 'text']\n",
    "boe_format = boe_format[cols]\n",
    "\n",
    "# Sort by date\n",
    "boe_format = boe_format.sort_values(by = 'date', ascending = True)"
   ]
  },
  {
   "cell_type": "code",
   "execution_count": null,
   "metadata": {},
   "outputs": [],
   "source": [
    "# Show\n",
    "boe_format.head()"
   ]
  },
  {
   "cell_type": "code",
   "execution_count": null,
   "metadata": {},
   "outputs": [],
   "source": [
    "# Length of file\n",
    "len(boe_format)"
   ]
  },
  {
   "cell_type": "code",
   "execution_count": null,
   "metadata": {},
   "outputs": [],
   "source": [
    "# Save output\n",
    "boe_format.to_csv(boe_format_name, index=False)"
   ]
  },
  {
   "cell_type": "code",
   "execution_count": null,
   "metadata": {},
   "outputs": [],
   "source": [
    "# Upload the file to Google Cloud Storage\n",
    "storage_client = storage.Client()\n",
    "bucket = storage_client.bucket(bucket_name)\n",
    "blob = bucket.blob(boe_format_name)\n",
    "blob.upload_from_filename(boe_format_name)"
   ]
  },
  {
   "cell_type": "markdown",
   "metadata": {},
   "source": [
    "# Runtime"
   ]
  },
  {
   "cell_type": "code",
   "execution_count": null,
   "metadata": {},
   "outputs": [],
   "source": [
    "# End time of notebook run\n",
    "end_time = time.time()\n",
    "elapsed_time = end_time - start_time\n",
    "\n",
    "# Convert elapsed time to hours and minutes\n",
    "hours = int(elapsed_time // 3600)\n",
    "minutes = int((elapsed_time % 3600) // 60)\n",
    "\n",
    "# Print the result\n",
    "print(f\"Time elapsed: {hours} hours and {minutes} minutes.\")"
   ]
  },
  {
   "cell_type": "markdown",
   "metadata": {},
   "source": [
    "# Clean"
   ]
  },
  {
   "cell_type": "code",
   "execution_count": null,
   "metadata": {},
   "outputs": [],
   "source": [
    "# Clean\n",
    "gc.collect()"
   ]
  }
 ],
 "metadata": {
  "kernelspec": {
   "display_name": "Python 3 (ipykernel)",
   "language": "python",
   "name": "python3"
  },
  "language_info": {
   "codemirror_mode": {
    "name": "ipython",
    "version": 3
   },
   "file_extension": ".py",
   "mimetype": "text/x-python",
   "name": "python",
   "nbconvert_exporter": "python",
   "pygments_lexer": "ipython3",
   "version": "3.9.16"
  }
 },
 "nbformat": 4,
 "nbformat_minor": 4
}
