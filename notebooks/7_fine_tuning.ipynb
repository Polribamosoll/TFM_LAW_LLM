{
 "cells": [
  {
   "cell_type": "markdown",
   "metadata": {},
   "source": [
    "# Domain-Specific Fine-Tuning"
   ]
  },
  {
   "cell_type": "markdown",
   "metadata": {},
   "source": [
    "### This notebook fine tunes the model and returns the result after training."
   ]
  },
  {
   "cell_type": "markdown",
   "metadata": {},
   "source": [
    "Let's first install the libraries we will use during this step:"
   ]
  },
  {
   "cell_type": "code",
   "execution_count": 1,
   "metadata": {},
   "outputs": [
    {
     "name": "stdout",
     "output_type": "stream",
     "text": [
      "Requirement already satisfied: torch in c:\\users\\polri\\appdata\\local\\programs\\python\\python312\\lib\\site-packages (2.2.2)\n",
      "Requirement already satisfied: transformers in c:\\users\\polri\\appdata\\local\\programs\\python\\python312\\lib\\site-packages (4.41.1)\n",
      "Requirement already satisfied: langchain_pinecone in c:\\users\\polri\\appdata\\local\\programs\\python\\python312\\lib\\site-packages (0.1.0)\n",
      "Requirement already satisfied: datasets in c:\\users\\polri\\appdata\\local\\programs\\python\\python312\\lib\\site-packages (2.19.1)\n",
      "Requirement already satisfied: pinecone-client in c:\\users\\polri\\appdata\\local\\programs\\python\\python312\\lib\\site-packages (3.2.2)\n",
      "Requirement already satisfied: langchain-community in c:\\users\\polri\\appdata\\local\\programs\\python\\python312\\lib\\site-packages (0.0.32)\n",
      "Requirement already satisfied: scikit-learn in c:\\users\\polri\\appdata\\local\\programs\\python\\python312\\lib\\site-packages (1.4.2)\n",
      "Requirement already satisfied: langchain in c:\\users\\polri\\appdata\\local\\programs\\python\\python312\\lib\\site-packages (0.1.16)\n",
      "Requirement already satisfied: filelock in c:\\users\\polri\\appdata\\local\\programs\\python\\python312\\lib\\site-packages (from torch) (3.13.4)\n",
      "Requirement already satisfied: typing-extensions>=4.8.0 in c:\\users\\polri\\appdata\\local\\programs\\python\\python312\\lib\\site-packages (from torch) (4.11.0)\n",
      "Requirement already satisfied: sympy in c:\\users\\polri\\appdata\\local\\programs\\python\\python312\\lib\\site-packages (from torch) (1.12)\n",
      "Requirement already satisfied: networkx in c:\\users\\polri\\appdata\\local\\programs\\python\\python312\\lib\\site-packages (from torch) (3.3)\n",
      "Requirement already satisfied: jinja2 in c:\\users\\polri\\appdata\\local\\programs\\python\\python312\\lib\\site-packages (from torch) (3.1.2)\n",
      "Requirement already satisfied: fsspec in c:\\users\\polri\\appdata\\local\\programs\\python\\python312\\lib\\site-packages (from torch) (2024.3.1)\n",
      "Requirement already satisfied: huggingface-hub<1.0,>=0.23.0 in c:\\users\\polri\\appdata\\local\\programs\\python\\python312\\lib\\site-packages (from transformers) (0.23.1)\n",
      "Requirement already satisfied: numpy>=1.17 in c:\\users\\polri\\appdata\\local\\programs\\python\\python312\\lib\\site-packages (from transformers) (1.26.1)\n",
      "Requirement already satisfied: packaging>=20.0 in c:\\users\\polri\\appdata\\local\\programs\\python\\python312\\lib\\site-packages (from transformers) (23.2)\n",
      "Requirement already satisfied: pyyaml>=5.1 in c:\\users\\polri\\appdata\\local\\programs\\python\\python312\\lib\\site-packages (from transformers) (6.0.1)\n",
      "Requirement already satisfied: regex!=2019.12.17 in c:\\users\\polri\\appdata\\local\\programs\\python\\python312\\lib\\site-packages (from transformers) (2023.12.25)\n",
      "Requirement already satisfied: requests in c:\\users\\polri\\appdata\\local\\programs\\python\\python312\\lib\\site-packages (from transformers) (2.31.0)\n",
      "Requirement already satisfied: tokenizers<0.20,>=0.19 in c:\\users\\polri\\appdata\\local\\programs\\python\\python312\\lib\\site-packages (from transformers) (0.19.1)\n",
      "Requirement already satisfied: safetensors>=0.4.1 in c:\\users\\polri\\appdata\\local\\programs\\python\\python312\\lib\\site-packages (from transformers) (0.4.2)\n",
      "Requirement already satisfied: tqdm>=4.27 in c:\\users\\polri\\appdata\\local\\programs\\python\\python312\\lib\\site-packages (from transformers) (4.66.2)\n",
      "Requirement already satisfied: langchain-core<0.2.0,>=0.1.40 in c:\\users\\polri\\appdata\\local\\programs\\python\\python312\\lib\\site-packages (from langchain_pinecone) (0.1.42)\n",
      "Requirement already satisfied: pyarrow>=12.0.0 in c:\\users\\polri\\appdata\\local\\programs\\python\\python312\\lib\\site-packages (from datasets) (15.0.2)\n",
      "Requirement already satisfied: pyarrow-hotfix in c:\\users\\polri\\appdata\\local\\programs\\python\\python312\\lib\\site-packages (from datasets) (0.6)\n",
      "Requirement already satisfied: dill<0.3.9,>=0.3.0 in c:\\users\\polri\\appdata\\local\\programs\\python\\python312\\lib\\site-packages (from datasets) (0.3.8)\n",
      "Requirement already satisfied: pandas in c:\\users\\polri\\appdata\\local\\programs\\python\\python312\\lib\\site-packages (from datasets) (2.1.2)\n",
      "Requirement already satisfied: xxhash in c:\\users\\polri\\appdata\\local\\programs\\python\\python312\\lib\\site-packages (from datasets) (3.4.1)\n",
      "Requirement already satisfied: multiprocess in c:\\users\\polri\\appdata\\local\\programs\\python\\python312\\lib\\site-packages (from datasets) (0.70.16)\n",
      "Requirement already satisfied: aiohttp in c:\\users\\polri\\appdata\\local\\programs\\python\\python312\\lib\\site-packages (from datasets) (3.9.3)\n",
      "Requirement already satisfied: certifi>=2019.11.17 in c:\\users\\polri\\appdata\\local\\programs\\python\\python312\\lib\\site-packages (from pinecone-client) (2024.2.2)\n",
      "Requirement already satisfied: urllib3>=1.26.5 in c:\\users\\polri\\appdata\\local\\programs\\python\\python312\\lib\\site-packages (from pinecone-client) (1.26.6)\n",
      "Requirement already satisfied: SQLAlchemy<3,>=1.4 in c:\\users\\polri\\appdata\\local\\programs\\python\\python312\\lib\\site-packages (from langchain-community) (2.0.29)\n",
      "Requirement already satisfied: dataclasses-json<0.7,>=0.5.7 in c:\\users\\polri\\appdata\\local\\programs\\python\\python312\\lib\\site-packages (from langchain-community) (0.6.4)\n",
      "Requirement already satisfied: langsmith<0.2.0,>=0.1.0 in c:\\users\\polri\\appdata\\local\\programs\\python\\python312\\lib\\site-packages (from langchain-community) (0.1.45)\n",
      "Requirement already satisfied: tenacity<9.0.0,>=8.1.0 in c:\\users\\polri\\appdata\\local\\programs\\python\\python312\\lib\\site-packages (from langchain-community) (8.2.3)\n",
      "Requirement already satisfied: scipy>=1.6.0 in c:\\users\\polri\\appdata\\local\\programs\\python\\python312\\lib\\site-packages (from scikit-learn) (1.11.4)\n",
      "Requirement already satisfied: joblib>=1.2.0 in c:\\users\\polri\\appdata\\local\\programs\\python\\python312\\lib\\site-packages (from scikit-learn) (1.4.0)\n",
      "Requirement already satisfied: threadpoolctl>=2.0.0 in c:\\users\\polri\\appdata\\local\\programs\\python\\python312\\lib\\site-packages (from scikit-learn) (3.4.0)\n",
      "Requirement already satisfied: jsonpatch<2.0,>=1.33 in c:\\users\\polri\\appdata\\local\\programs\\python\\python312\\lib\\site-packages (from langchain) (1.33)\n",
      "Requirement already satisfied: langchain-text-splitters<0.1,>=0.0.1 in c:\\users\\polri\\appdata\\local\\programs\\python\\python312\\lib\\site-packages (from langchain) (0.0.1)\n",
      "Requirement already satisfied: pydantic<3,>=1 in c:\\users\\polri\\appdata\\local\\programs\\python\\python312\\lib\\site-packages (from langchain) (2.7.0)\n",
      "Requirement already satisfied: aiosignal>=1.1.2 in c:\\users\\polri\\appdata\\local\\programs\\python\\python312\\lib\\site-packages (from aiohttp->datasets) (1.3.1)\n",
      "Requirement already satisfied: attrs>=17.3.0 in c:\\users\\polri\\appdata\\local\\programs\\python\\python312\\lib\\site-packages (from aiohttp->datasets) (23.2.0)\n",
      "Requirement already satisfied: frozenlist>=1.1.1 in c:\\users\\polri\\appdata\\local\\programs\\python\\python312\\lib\\site-packages (from aiohttp->datasets) (1.4.1)\n",
      "Requirement already satisfied: multidict<7.0,>=4.5 in c:\\users\\polri\\appdata\\local\\programs\\python\\python312\\lib\\site-packages (from aiohttp->datasets) (6.0.5)\n",
      "Requirement already satisfied: yarl<2.0,>=1.0 in c:\\users\\polri\\appdata\\local\\programs\\python\\python312\\lib\\site-packages (from aiohttp->datasets) (1.9.4)\n",
      "Requirement already satisfied: marshmallow<4.0.0,>=3.18.0 in c:\\users\\polri\\appdata\\local\\programs\\python\\python312\\lib\\site-packages (from dataclasses-json<0.7,>=0.5.7->langchain-community) (3.21.1)\n",
      "Requirement already satisfied: typing-inspect<1,>=0.4.0 in c:\\users\\polri\\appdata\\local\\programs\\python\\python312\\lib\\site-packages (from dataclasses-json<0.7,>=0.5.7->langchain-community) (0.9.0)\n",
      "Requirement already satisfied: jsonpointer>=1.9 in c:\\users\\polri\\appdata\\local\\programs\\python\\python312\\lib\\site-packages (from jsonpatch<2.0,>=1.33->langchain) (2.4)\n",
      "Requirement already satisfied: orjson<4.0.0,>=3.9.14 in c:\\users\\polri\\appdata\\local\\programs\\python\\python312\\lib\\site-packages (from langsmith<0.2.0,>=0.1.0->langchain-community) (3.10.0)\n",
      "Requirement already satisfied: annotated-types>=0.4.0 in c:\\users\\polri\\appdata\\local\\programs\\python\\python312\\lib\\site-packages (from pydantic<3,>=1->langchain) (0.6.0)\n",
      "Requirement already satisfied: pydantic-core==2.18.1 in c:\\users\\polri\\appdata\\local\\programs\\python\\python312\\lib\\site-packages (from pydantic<3,>=1->langchain) (2.18.1)\n",
      "Requirement already satisfied: charset-normalizer<4,>=2 in c:\\users\\polri\\appdata\\local\\programs\\python\\python312\\lib\\site-packages (from requests->transformers) (3.3.2)\n",
      "Requirement already satisfied: idna<4,>=2.5 in c:\\users\\polri\\appdata\\local\\programs\\python\\python312\\lib\\site-packages (from requests->transformers) (3.7)\n",
      "Requirement already satisfied: greenlet!=0.4.17 in c:\\users\\polri\\appdata\\local\\programs\\python\\python312\\lib\\site-packages (from SQLAlchemy<3,>=1.4->langchain-community) (3.0.3)\n",
      "Requirement already satisfied: colorama in c:\\users\\polri\\appdata\\roaming\\python\\python312\\site-packages (from tqdm>=4.27->transformers) (0.4.6)\n",
      "Requirement already satisfied: MarkupSafe>=2.0 in c:\\users\\polri\\appdata\\local\\programs\\python\\python312\\lib\\site-packages (from jinja2->torch) (2.1.3)\n",
      "Requirement already satisfied: python-dateutil>=2.8.2 in c:\\users\\polri\\appdata\\local\\programs\\python\\python312\\lib\\site-packages (from pandas->datasets) (2.8.2)\n",
      "Requirement already satisfied: pytz>=2020.1 in c:\\users\\polri\\appdata\\local\\programs\\python\\python312\\lib\\site-packages (from pandas->datasets) (2023.3.post1)\n",
      "Requirement already satisfied: tzdata>=2022.1 in c:\\users\\polri\\appdata\\local\\programs\\python\\python312\\lib\\site-packages (from pandas->datasets) (2023.3)\n",
      "Requirement already satisfied: mpmath>=0.19 in c:\\users\\polri\\appdata\\local\\programs\\python\\python312\\lib\\site-packages (from sympy->torch) (1.3.0)\n",
      "Requirement already satisfied: six>=1.5 in c:\\users\\polri\\appdata\\local\\programs\\python\\python312\\lib\\site-packages (from python-dateutil>=2.8.2->pandas->datasets) (1.16.0)\n",
      "Requirement already satisfied: mypy-extensions>=0.3.0 in c:\\users\\polri\\appdata\\local\\programs\\python\\python312\\lib\\site-packages (from typing-inspect<1,>=0.4.0->dataclasses-json<0.7,>=0.5.7->langchain-community) (1.0.0)\n",
      "Note: you may need to restart the kernel to use updated packages.\n"
     ]
    }
   ],
   "source": [
    "pip install torch transformers python-dotenv langchain_pinecone datasets pinecone-client langchain-community scikit-learn langchain datasets transformers==4.17"
   ]
  },
  {
   "cell_type": "code",
   "execution_count": 2,
   "metadata": {},
   "outputs": [
    {
     "name": "stdout",
     "output_type": "stream",
     "text": [
      "Collecting transformers==4.17\n",
      "  Downloading transformers-4.17.0-py3-none-any.whl.metadata (67 kB)\n",
      "     ---------------------------------------- 0.0/67.9 kB ? eta -:--:--\n",
      "     ------ --------------------------------- 10.2/67.9 kB ? eta -:--:--\n",
      "     ----------------- -------------------- 30.7/67.9 kB 262.6 kB/s eta 0:00:01\n",
      "     ---------------------------------- --- 61.4/67.9 kB 469.7 kB/s eta 0:00:01\n",
      "     -------------------------------------- 67.9/67.9 kB 369.6 kB/s eta 0:00:00\n",
      "Requirement already satisfied: filelock in c:\\users\\polri\\appdata\\local\\programs\\python\\python312\\lib\\site-packages (from transformers==4.17) (3.13.4)\n",
      "Requirement already satisfied: huggingface-hub<1.0,>=0.1.0 in c:\\users\\polri\\appdata\\local\\programs\\python\\python312\\lib\\site-packages (from transformers==4.17) (0.23.1)\n",
      "Requirement already satisfied: numpy>=1.17 in c:\\users\\polri\\appdata\\local\\programs\\python\\python312\\lib\\site-packages (from transformers==4.17) (1.26.1)\n",
      "Requirement already satisfied: packaging>=20.0 in c:\\users\\polri\\appdata\\local\\programs\\python\\python312\\lib\\site-packages (from transformers==4.17) (23.2)\n",
      "Requirement already satisfied: pyyaml>=5.1 in c:\\users\\polri\\appdata\\local\\programs\\python\\python312\\lib\\site-packages (from transformers==4.17) (6.0.1)\n",
      "Requirement already satisfied: regex!=2019.12.17 in c:\\users\\polri\\appdata\\local\\programs\\python\\python312\\lib\\site-packages (from transformers==4.17) (2023.12.25)\n",
      "Requirement already satisfied: requests in c:\\users\\polri\\appdata\\local\\programs\\python\\python312\\lib\\site-packages (from transformers==4.17) (2.31.0)\n",
      "Collecting sacremoses (from transformers==4.17)\n",
      "  Downloading sacremoses-0.1.1-py3-none-any.whl.metadata (8.3 kB)\n",
      "Requirement already satisfied: tokenizers!=0.11.3,>=0.11.1 in c:\\users\\polri\\appdata\\local\\programs\\python\\python312\\lib\\site-packages (from transformers==4.17) (0.19.1)\n",
      "Requirement already satisfied: tqdm>=4.27 in c:\\users\\polri\\appdata\\local\\programs\\python\\python312\\lib\\site-packages (from transformers==4.17) (4.66.2)\n",
      "Requirement already satisfied: fsspec>=2023.5.0 in c:\\users\\polri\\appdata\\local\\programs\\python\\python312\\lib\\site-packages (from huggingface-hub<1.0,>=0.1.0->transformers==4.17) (2024.3.1)\n",
      "Requirement already satisfied: typing-extensions>=3.7.4.3 in c:\\users\\polri\\appdata\\local\\programs\\python\\python312\\lib\\site-packages (from huggingface-hub<1.0,>=0.1.0->transformers==4.17) (4.11.0)\n",
      "Requirement already satisfied: colorama in c:\\users\\polri\\appdata\\roaming\\python\\python312\\site-packages (from tqdm>=4.27->transformers==4.17) (0.4.6)\n",
      "Requirement already satisfied: charset-normalizer<4,>=2 in c:\\users\\polri\\appdata\\local\\programs\\python\\python312\\lib\\site-packages (from requests->transformers==4.17) (3.3.2)\n",
      "Requirement already satisfied: idna<4,>=2.5 in c:\\users\\polri\\appdata\\local\\programs\\python\\python312\\lib\\site-packages (from requests->transformers==4.17) (3.7)\n",
      "Requirement already satisfied: urllib3<3,>=1.21.1 in c:\\users\\polri\\appdata\\local\\programs\\python\\python312\\lib\\site-packages (from requests->transformers==4.17) (1.26.6)\n",
      "Requirement already satisfied: certifi>=2017.4.17 in c:\\users\\polri\\appdata\\local\\programs\\python\\python312\\lib\\site-packages (from requests->transformers==4.17) (2024.2.2)\n",
      "Requirement already satisfied: click in c:\\users\\polri\\appdata\\local\\programs\\python\\python312\\lib\\site-packages (from sacremoses->transformers==4.17) (8.1.7)\n",
      "Requirement already satisfied: joblib in c:\\users\\polri\\appdata\\local\\programs\\python\\python312\\lib\\site-packages (from sacremoses->transformers==4.17) (1.4.0)\n",
      "Downloading transformers-4.17.0-py3-none-any.whl (3.8 MB)\n",
      "   ---------------------------------------- 0.0/3.8 MB ? eta -:--:--\n",
      "   -- ------------------------------------- 0.2/3.8 MB 5.1 MB/s eta 0:00:01\n",
      "   ---------------- ----------------------- 1.6/3.8 MB 20.0 MB/s eta 0:00:01\n",
      "   ---------------------------------------  3.8/3.8 MB 30.5 MB/s eta 0:00:01\n",
      "   ---------------------------------------- 3.8/3.8 MB 24.5 MB/s eta 0:00:00\n",
      "Downloading sacremoses-0.1.1-py3-none-any.whl (897 kB)\n",
      "   ---------------------------------------- 0.0/897.5 kB ? eta -:--:--\n",
      "   --------------------------------------- 897.5/897.5 kB 28.6 MB/s eta 0:00:00\n",
      "Installing collected packages: sacremoses, transformers\n",
      "  Attempting uninstall: transformers\n",
      "    Found existing installation: transformers 4.41.1\n",
      "    Uninstalling transformers-4.41.1:\n",
      "      Successfully uninstalled transformers-4.41.1\n",
      "Successfully installed sacremoses-0.1.1 transformers-4.17.0\n"
     ]
    },
    {
     "name": "stderr",
     "output_type": "stream",
     "text": [
      "ERROR: pip's dependency resolver does not currently take into account all the packages that are installed. This behaviour is the source of the following dependency conflicts.\n",
      "optimum 1.19.2 requires transformers[sentencepiece]<4.41.0,>=4.26.0, but you have transformers 4.17.0 which is incompatible.\n",
      "sentence-transformers 2.6.1 requires transformers<5.0.0,>=4.32.0, but you have transformers 4.17.0 which is incompatible.\n"
     ]
    }
   ],
   "source": [
    "!pip install wandb --upgrade"
   ]
  },
  {
   "cell_type": "code",
   "execution_count": 9,
   "metadata": {},
   "outputs": [
    {
     "name": "stdout",
     "output_type": "stream",
     "text": [
      "Requirement already satisfied: transformers in c:\\users\\polri\\appdata\\local\\programs\\python\\python312\\lib\\site-packages (4.41.2)\n",
      "Requirement already satisfied: filelock in c:\\users\\polri\\appdata\\local\\programs\\python\\python312\\lib\\site-packages (from transformers) (3.13.4)\n",
      "Requirement already satisfied: huggingface-hub<1.0,>=0.23.0 in c:\\users\\polri\\appdata\\local\\programs\\python\\python312\\lib\\site-packages (from transformers) (0.23.1)\n",
      "Requirement already satisfied: numpy>=1.17 in c:\\users\\polri\\appdata\\local\\programs\\python\\python312\\lib\\site-packages (from transformers) (1.26.1)\n",
      "Requirement already satisfied: packaging>=20.0 in c:\\users\\polri\\appdata\\local\\programs\\python\\python312\\lib\\site-packages (from transformers) (23.2)\n",
      "Requirement already satisfied: pyyaml>=5.1 in c:\\users\\polri\\appdata\\local\\programs\\python\\python312\\lib\\site-packages (from transformers) (6.0.1)\n",
      "Requirement already satisfied: regex!=2019.12.17 in c:\\users\\polri\\appdata\\local\\programs\\python\\python312\\lib\\site-packages (from transformers) (2023.12.25)\n",
      "Requirement already satisfied: requests in c:\\users\\polri\\appdata\\local\\programs\\python\\python312\\lib\\site-packages (from transformers) (2.31.0)\n",
      "Requirement already satisfied: tokenizers<0.20,>=0.19 in c:\\users\\polri\\appdata\\local\\programs\\python\\python312\\lib\\site-packages (from transformers) (0.19.1)\n",
      "Requirement already satisfied: safetensors>=0.4.1 in c:\\users\\polri\\appdata\\local\\programs\\python\\python312\\lib\\site-packages (from transformers) (0.4.2)\n",
      "Requirement already satisfied: tqdm>=4.27 in c:\\users\\polri\\appdata\\local\\programs\\python\\python312\\lib\\site-packages (from transformers) (4.66.2)\n",
      "Requirement already satisfied: fsspec>=2023.5.0 in c:\\users\\polri\\appdata\\local\\programs\\python\\python312\\lib\\site-packages (from huggingface-hub<1.0,>=0.23.0->transformers) (2024.3.1)\n",
      "Requirement already satisfied: typing-extensions>=3.7.4.3 in c:\\users\\polri\\appdata\\local\\programs\\python\\python312\\lib\\site-packages (from huggingface-hub<1.0,>=0.23.0->transformers) (4.11.0)\n",
      "Requirement already satisfied: colorama in c:\\users\\polri\\appdata\\roaming\\python\\python312\\site-packages (from tqdm>=4.27->transformers) (0.4.6)\n",
      "Requirement already satisfied: charset-normalizer<4,>=2 in c:\\users\\polri\\appdata\\local\\programs\\python\\python312\\lib\\site-packages (from requests->transformers) (3.3.2)\n",
      "Requirement already satisfied: idna<4,>=2.5 in c:\\users\\polri\\appdata\\local\\programs\\python\\python312\\lib\\site-packages (from requests->transformers) (3.7)\n",
      "Requirement already satisfied: urllib3<3,>=1.21.1 in c:\\users\\polri\\appdata\\local\\programs\\python\\python312\\lib\\site-packages (from requests->transformers) (2.2.1)\n",
      "Requirement already satisfied: certifi>=2017.4.17 in c:\\users\\polri\\appdata\\local\\programs\\python\\python312\\lib\\site-packages (from requests->transformers) (2024.2.2)\n",
      "Note: you may need to restart the kernel to use updated packages.\n"
     ]
    }
   ],
   "source": [
    "pip install --upgrade transformers"
   ]
  },
  {
   "cell_type": "code",
   "execution_count": 5,
   "metadata": {},
   "outputs": [
    {
     "name": "stdout",
     "output_type": "stream",
     "text": [
      "Requirement already satisfied: accelerate in c:\\users\\polri\\appdata\\local\\programs\\python\\python312\\lib\\site-packages (0.29.2)Note: you may need to restart the kernel to use updated packages.\n",
      "\n",
      "Collecting accelerate\n",
      "  Using cached accelerate-0.30.1-py3-none-any.whl.metadata (18 kB)\n",
      "Requirement already satisfied: numpy>=1.17 in c:\\users\\polri\\appdata\\local\\programs\\python\\python312\\lib\\site-packages (from accelerate) (1.26.1)\n",
      "Requirement already satisfied: packaging>=20.0 in c:\\users\\polri\\appdata\\local\\programs\\python\\python312\\lib\\site-packages (from accelerate) (23.2)\n",
      "Requirement already satisfied: psutil in c:\\users\\polri\\appdata\\roaming\\python\\python312\\site-packages (from accelerate) (5.9.6)\n",
      "Requirement already satisfied: pyyaml in c:\\users\\polri\\appdata\\local\\programs\\python\\python312\\lib\\site-packages (from accelerate) (6.0.1)\n",
      "Requirement already satisfied: torch>=1.10.0 in c:\\users\\polri\\appdata\\local\\programs\\python\\python312\\lib\\site-packages (from accelerate) (2.2.2)\n",
      "Requirement already satisfied: huggingface-hub in c:\\users\\polri\\appdata\\local\\programs\\python\\python312\\lib\\site-packages (from accelerate) (0.23.1)\n",
      "Requirement already satisfied: safetensors>=0.3.1 in c:\\users\\polri\\appdata\\local\\programs\\python\\python312\\lib\\site-packages (from accelerate) (0.4.2)\n",
      "Requirement already satisfied: filelock in c:\\users\\polri\\appdata\\local\\programs\\python\\python312\\lib\\site-packages (from torch>=1.10.0->accelerate) (3.13.4)\n",
      "Requirement already satisfied: typing-extensions>=4.8.0 in c:\\users\\polri\\appdata\\local\\programs\\python\\python312\\lib\\site-packages (from torch>=1.10.0->accelerate) (4.11.0)\n",
      "Requirement already satisfied: sympy in c:\\users\\polri\\appdata\\local\\programs\\python\\python312\\lib\\site-packages (from torch>=1.10.0->accelerate) (1.12)\n",
      "Requirement already satisfied: networkx in c:\\users\\polri\\appdata\\local\\programs\\python\\python312\\lib\\site-packages (from torch>=1.10.0->accelerate) (3.3)\n",
      "Requirement already satisfied: jinja2 in c:\\users\\polri\\appdata\\local\\programs\\python\\python312\\lib\\site-packages (from torch>=1.10.0->accelerate) (3.1.2)\n",
      "Requirement already satisfied: fsspec in c:\\users\\polri\\appdata\\local\\programs\\python\\python312\\lib\\site-packages (from torch>=1.10.0->accelerate) (2024.3.1)\n",
      "Requirement already satisfied: requests in c:\\users\\polri\\appdata\\local\\programs\\python\\python312\\lib\\site-packages (from huggingface-hub->accelerate) (2.31.0)\n",
      "Requirement already satisfied: tqdm>=4.42.1 in c:\\users\\polri\\appdata\\local\\programs\\python\\python312\\lib\\site-packages (from huggingface-hub->accelerate) (4.66.2)\n",
      "Requirement already satisfied: colorama in c:\\users\\polri\\appdata\\roaming\\python\\python312\\site-packages (from tqdm>=4.42.1->huggingface-hub->accelerate) (0.4.6)\n",
      "Requirement already satisfied: MarkupSafe>=2.0 in c:\\users\\polri\\appdata\\local\\programs\\python\\python312\\lib\\site-packages (from jinja2->torch>=1.10.0->accelerate) (2.1.3)\n",
      "Requirement already satisfied: charset-normalizer<4,>=2 in c:\\users\\polri\\appdata\\local\\programs\\python\\python312\\lib\\site-packages (from requests->huggingface-hub->accelerate) (3.3.2)\n",
      "Requirement already satisfied: idna<4,>=2.5 in c:\\users\\polri\\appdata\\local\\programs\\python\\python312\\lib\\site-packages (from requests->huggingface-hub->accelerate) (3.7)\n",
      "Requirement already satisfied: urllib3<3,>=1.21.1 in c:\\users\\polri\\appdata\\local\\programs\\python\\python312\\lib\\site-packages (from requests->huggingface-hub->accelerate) (2.2.1)\n",
      "Requirement already satisfied: certifi>=2017.4.17 in c:\\users\\polri\\appdata\\local\\programs\\python\\python312\\lib\\site-packages (from requests->huggingface-hub->accelerate) (2024.2.2)\n",
      "Requirement already satisfied: mpmath>=0.19 in c:\\users\\polri\\appdata\\local\\programs\\python\\python312\\lib\\site-packages (from sympy->torch>=1.10.0->accelerate) (1.3.0)\n",
      "Downloading accelerate-0.30.1-py3-none-any.whl (302 kB)\n",
      "   ---------------------------------------- 0.0/302.6 kB ? eta -:--:--\n",
      "   - -------------------------------------- 10.2/302.6 kB ? eta -:--:--\n",
      "   -- ------------------------------------ 20.5/302.6 kB 165.2 kB/s eta 0:00:02\n",
      "   ----- --------------------------------- 41.0/302.6 kB 281.8 kB/s eta 0:00:01\n",
      "   ------------------ ------------------- 143.4/302.6 kB 774.0 kB/s eta 0:00:01\n",
      "   ---------------------------------------- 302.6/302.6 kB 1.4 MB/s eta 0:00:00\n",
      "Installing collected packages: accelerate\n",
      "  Attempting uninstall: accelerate\n",
      "    Found existing installation: accelerate 0.29.2\n",
      "    Uninstalling accelerate-0.29.2:\n",
      "      Successfully uninstalled accelerate-0.29.2\n",
      "Successfully installed accelerate-0.30.1\n"
     ]
    }
   ],
   "source": [
    "pip install accelerate -U"
   ]
  },
  {
   "cell_type": "markdown",
   "metadata": {},
   "source": [
    "# Setup"
   ]
  },
  {
   "cell_type": "code",
   "execution_count": null,
   "metadata": {},
   "outputs": [
    {
     "name": "stdout",
     "output_type": "stream",
     "text": [
      "3.12.0 (tags/v3.12.0:0fb18b0, Oct  2 2023, 13:03:39) [MSC v.1935 64 bit (AMD64)]\n"
     ]
    }
   ],
   "source": [
    "# Python version\n",
    "import sys \n",
    "print(sys.version)"
   ]
  },
  {
   "cell_type": "code",
   "execution_count": null,
   "metadata": {},
   "outputs": [
    {
     "data": {
      "text/plain": [
       "False"
      ]
     },
     "metadata": {},
     "output_type": "display_data"
    }
   ],
   "source": [
    "# Environment Variables\n",
    "from dotenv import load_dotenv\n",
    "import yaml\n",
    "import os\n",
    "env_path = '/notebooks/TFM_LAW_LLM/env.txt'\n",
    "\n",
    "# Load env\n",
    "load_dotenv(dotenv_path=env_path)"
   ]
  },
  {
   "cell_type": "markdown",
   "metadata": {},
   "source": [
    "\n",
    "We need the following torch configuration:"
   ]
  },
  {
   "cell_type": "code",
   "execution_count": null,
   "metadata": {},
   "outputs": [],
   "source": [
    "# Torch config\n",
    "from torch import cuda, bfloat16, float16\n",
    "import torch\n",
    "\n",
    "# Torch options\n",
    "torch.backends.cuda.enable_mem_efficient_sdp(False)\n",
    "torch.backends.cuda.enable_flash_sdp(False)"
   ]
  },
  {
   "cell_type": "markdown",
   "metadata": {},
   "source": [
    "# Parameters"
   ]
  },
  {
   "cell_type": "code",
   "execution_count": null,
   "metadata": {},
   "outputs": [],
   "source": [
    "# Load parameters from YAML file\n",
    "import os\n",
    "\n",
    "# Change the current working directory to the directory containing the YAML file\n",
    "os.chdir('/notebooks/TFM_LAW_LLM')\n",
    "\n",
    "# Load parameters from YAML file\n",
    "with open('config.yaml', 'r') as file:\n",
    "    config = yaml.safe_load(file)"
   ]
  },
  {
   "cell_type": "code",
   "execution_count": null,
   "metadata": {},
   "outputs": [
    {
     "data": {
      "text/plain": [
       "False"
      ]
     },
     "metadata": {},
     "output_type": "display_data"
    }
   ],
   "source": [
    "# Use optimum\n",
    "use_optimum = config[\"use_optimum\"]\n",
    "\n",
    "# Show\n",
    "use_optimum"
   ]
  },
  {
   "cell_type": "markdown",
   "metadata": {},
   "source": [
    "# References"
   ]
  },
  {
   "cell_type": "markdown",
   "metadata": {},
   "source": [
    "- https://github.com/the-ogre/LLM-FinetuningBERTforQuestionAnswering\n",
    "- https://heidloff.net/article/fine-tuning-question-answering/\n",
    "- https://medium.com/@xiaohan_63326/fine-tune-fine-tuning-bert-for-question-answering-qa-task-5c29e3d518f1"
   ]
  },
  {
   "cell_type": "markdown",
   "metadata": {},
   "source": [
    "# Directory"
   ]
  },
  {
   "cell_type": "code",
   "execution_count": null,
   "metadata": {},
   "outputs": [
    {
     "data": {
      "text/plain": [
       "'C:\\\\Users\\\\polri\\\\Desktop\\\\Git_TFM\\\\TFM_LAW_LLM'"
      ]
     },
     "metadata": {},
     "output_type": "display_data"
    }
   ],
   "source": [
    "# Set directory to file location\n",
    "from pathlib import Path\n",
    "notebook_location = Path(os.path.abspath(''))\n",
    "os.chdir(notebook_location)\n",
    "\n",
    "# Get the current working directory\n",
    "current_directory = os.getcwd()\n",
    "current_directory"
   ]
  },
  {
   "cell_type": "markdown",
   "metadata": {},
   "source": [
    "# Libraries"
   ]
  },
  {
   "cell_type": "code",
   "execution_count": 10,
   "metadata": {},
   "outputs": [],
   "source": [
    "# General utility libraries\n",
    "import os \n",
    "\n",
    "# PyTorch library for deep learning\n",
    "import torch  \n",
    "\n",
    "# HuggingFace Transformers library for natural language processing\n",
    "from transformers import AutoTokenizer, AutoModelForQuestionAnswering, TrainingArguments, Trainer \n",
    "\n",
    "# Dataset handling library from HuggingFace\n",
    "from datasets import Dataset  \n",
    "\n",
    "# Pinecone related\n",
    "import pinecone  \n",
    "from pinecone import Pinecone  \n",
    "\n",
    "# LangChain integration with Pinecone\n",
    "from langchain_pinecone import PineconeVectorStore  \n",
    "\n",
    "# Transformers pipeline \n",
    "from transformers import pipeline  \n",
    "\n",
    "# LangChain library for creating embeddings with HuggingFace\n",
    "from langchain.embeddings.huggingface import HuggingFaceEmbeddings  \n",
    "\n",
    "# Scikit-learn library for machine learning\n",
    "from sklearn.model_selection import train_test_split  \n",
    "\n",
    "# Local custom functions\n",
    "from functions import *\n",
    "from utils import *\n"
   ]
  },
  {
   "cell_type": "markdown",
   "metadata": {},
   "source": [
    "## Embeddings"
   ]
  },
  {
   "cell_type": "markdown",
   "metadata": {},
   "source": [
    "We load the embedding model."
   ]
  },
  {
   "cell_type": "code",
   "execution_count": null,
   "metadata": {},
   "outputs": [
    {
     "name": "stderr",
     "output_type": "stream",
     "text": [
      "c:\\Users\\polri\\AppData\\Local\\Programs\\Python\\Python312\\Lib\\site-packages\\huggingface_hub\\file_download.py:1132: FutureWarning: `resume_download` is deprecated and will be removed in version 1.0.0. Downloads always resume when possible. If you want to force a new download, use `force_download=True`.\n",
      "  warnings.warn(\n",
      "401 Client Error. (Request ID: Root=1-665df042-64c49e2e19465a9c026af3a0)\n",
      "\n",
      "Repository Not Found for url: https://huggingface.co/dariolopez/roberta-base-bne-finetuned-msmarco-qa-es-mnrl-mn/resolve/main/model.safetensors.\n",
      "Please make sure you specified the correct `repo_id` and `repo_type`.\n",
      "If you are trying to access a private or gated repo, make sure you are authenticated.\n",
      "User Access Token \"nacho\" is expired\n"
     ]
    },
    {
     "ename": "OSError",
     "evalue": "dariolopez/roberta-base-bne-finetuned-msmarco-qa-es-mnrl-mn is not a local folder or a valid repository name on 'https://hf.co'.",
     "output_type": "error",
     "traceback": [
      "\u001b[1;31m---------------------------------------------------------------------------\u001b[0m",
      "\u001b[1;31mHTTPError\u001b[0m                                 Traceback (most recent call last)",
      "File \u001b[1;32mc:\\Users\\polri\\AppData\\Local\\Programs\\Python\\Python312\\Lib\\site-packages\\huggingface_hub\\utils\\_errors.py:304\u001b[0m, in \u001b[0;36mhf_raise_for_status\u001b[1;34m(response, endpoint_name)\u001b[0m\n\u001b[0;32m    303\u001b[0m \u001b[38;5;28;01mtry\u001b[39;00m:\n\u001b[1;32m--> 304\u001b[0m     \u001b[43mresponse\u001b[49m\u001b[38;5;241;43m.\u001b[39;49m\u001b[43mraise_for_status\u001b[49m\u001b[43m(\u001b[49m\u001b[43m)\u001b[49m\n\u001b[0;32m    305\u001b[0m \u001b[38;5;28;01mexcept\u001b[39;00m HTTPError \u001b[38;5;28;01mas\u001b[39;00m e:\n",
      "File \u001b[1;32mc:\\Users\\polri\\AppData\\Local\\Programs\\Python\\Python312\\Lib\\site-packages\\requests\\models.py:1021\u001b[0m, in \u001b[0;36mResponse.raise_for_status\u001b[1;34m(self)\u001b[0m\n\u001b[0;32m   1020\u001b[0m \u001b[38;5;28;01mif\u001b[39;00m http_error_msg:\n\u001b[1;32m-> 1021\u001b[0m     \u001b[38;5;28;01mraise\u001b[39;00m HTTPError(http_error_msg, response\u001b[38;5;241m=\u001b[39m\u001b[38;5;28mself\u001b[39m)\n",
      "\u001b[1;31mHTTPError\u001b[0m: 401 Client Error: Unauthorized for url: https://huggingface.co/dariolopez/roberta-base-bne-finetuned-msmarco-qa-es-mnrl-mn/resolve/main/model.safetensors",
      "\nThe above exception was the direct cause of the following exception:\n",
      "\u001b[1;31mRepositoryNotFoundError\u001b[0m                   Traceback (most recent call last)",
      "File \u001b[1;32mc:\\Users\\polri\\AppData\\Local\\Programs\\Python\\Python312\\Lib\\site-packages\\transformers\\utils\\hub.py:631\u001b[0m, in \u001b[0;36mhas_file\u001b[1;34m(path_or_repo, filename, revision, proxies, token, **deprecated_kwargs)\u001b[0m\n\u001b[0;32m    630\u001b[0m \u001b[38;5;28;01mtry\u001b[39;00m:\n\u001b[1;32m--> 631\u001b[0m     \u001b[43mhf_raise_for_status\u001b[49m\u001b[43m(\u001b[49m\u001b[43mr\u001b[49m\u001b[43m)\u001b[49m\n\u001b[0;32m    632\u001b[0m     \u001b[38;5;28;01mreturn\u001b[39;00m \u001b[38;5;28;01mTrue\u001b[39;00m\n",
      "File \u001b[1;32mc:\\Users\\polri\\AppData\\Local\\Programs\\Python\\Python312\\Lib\\site-packages\\huggingface_hub\\utils\\_errors.py:352\u001b[0m, in \u001b[0;36mhf_raise_for_status\u001b[1;34m(response, endpoint_name)\u001b[0m\n\u001b[0;32m    344\u001b[0m     message \u001b[38;5;241m=\u001b[39m (\n\u001b[0;32m    345\u001b[0m         \u001b[38;5;124mf\u001b[39m\u001b[38;5;124m\"\u001b[39m\u001b[38;5;132;01m{\u001b[39;00mresponse\u001b[38;5;241m.\u001b[39mstatus_code\u001b[38;5;132;01m}\u001b[39;00m\u001b[38;5;124m Client Error.\u001b[39m\u001b[38;5;124m\"\u001b[39m\n\u001b[0;32m    346\u001b[0m         \u001b[38;5;241m+\u001b[39m \u001b[38;5;124m\"\u001b[39m\u001b[38;5;130;01m\\n\u001b[39;00m\u001b[38;5;130;01m\\n\u001b[39;00m\u001b[38;5;124m\"\u001b[39m\n\u001b[1;32m   (...)\u001b[0m\n\u001b[0;32m    350\u001b[0m         \u001b[38;5;124m\"\u001b[39m\u001b[38;5;124m make sure you are authenticated.\u001b[39m\u001b[38;5;124m\"\u001b[39m\n\u001b[0;32m    351\u001b[0m     )\n\u001b[1;32m--> 352\u001b[0m     \u001b[38;5;28;01mraise\u001b[39;00m RepositoryNotFoundError(message, response) \u001b[38;5;28;01mfrom\u001b[39;00m \u001b[38;5;21;01me\u001b[39;00m\n\u001b[0;32m    354\u001b[0m \u001b[38;5;28;01melif\u001b[39;00m response\u001b[38;5;241m.\u001b[39mstatus_code \u001b[38;5;241m==\u001b[39m \u001b[38;5;241m400\u001b[39m:\n",
      "\u001b[1;31mRepositoryNotFoundError\u001b[0m: 401 Client Error. (Request ID: Root=1-665df042-64c49e2e19465a9c026af3a0)\n\nRepository Not Found for url: https://huggingface.co/dariolopez/roberta-base-bne-finetuned-msmarco-qa-es-mnrl-mn/resolve/main/model.safetensors.\nPlease make sure you specified the correct `repo_id` and `repo_type`.\nIf you are trying to access a private or gated repo, make sure you are authenticated.\nUser Access Token \"nacho\" is expired",
      "\nDuring handling of the above exception, another exception occurred:\n",
      "\u001b[1;31mOSError\u001b[0m                                   Traceback (most recent call last)",
      "Cell \u001b[1;32mIn[14], line 3\u001b[0m\n\u001b[0;32m      1\u001b[0m \u001b[38;5;66;03m# Load the embedding model\u001b[39;00m\n\u001b[0;32m      2\u001b[0m embed_model_id \u001b[38;5;241m=\u001b[39m \u001b[38;5;124m'\u001b[39m\u001b[38;5;124mdariolopez/roberta-base-bne-finetuned-msmarco-qa-es-mnrl-mn\u001b[39m\u001b[38;5;124m'\u001b[39m\n\u001b[1;32m----> 3\u001b[0m embed_model \u001b[38;5;241m=\u001b[39m \u001b[43mHuggingFaceEmbeddings\u001b[49m\u001b[43m(\u001b[49m\u001b[43mmodel_name\u001b[49m\u001b[38;5;241;43m=\u001b[39;49m\u001b[43membed_model_id\u001b[49m\u001b[43m,\u001b[49m\u001b[43m \u001b[49m\u001b[43mmodel_kwargs\u001b[49m\u001b[38;5;241;43m=\u001b[39;49m\u001b[43m{\u001b[49m\u001b[38;5;124;43m'\u001b[39;49m\u001b[38;5;124;43mdevice\u001b[39;49m\u001b[38;5;124;43m'\u001b[39;49m\u001b[43m:\u001b[49m\u001b[43m \u001b[49m\u001b[38;5;124;43m'\u001b[39;49m\u001b[38;5;124;43mcuda\u001b[39;49m\u001b[38;5;124;43m'\u001b[39;49m\u001b[43m \u001b[49m\u001b[38;5;28;43;01mif\u001b[39;49;00m\u001b[43m \u001b[49m\u001b[43mtorch\u001b[49m\u001b[38;5;241;43m.\u001b[39;49m\u001b[43mcuda\u001b[49m\u001b[38;5;241;43m.\u001b[39;49m\u001b[43mis_available\u001b[49m\u001b[43m(\u001b[49m\u001b[43m)\u001b[49m\u001b[43m \u001b[49m\u001b[38;5;28;43;01melse\u001b[39;49;00m\u001b[43m \u001b[49m\u001b[38;5;124;43m'\u001b[39;49m\u001b[38;5;124;43mcpu\u001b[39;49m\u001b[38;5;124;43m'\u001b[39;49m\u001b[43m}\u001b[49m\u001b[43m)\u001b[49m\n\u001b[0;32m      5\u001b[0m \u001b[38;5;66;03m# Define query and retrieve documents\u001b[39;00m\n\u001b[0;32m      6\u001b[0m query \u001b[38;5;241m=\u001b[39m \u001b[38;5;124m'\u001b[39m\u001b[38;5;124m¿Qué diferencia hay entre homicidio y asesinato según el Código Penal español, y cuáles son las penas asociadas a cada uno?\u001b[39m\u001b[38;5;124m'\u001b[39m\n",
      "File \u001b[1;32mc:\\Users\\polri\\AppData\\Local\\Programs\\Python\\Python312\\Lib\\site-packages\\langchain_community\\embeddings\\huggingface.py:72\u001b[0m, in \u001b[0;36mHuggingFaceEmbeddings.__init__\u001b[1;34m(self, **kwargs)\u001b[0m\n\u001b[0;32m     66\u001b[0m \u001b[38;5;28;01mexcept\u001b[39;00m \u001b[38;5;167;01mImportError\u001b[39;00m \u001b[38;5;28;01mas\u001b[39;00m exc:\n\u001b[0;32m     67\u001b[0m     \u001b[38;5;28;01mraise\u001b[39;00m \u001b[38;5;167;01mImportError\u001b[39;00m(\n\u001b[0;32m     68\u001b[0m         \u001b[38;5;124m\"\u001b[39m\u001b[38;5;124mCould not import sentence_transformers python package. \u001b[39m\u001b[38;5;124m\"\u001b[39m\n\u001b[0;32m     69\u001b[0m         \u001b[38;5;124m\"\u001b[39m\u001b[38;5;124mPlease install it with `pip install sentence-transformers`.\u001b[39m\u001b[38;5;124m\"\u001b[39m\n\u001b[0;32m     70\u001b[0m     ) \u001b[38;5;28;01mfrom\u001b[39;00m \u001b[38;5;21;01mexc\u001b[39;00m\n\u001b[1;32m---> 72\u001b[0m \u001b[38;5;28mself\u001b[39m\u001b[38;5;241m.\u001b[39mclient \u001b[38;5;241m=\u001b[39m \u001b[43msentence_transformers\u001b[49m\u001b[38;5;241;43m.\u001b[39;49m\u001b[43mSentenceTransformer\u001b[49m\u001b[43m(\u001b[49m\n\u001b[0;32m     73\u001b[0m \u001b[43m    \u001b[49m\u001b[38;5;28;43mself\u001b[39;49m\u001b[38;5;241;43m.\u001b[39;49m\u001b[43mmodel_name\u001b[49m\u001b[43m,\u001b[49m\u001b[43m \u001b[49m\u001b[43mcache_folder\u001b[49m\u001b[38;5;241;43m=\u001b[39;49m\u001b[38;5;28;43mself\u001b[39;49m\u001b[38;5;241;43m.\u001b[39;49m\u001b[43mcache_folder\u001b[49m\u001b[43m,\u001b[49m\u001b[43m \u001b[49m\u001b[38;5;241;43m*\u001b[39;49m\u001b[38;5;241;43m*\u001b[39;49m\u001b[38;5;28;43mself\u001b[39;49m\u001b[38;5;241;43m.\u001b[39;49m\u001b[43mmodel_kwargs\u001b[49m\n\u001b[0;32m     74\u001b[0m \u001b[43m\u001b[49m\u001b[43m)\u001b[49m\n",
      "File \u001b[1;32mc:\\Users\\polri\\AppData\\Local\\Programs\\Python\\Python312\\Lib\\site-packages\\sentence_transformers\\SentenceTransformer.py:191\u001b[0m, in \u001b[0;36mSentenceTransformer.__init__\u001b[1;34m(self, model_name_or_path, modules, device, prompts, default_prompt_name, cache_folder, trust_remote_code, revision, token, use_auth_token)\u001b[0m\n\u001b[0;32m    188\u001b[0m         model_name_or_path \u001b[38;5;241m=\u001b[39m __MODEL_HUB_ORGANIZATION__ \u001b[38;5;241m+\u001b[39m \u001b[38;5;124m\"\u001b[39m\u001b[38;5;124m/\u001b[39m\u001b[38;5;124m\"\u001b[39m \u001b[38;5;241m+\u001b[39m model_name_or_path\n\u001b[0;32m    190\u001b[0m \u001b[38;5;28;01mif\u001b[39;00m is_sentence_transformer_model(model_name_or_path, token, cache_folder\u001b[38;5;241m=\u001b[39mcache_folder, revision\u001b[38;5;241m=\u001b[39mrevision):\n\u001b[1;32m--> 191\u001b[0m     modules \u001b[38;5;241m=\u001b[39m \u001b[38;5;28;43mself\u001b[39;49m\u001b[38;5;241;43m.\u001b[39;49m\u001b[43m_load_sbert_model\u001b[49m\u001b[43m(\u001b[49m\n\u001b[0;32m    192\u001b[0m \u001b[43m        \u001b[49m\u001b[43mmodel_name_or_path\u001b[49m\u001b[43m,\u001b[49m\n\u001b[0;32m    193\u001b[0m \u001b[43m        \u001b[49m\u001b[43mtoken\u001b[49m\u001b[38;5;241;43m=\u001b[39;49m\u001b[43mtoken\u001b[49m\u001b[43m,\u001b[49m\n\u001b[0;32m    194\u001b[0m \u001b[43m        \u001b[49m\u001b[43mcache_folder\u001b[49m\u001b[38;5;241;43m=\u001b[39;49m\u001b[43mcache_folder\u001b[49m\u001b[43m,\u001b[49m\n\u001b[0;32m    195\u001b[0m \u001b[43m        \u001b[49m\u001b[43mrevision\u001b[49m\u001b[38;5;241;43m=\u001b[39;49m\u001b[43mrevision\u001b[49m\u001b[43m,\u001b[49m\n\u001b[0;32m    196\u001b[0m \u001b[43m        \u001b[49m\u001b[43mtrust_remote_code\u001b[49m\u001b[38;5;241;43m=\u001b[39;49m\u001b[43mtrust_remote_code\u001b[49m\u001b[43m,\u001b[49m\n\u001b[0;32m    197\u001b[0m \u001b[43m    \u001b[49m\u001b[43m)\u001b[49m\n\u001b[0;32m    198\u001b[0m \u001b[38;5;28;01melse\u001b[39;00m:\n\u001b[0;32m    199\u001b[0m     modules \u001b[38;5;241m=\u001b[39m \u001b[38;5;28mself\u001b[39m\u001b[38;5;241m.\u001b[39m_load_auto_model(\n\u001b[0;32m    200\u001b[0m         model_name_or_path,\n\u001b[0;32m    201\u001b[0m         token\u001b[38;5;241m=\u001b[39mtoken,\n\u001b[1;32m   (...)\u001b[0m\n\u001b[0;32m    204\u001b[0m         trust_remote_code\u001b[38;5;241m=\u001b[39mtrust_remote_code,\n\u001b[0;32m    205\u001b[0m     )\n",
      "File \u001b[1;32mc:\\Users\\polri\\AppData\\Local\\Programs\\Python\\Python312\\Lib\\site-packages\\sentence_transformers\\SentenceTransformer.py:1233\u001b[0m, in \u001b[0;36mSentenceTransformer._load_sbert_model\u001b[1;34m(self, model_name_or_path, token, cache_folder, revision, trust_remote_code)\u001b[0m\n\u001b[0;32m   1231\u001b[0m     \u001b[38;5;28;01melse\u001b[39;00m:\n\u001b[0;32m   1232\u001b[0m         kwargs[\u001b[38;5;124m\"\u001b[39m\u001b[38;5;124mtokenizer_args\u001b[39m\u001b[38;5;124m\"\u001b[39m] \u001b[38;5;241m=\u001b[39m hub_kwargs\n\u001b[1;32m-> 1233\u001b[0m     module \u001b[38;5;241m=\u001b[39m \u001b[43mTransformer\u001b[49m\u001b[43m(\u001b[49m\u001b[43mmodel_name_or_path\u001b[49m\u001b[43m,\u001b[49m\u001b[43m \u001b[49m\u001b[43mcache_dir\u001b[49m\u001b[38;5;241;43m=\u001b[39;49m\u001b[43mcache_folder\u001b[49m\u001b[43m,\u001b[49m\u001b[43m \u001b[49m\u001b[38;5;241;43m*\u001b[39;49m\u001b[38;5;241;43m*\u001b[39;49m\u001b[43mkwargs\u001b[49m\u001b[43m)\u001b[49m\n\u001b[0;32m   1234\u001b[0m \u001b[38;5;28;01melse\u001b[39;00m:\n\u001b[0;32m   1235\u001b[0m     \u001b[38;5;66;03m# Normalize does not require any files to be loaded\u001b[39;00m\n\u001b[0;32m   1236\u001b[0m     \u001b[38;5;28;01mif\u001b[39;00m module_class \u001b[38;5;241m==\u001b[39m Normalize:\n",
      "File \u001b[1;32mc:\\Users\\polri\\AppData\\Local\\Programs\\Python\\Python312\\Lib\\site-packages\\sentence_transformers\\models\\Transformer.py:36\u001b[0m, in \u001b[0;36mTransformer.__init__\u001b[1;34m(self, model_name_or_path, max_seq_length, model_args, cache_dir, tokenizer_args, do_lower_case, tokenizer_name_or_path)\u001b[0m\n\u001b[0;32m     33\u001b[0m \u001b[38;5;28mself\u001b[39m\u001b[38;5;241m.\u001b[39mdo_lower_case \u001b[38;5;241m=\u001b[39m do_lower_case\n\u001b[0;32m     35\u001b[0m config \u001b[38;5;241m=\u001b[39m AutoConfig\u001b[38;5;241m.\u001b[39mfrom_pretrained(model_name_or_path, \u001b[38;5;241m*\u001b[39m\u001b[38;5;241m*\u001b[39mmodel_args, cache_dir\u001b[38;5;241m=\u001b[39mcache_dir)\n\u001b[1;32m---> 36\u001b[0m \u001b[38;5;28;43mself\u001b[39;49m\u001b[38;5;241;43m.\u001b[39;49m\u001b[43m_load_model\u001b[49m\u001b[43m(\u001b[49m\u001b[43mmodel_name_or_path\u001b[49m\u001b[43m,\u001b[49m\u001b[43m \u001b[49m\u001b[43mconfig\u001b[49m\u001b[43m,\u001b[49m\u001b[43m \u001b[49m\u001b[43mcache_dir\u001b[49m\u001b[43m,\u001b[49m\u001b[43m \u001b[49m\u001b[38;5;241;43m*\u001b[39;49m\u001b[38;5;241;43m*\u001b[39;49m\u001b[43mmodel_args\u001b[49m\u001b[43m)\u001b[49m\n\u001b[0;32m     38\u001b[0m \u001b[38;5;28mself\u001b[39m\u001b[38;5;241m.\u001b[39mtokenizer \u001b[38;5;241m=\u001b[39m AutoTokenizer\u001b[38;5;241m.\u001b[39mfrom_pretrained(\n\u001b[0;32m     39\u001b[0m     tokenizer_name_or_path \u001b[38;5;28;01mif\u001b[39;00m tokenizer_name_or_path \u001b[38;5;129;01mis\u001b[39;00m \u001b[38;5;129;01mnot\u001b[39;00m \u001b[38;5;28;01mNone\u001b[39;00m \u001b[38;5;28;01melse\u001b[39;00m model_name_or_path,\n\u001b[0;32m     40\u001b[0m     cache_dir\u001b[38;5;241m=\u001b[39mcache_dir,\n\u001b[0;32m     41\u001b[0m     \u001b[38;5;241m*\u001b[39m\u001b[38;5;241m*\u001b[39mtokenizer_args,\n\u001b[0;32m     42\u001b[0m )\n\u001b[0;32m     44\u001b[0m \u001b[38;5;66;03m# No max_seq_length set. Try to infer from model\u001b[39;00m\n",
      "File \u001b[1;32mc:\\Users\\polri\\AppData\\Local\\Programs\\Python\\Python312\\Lib\\site-packages\\sentence_transformers\\models\\Transformer.py:65\u001b[0m, in \u001b[0;36mTransformer._load_model\u001b[1;34m(self, model_name_or_path, config, cache_dir, **model_args)\u001b[0m\n\u001b[0;32m     63\u001b[0m     \u001b[38;5;28mself\u001b[39m\u001b[38;5;241m.\u001b[39m_load_mt5_model(model_name_or_path, config, cache_dir, \u001b[38;5;241m*\u001b[39m\u001b[38;5;241m*\u001b[39mmodel_args)\n\u001b[0;32m     64\u001b[0m \u001b[38;5;28;01melse\u001b[39;00m:\n\u001b[1;32m---> 65\u001b[0m     \u001b[38;5;28mself\u001b[39m\u001b[38;5;241m.\u001b[39mauto_model \u001b[38;5;241m=\u001b[39m \u001b[43mAutoModel\u001b[49m\u001b[38;5;241;43m.\u001b[39;49m\u001b[43mfrom_pretrained\u001b[49m\u001b[43m(\u001b[49m\n\u001b[0;32m     66\u001b[0m \u001b[43m        \u001b[49m\u001b[43mmodel_name_or_path\u001b[49m\u001b[43m,\u001b[49m\u001b[43m \u001b[49m\u001b[43mconfig\u001b[49m\u001b[38;5;241;43m=\u001b[39;49m\u001b[43mconfig\u001b[49m\u001b[43m,\u001b[49m\u001b[43m \u001b[49m\u001b[43mcache_dir\u001b[49m\u001b[38;5;241;43m=\u001b[39;49m\u001b[43mcache_dir\u001b[49m\u001b[43m,\u001b[49m\u001b[43m \u001b[49m\u001b[38;5;241;43m*\u001b[39;49m\u001b[38;5;241;43m*\u001b[39;49m\u001b[43mmodel_args\u001b[49m\n\u001b[0;32m     67\u001b[0m \u001b[43m    \u001b[49m\u001b[43m)\u001b[49m\n",
      "File \u001b[1;32mc:\\Users\\polri\\AppData\\Local\\Programs\\Python\\Python312\\Lib\\site-packages\\transformers\\models\\auto\\auto_factory.py:563\u001b[0m, in \u001b[0;36m_BaseAutoModelClass.from_pretrained\u001b[1;34m(cls, pretrained_model_name_or_path, *model_args, **kwargs)\u001b[0m\n\u001b[0;32m    561\u001b[0m \u001b[38;5;28;01melif\u001b[39;00m \u001b[38;5;28mtype\u001b[39m(config) \u001b[38;5;129;01min\u001b[39;00m \u001b[38;5;28mcls\u001b[39m\u001b[38;5;241m.\u001b[39m_model_mapping\u001b[38;5;241m.\u001b[39mkeys():\n\u001b[0;32m    562\u001b[0m     model_class \u001b[38;5;241m=\u001b[39m _get_model_class(config, \u001b[38;5;28mcls\u001b[39m\u001b[38;5;241m.\u001b[39m_model_mapping)\n\u001b[1;32m--> 563\u001b[0m     \u001b[38;5;28;01mreturn\u001b[39;00m \u001b[43mmodel_class\u001b[49m\u001b[38;5;241;43m.\u001b[39;49m\u001b[43mfrom_pretrained\u001b[49m\u001b[43m(\u001b[49m\n\u001b[0;32m    564\u001b[0m \u001b[43m        \u001b[49m\u001b[43mpretrained_model_name_or_path\u001b[49m\u001b[43m,\u001b[49m\u001b[43m \u001b[49m\u001b[38;5;241;43m*\u001b[39;49m\u001b[43mmodel_args\u001b[49m\u001b[43m,\u001b[49m\u001b[43m \u001b[49m\u001b[43mconfig\u001b[49m\u001b[38;5;241;43m=\u001b[39;49m\u001b[43mconfig\u001b[49m\u001b[43m,\u001b[49m\u001b[43m \u001b[49m\u001b[38;5;241;43m*\u001b[39;49m\u001b[38;5;241;43m*\u001b[39;49m\u001b[43mhub_kwargs\u001b[49m\u001b[43m,\u001b[49m\u001b[43m \u001b[49m\u001b[38;5;241;43m*\u001b[39;49m\u001b[38;5;241;43m*\u001b[39;49m\u001b[43mkwargs\u001b[49m\n\u001b[0;32m    565\u001b[0m \u001b[43m    \u001b[49m\u001b[43m)\u001b[49m\n\u001b[0;32m    566\u001b[0m \u001b[38;5;28;01mraise\u001b[39;00m \u001b[38;5;167;01mValueError\u001b[39;00m(\n\u001b[0;32m    567\u001b[0m     \u001b[38;5;124mf\u001b[39m\u001b[38;5;124m\"\u001b[39m\u001b[38;5;124mUnrecognized configuration class \u001b[39m\u001b[38;5;132;01m{\u001b[39;00mconfig\u001b[38;5;241m.\u001b[39m\u001b[38;5;18m__class__\u001b[39m\u001b[38;5;132;01m}\u001b[39;00m\u001b[38;5;124m for this kind of AutoModel: \u001b[39m\u001b[38;5;132;01m{\u001b[39;00m\u001b[38;5;28mcls\u001b[39m\u001b[38;5;241m.\u001b[39m\u001b[38;5;18m__name__\u001b[39m\u001b[38;5;132;01m}\u001b[39;00m\u001b[38;5;124m.\u001b[39m\u001b[38;5;130;01m\\n\u001b[39;00m\u001b[38;5;124m\"\u001b[39m\n\u001b[0;32m    568\u001b[0m     \u001b[38;5;124mf\u001b[39m\u001b[38;5;124m\"\u001b[39m\u001b[38;5;124mModel type should be one of \u001b[39m\u001b[38;5;132;01m{\u001b[39;00m\u001b[38;5;124m'\u001b[39m\u001b[38;5;124m, \u001b[39m\u001b[38;5;124m'\u001b[39m\u001b[38;5;241m.\u001b[39mjoin(c\u001b[38;5;241m.\u001b[39m\u001b[38;5;18m__name__\u001b[39m\u001b[38;5;250m \u001b[39m\u001b[38;5;28;01mfor\u001b[39;00m\u001b[38;5;250m \u001b[39mc\u001b[38;5;250m \u001b[39m\u001b[38;5;129;01min\u001b[39;00m\u001b[38;5;250m \u001b[39m\u001b[38;5;28mcls\u001b[39m\u001b[38;5;241m.\u001b[39m_model_mapping\u001b[38;5;241m.\u001b[39mkeys())\u001b[38;5;132;01m}\u001b[39;00m\u001b[38;5;124m.\u001b[39m\u001b[38;5;124m\"\u001b[39m\n\u001b[0;32m    569\u001b[0m )\n",
      "File \u001b[1;32mc:\\Users\\polri\\AppData\\Local\\Programs\\Python\\Python312\\Lib\\site-packages\\transformers\\modeling_utils.py:3415\u001b[0m, in \u001b[0;36mPreTrainedModel.from_pretrained\u001b[1;34m(cls, pretrained_model_name_or_path, config, cache_dir, ignore_mismatched_sizes, force_download, local_files_only, token, revision, use_safetensors, *model_args, **kwargs)\u001b[0m\n\u001b[0;32m   3398\u001b[0m         has_file_kwargs \u001b[38;5;241m=\u001b[39m {\n\u001b[0;32m   3399\u001b[0m             \u001b[38;5;124m\"\u001b[39m\u001b[38;5;124mrevision\u001b[39m\u001b[38;5;124m\"\u001b[39m: revision,\n\u001b[0;32m   3400\u001b[0m             \u001b[38;5;124m\"\u001b[39m\u001b[38;5;124mproxies\u001b[39m\u001b[38;5;124m\"\u001b[39m: proxies,\n\u001b[0;32m   3401\u001b[0m             \u001b[38;5;124m\"\u001b[39m\u001b[38;5;124mtoken\u001b[39m\u001b[38;5;124m\"\u001b[39m: token,\n\u001b[0;32m   3402\u001b[0m         }\n\u001b[0;32m   3403\u001b[0m         cached_file_kwargs \u001b[38;5;241m=\u001b[39m {\n\u001b[0;32m   3404\u001b[0m             \u001b[38;5;124m\"\u001b[39m\u001b[38;5;124mcache_dir\u001b[39m\u001b[38;5;124m\"\u001b[39m: cache_dir,\n\u001b[0;32m   3405\u001b[0m             \u001b[38;5;124m\"\u001b[39m\u001b[38;5;124mforce_download\u001b[39m\u001b[38;5;124m\"\u001b[39m: force_download,\n\u001b[1;32m   (...)\u001b[0m\n\u001b[0;32m   3413\u001b[0m             \u001b[38;5;241m*\u001b[39m\u001b[38;5;241m*\u001b[39mhas_file_kwargs,\n\u001b[0;32m   3414\u001b[0m         }\n\u001b[1;32m-> 3415\u001b[0m         \u001b[38;5;28;01mif\u001b[39;00m \u001b[38;5;129;01mnot\u001b[39;00m \u001b[43mhas_file\u001b[49m\u001b[43m(\u001b[49m\u001b[43mpretrained_model_name_or_path\u001b[49m\u001b[43m,\u001b[49m\u001b[43m \u001b[49m\u001b[43msafe_weights_name\u001b[49m\u001b[43m,\u001b[49m\u001b[43m \u001b[49m\u001b[38;5;241;43m*\u001b[39;49m\u001b[38;5;241;43m*\u001b[39;49m\u001b[43mhas_file_kwargs\u001b[49m\u001b[43m)\u001b[49m:\n\u001b[0;32m   3416\u001b[0m             Thread(\n\u001b[0;32m   3417\u001b[0m                 target\u001b[38;5;241m=\u001b[39mauto_conversion,\n\u001b[0;32m   3418\u001b[0m                 args\u001b[38;5;241m=\u001b[39m(pretrained_model_name_or_path,),\n\u001b[0;32m   3419\u001b[0m                 kwargs\u001b[38;5;241m=\u001b[39m{\u001b[38;5;124m\"\u001b[39m\u001b[38;5;124mignore_errors_during_conversion\u001b[39m\u001b[38;5;124m\"\u001b[39m: \u001b[38;5;28;01mTrue\u001b[39;00m, \u001b[38;5;241m*\u001b[39m\u001b[38;5;241m*\u001b[39mcached_file_kwargs},\n\u001b[0;32m   3420\u001b[0m                 name\u001b[38;5;241m=\u001b[39m\u001b[38;5;124m\"\u001b[39m\u001b[38;5;124mThread-autoconversion\u001b[39m\u001b[38;5;124m\"\u001b[39m,\n\u001b[0;32m   3421\u001b[0m             )\u001b[38;5;241m.\u001b[39mstart()\n\u001b[0;32m   3422\u001b[0m \u001b[38;5;28;01melse\u001b[39;00m:\n\u001b[0;32m   3423\u001b[0m     \u001b[38;5;66;03m# Otherwise, no PyTorch file was found, maybe there is a TF or Flax model file.\u001b[39;00m\n\u001b[0;32m   3424\u001b[0m     \u001b[38;5;66;03m# We try those to give a helpful error message.\u001b[39;00m\n",
      "File \u001b[1;32mc:\\Users\\polri\\AppData\\Local\\Programs\\Python\\Python312\\Lib\\site-packages\\transformers\\utils\\hub.py:642\u001b[0m, in \u001b[0;36mhas_file\u001b[1;34m(path_or_repo, filename, revision, proxies, token, **deprecated_kwargs)\u001b[0m\n\u001b[0;32m    640\u001b[0m \u001b[38;5;28;01mexcept\u001b[39;00m RepositoryNotFoundError \u001b[38;5;28;01mas\u001b[39;00m e:\n\u001b[0;32m    641\u001b[0m     logger\u001b[38;5;241m.\u001b[39merror(e)\n\u001b[1;32m--> 642\u001b[0m     \u001b[38;5;28;01mraise\u001b[39;00m \u001b[38;5;167;01mEnvironmentError\u001b[39;00m(\u001b[38;5;124mf\u001b[39m\u001b[38;5;124m\"\u001b[39m\u001b[38;5;132;01m{\u001b[39;00mpath_or_repo\u001b[38;5;132;01m}\u001b[39;00m\u001b[38;5;124m is not a local folder or a valid repository name on \u001b[39m\u001b[38;5;124m'\u001b[39m\u001b[38;5;124mhttps://hf.co\u001b[39m\u001b[38;5;124m'\u001b[39m\u001b[38;5;124m.\u001b[39m\u001b[38;5;124m\"\u001b[39m)\n\u001b[0;32m    643\u001b[0m \u001b[38;5;28;01mexcept\u001b[39;00m RevisionNotFoundError \u001b[38;5;28;01mas\u001b[39;00m e:\n\u001b[0;32m    644\u001b[0m     logger\u001b[38;5;241m.\u001b[39merror(e)\n",
      "\u001b[1;31mOSError\u001b[0m: dariolopez/roberta-base-bne-finetuned-msmarco-qa-es-mnrl-mn is not a local folder or a valid repository name on 'https://hf.co'."
     ]
    }
   ],
   "source": [
    "embed_model_id = config[\"embed_model_id\"]\n",
    "embed_model = HuggingFaceEmbeddings(model_name=embed_model_id, model_kwargs={'device': 'cuda' if torch.cuda.is_available() else 'cpu'})"
   ]
  },
  {
   "cell_type": "markdown",
   "metadata": {},
   "source": [
    "# Data"
   ]
  },
  {
   "cell_type": "markdown",
   "metadata": {},
   "source": [
    "Creation of a synthetic dataset with, questions, answers and contexts to train the model."
   ]
  },
  {
   "cell_type": "code",
   "execution_count": null,
   "metadata": {},
   "outputs": [],
   "source": [
    "data = {\n",
    "    \"question\": [\n",
    "        \"¿Cuál es la ley que regula el derecho al honor y la intimidad?\",\n",
    "        \"¿Qué artículo de la Constitución Española establece la igualdad ante la ley?\",\n",
    "        \"¿Qué establece el artículo 15 de la Constitución Española?\",\n",
    "        \"¿Qué es el habeas corpus según la ley española?\",\n",
    "        \"¿Qué regula la Ley Orgánica 3/2007?\",\n",
    "        \"¿Qué establece el artículo 47 de la Constitución Española?\",\n",
    "        \"¿Cuál es el objetivo de la Ley de Enjuiciamiento Criminal?\",\n",
    "        \"¿Qué regula el artículo 20 de la Constitución Española?\",\n",
    "        \"¿Qué es el Tribunal Constitucional en España?\",\n",
    "        \"¿Cuál es el propósito de la Ley de Propiedad Intelectual?\",\n",
    "        \"¿Qué establece el artículo 18 de la Constitución Española?\",\n",
    "        \"¿Qué es la Ley de Transparencia?\",\n",
    "        \"¿Qué regula el artículo 21 de la Constitución Española?\",\n",
    "        \"¿Qué es el derecho de asilo según la ley española?\",\n",
    "        \"¿Qué establece la Ley de Protección de Datos Personales?\",\n",
    "        \"¿Qué es el recurso de amparo según la Constitución Española?\",\n",
    "        \"¿Qué establece el artículo 27 de la Constitución Española?\",\n",
    "        \"¿Qué regula la Ley General de la Seguridad Social?\",\n",
    "        \"¿Qué es el Tribunal Supremo en España?\",\n",
    "        \"¿Qué regula la Ley de Arrendamientos Urbanos?\",\n",
    "        \"¿Qué tipo de acciones u omisiones no serán castigadas?\",\n",
    "        \"¿Quién debe dictar la sentencia firme para ejecutar la pena o medida de seguridad?\",\n",
    "        \"¿En qué se fundamentan las medidas de seguridad según el artículo 6?\",\n",
    "        \"¿A qué tipos de delitos y faltas se aplicarán las disposiciones de este Título?\",\n",
    "        \"¿Qué son según el artículo 10?\",\n",
    "        \"¿Qué define como delitos graves el artículo 13?\",\n",
    "        \"¿Quiénes no serán responsables criminalmente según el artículo 19?\",\n",
    "        \"¿Qué condición exime de responsabilidad criminal según el artículo 20?\",\n",
    "        \"¿Qué constituye la tentativa según el artículo 16?\",\n",
    "        \"¿Qué es la provocacion según el artículo 18?\",\n",
    "        \"¿Qué establece el artículo 25 de la Constitución Española?\",\n",
    "        \"¿Qué define el artículo 19 del Código Penal sobre la responsabilidad criminal de los menores?\",\n",
    "        \"¿Qué regula el artículo 23 del Código Penal?\",\n",
    "        \"¿Qué es el principio de legalidad según el Código Penal?\",\n",
    "        \"¿Qué establece el artículo 33 del Código Penal sobre las penas?\",\n",
    "        \"¿Qué regula el artículo 50 del Código Penal?\",\n",
    "        \"¿Qué se entiende por delito de lesa humanidad según el Código Penal?\",\n",
    "        \"¿Cuál es la función de las penas según el artículo 25 del Código Penal?\",\n",
    "        \"¿Qué establece el artículo 44 del Código Penal sobre la suspensión de la ejecución de la pena?\",\n",
    "        \"¿Qué es la reincidencia según el Código Penal?\",\n",
    "        \"¿Qué regula el artículo 76 del Código Penal sobre el concurso de delitos?\",\n",
    "        \"¿Qué establece el artículo 55 del Código Penal sobre la responsabilidad civil derivada del delito?\",\n",
    "        \"¿Qué es la eximente de legítima defensa según el Código Penal?\",\n",
    "        \"¿Qué regula el artículo 88 del Código Penal sobre la sustitución de las penas?\",\n",
    "        \"¿Qué establece el artículo 21 del Código Penal sobre las circunstancias atenuantes?\",\n",
    "        \"¿Qué se entiende por delito continuado según el Código Penal?\",\n",
    "        \"¿Qué regula el artículo 83 del Código Penal sobre la libertad condicional?\",\n",
    "        \"¿Qué establece el artículo 61 del Código Penal sobre la expulsión de extranjeros?\",\n",
    "        \"¿Qué es el cumplimiento sucesivo de penas según el Código Penal?\",\n",
    "        \"¿Qué regula el artículo 100 del Código Penal sobre la extinción de la responsabilidad criminal?\",\n",
    "        \"¿Qué se entiende por tentativa inacabada según el Código Penal?\",\n",
    "        \"¿Qué regula el artículo 70 del Código Penal sobre la prescripción de delitos?\",\n",
    "        \"¿Qué establece el artículo 56 del Código Penal sobre la prohibición de acercamiento a la víctima?\",\n",
    "        \"¿Qué se entiende por concurso medial según el Código Penal?\",\n",
    "        \"¿Qué regula el artículo 101 del Código Penal sobre la reincidencia de delitos graves?\",\n",
    "        \"¿Qué establece el artículo 90 del Código Penal sobre las medidas de seguridad?\",\n",
    "        \"¿Qué es la peligrosidad criminal según el Código Penal?\",\n",
    "        \"¿Qué regula el artículo 45 del Código Penal sobre las costas procesales?\",\n",
    "        \"¿Qué establece el artículo 35 del Código Penal sobre las penas privativas de libertad?\",\n",
    "        \"¿Qué se entiende por omisión del deber de socorro según el Código Penal?\",\n",
    "        \"¿Qué regula el artículo 31 del Código Penal sobre la responsabilidad penal de las personas jurídicas?\",\n",
    "        \"¿Qué establece el artículo 57 del Código Penal sobre la inhabilitación absoluta?\",\n",
    "        \"¿Qué define el artículo 62 del Código Penal sobre la prescripción de las penas?\",\n",
    "        \"¿Qué es el delito de cohecho según el Código Penal?\",\n",
    "        \"¿Qué regula el artículo 138 del Código Penal sobre el homicidio?\",\n",
    "        \"¿Qué establece el artículo 181 del Código Penal sobre los abusos sexuales?\",\n",
    "        \"¿Qué es el delito de falsedad documental según el Código Penal?\",\n",
    "        \"¿Qué regula el artículo 237 del Código Penal sobre el robo?\",\n",
    "        \"¿Qué establece el artículo 248 del Código Penal sobre la estafa?\",\n",
    "        \"¿Qué es el delito de blanqueo de capitales según el Código Penal?\",\n",
    "        \"¿Qué regula el artículo 301 del Código Penal sobre el tráfico de drogas?\",\n",
    "        \"¿Qué establece el artículo 317 del Código Penal sobre los delitos contra los derechos de los trabajadores?\",\n",
    "        \"¿Qué es la asociación ilícita según el Código Penal?\",\n",
    "        \"¿Qué regula el artículo 367 del Código Penal sobre el contrabando?\",\n",
    "        \"¿Qué establece el artículo 391 del Código Penal sobre la quiebra fraudulenta?\",\n",
    "        \"¿Qué es el delito de acoso sexual según el Código Penal?\",\n",
    "        \"¿Qué regula el artículo 400 del Código Penal sobre la insolvencia punible?\",\n",
    "        \"¿Qué establece el artículo 419 del Código Penal sobre el tráfico de influencias?\",\n",
    "        \"¿Qué es el delito de terrorismo según el Código Penal?\",\n",
    "        \"¿Qué regula el artículo 510 del Código Penal sobre los delitos de odio?\",\n",
    "        \"¿Qué establece el artículo 551 del Código Penal sobre el atentado contra la autoridad?\",\n",
    "        \"¿Qué es el delito de injurias según el Código Penal?\",\n",
    "        \"¿Qué regula el artículo 623 del Código Penal sobre los delitos leves contra el patrimonio?\",\n",
    "        \"¿Qué establece el artículo 639 del Código Penal sobre la usurpación de funciones públicas?\",\n",
    "        \"¿Qué es la omisión del deber de socorro según el Código Penal?\",\n",
    "        \"¿Qué regula el artículo 637 del Código Penal sobre la alteración del orden público?\",\n",
    "        \"¿Qué establece el artículo 641 del Código Penal sobre la tenencia ilícita de armas?\",\n",
    "        \"¿Qué es el delito de tráfico de órganos según el Código Penal?\",\n",
    "        \"¿Qué regula el artículo 643 del Código Penal sobre los delitos contra la salud pública?\",\n",
    "        \"¿Qué establece el artículo 667 del Código Penal sobre la responsabilidad penal del menor?\"\n",
    "    ],\n",
    "    \"context\": [\n",
    "        \"La Ley Orgánica 1/1982 regula el derecho al honor, a la intimidad personal y familiar y a la propia imagen.\",\n",
    "        \"El artículo 14 de la Constitución Española establece que los españoles son iguales ante la ley.\",\n",
    "        \"El artículo 15 de la Constitución Española establece el derecho a la vida y a la integridad física y moral.\",\n",
    "        \"El habeas corpus es un procedimiento que protege la libertad individual contra arrestos y detenciones arbitrarias.\",\n",
    "        \"La Ley Orgánica 3/2007 regula la igualdad efectiva entre mujeres y hombres.\",\n",
    "        \"El artículo 47 de la Constitución Española establece el derecho a disfrutar de una vivienda digna y adecuada.\",\n",
    "        \"La Ley de Enjuiciamiento Criminal regula el proceso penal en España.\",\n",
    "        \"El artículo 20 de la Constitución Española regula la libertad de expresión y de información.\",\n",
    "        \"El Tribunal Constitucional es el intérprete supremo de la Constitución Española.\",\n",
    "        \"La Ley de Propiedad Intelectual protege los derechos de los autores sobre sus obras.\",\n",
    "        \"El artículo 18 de la Constitución Española regula el derecho a la intimidad personal y familiar y a la inviolabilidad del domicilio.\",\n",
    "        \"La Ley de Transparencia promueve la transparencia de la actividad pública y el derecho de acceso a la información.\",\n",
    "        \"El artículo 21 de la Constitución Española regula el derecho de reunión pacífica y sin armas.\",\n",
    "        \"El derecho de asilo protege a las personas que buscan refugio en España por persecución en sus países de origen.\",\n",
    "        \"La Ley de Protección de Datos Personales regula el tratamiento de datos personales y la protección de los derechos de los individuos.\",\n",
    "        \"El recurso de amparo es un mecanismo constitucional que protege los derechos fundamentales.\",\n",
    "        \"El artículo 27 de la Constitución Española establece el derecho a la educación.\",\n",
    "        \"La Ley General de la Seguridad Social regula la protección social en España.\",\n",
    "        \"El Tribunal Supremo es el órgano jurisdiccional superior en todos los órdenes en España.\",\n",
    "        \"La Ley de Arrendamientos Urbanos regula los contratos de alquiler de viviendas y locales.\",\n",
    "        \"TITULO PRELIMINAR\\nDe las garantias penales y de la aplicacion de la Ley penal\\nArticulo 1.\\n1. No sera castigada ninguna accion ni omision que\\nno este prevista como delito o falta por Ley anterior\\na su perpetracion.\",\n",
    "        \"TITULO PRELIMINAR\\nDe las garantias penales y de la aplicacion de la Ley penal\\nArticulo 3.\\n1. No podra ejecutarse pena ni medida de seguridad\\nsino en virtud de sentencia firme dictada por el Juez\\no Tribunal competente, de acuerdo con las leyes procesales.\",\n",
    "        \"TITULO PRELIMINAR\\nDe las garantias penales y de la aplicacion de la Ley penal\\nArticulo 6.\\n1. Las medidas de seguridad se fundamentan en\\nla peligrosidad criminal del sujeto al que se impongaiı,\\nexteriorizada en la comision de un hecho previsto como\\ndelito.\",\n",
    "        \"TITULO PRELIMINAR\\nDe las garantias penales y de la aplicacion de la Ley penal\\nArticulo 9.\\nLas disposiciones de este Título se aplicaran a los\\ndelitos y faltas que se hallen penados por leyes especiales.\",\n",
    "        \"TITULO I\\nDe la infraccion penal\\nCAPITULO I\\nDe los delitos y faltas\\nArticulo 10.\\n.son delitos o faltas las acciones y omisiones dolosas\\no imprudentes penadas por la Ley.\",\n",
    "        \"TITULO I\\nDe la infraccion penal\\nCAPITULO I\\nDe los delitos y faltas\\nArticulo 13.\\n1. Son delitos graves las infracciones que la Ley\\ncastiga con pena grave.\",\n",
    "        \"TITULO I\\nDe la infraccion penal\\nCAPITULO II\\nDe las causas que eximen de la responsabilidad\\ncriminal\\nArticulo 19.\\nLos menores de dieciocho anos no seran responsables criminalmente con arreglo a este C.6digo.\",\n",
    "        \"TITULO I\\nDe la infraccion penal\\nCAPITULO II\\nDe las causas que eximen de la responsabilidad\\ncriminal\\nArticulo 20.\\n1.° El que al tiempo de cometer la infraccion penal,\\na causa de cualquier anomalia o alteracion psiquica, no\\npueda comprender la ilicitud del hecho o actuar conforme\\na esa comprension.\",\n",
    "        \"TITULO I\\nDe la infraccion penal\\nCAPITULO II\\nDe las causas que eximen de la responsabilidad\\ncriminal\\nArticulo 16.\\n1. Hay tentativa cuando el sujeto da principio a la\\n ejecucion del delito directamente por hechos exteriores,\\npracticando todos o parte de los actos que objetivamente\\ndeberian producir el resultado, y sin embargo este no\\nse produce por causas independientes de la voluntad\\ndel autor.\",\n",
    "        \"TITULO I\\nDe la infraccion penal\\nCAPITULO II\\nDe las causas que eximen de la responsabilidad\\ncriminal\\nArticulo 18.\\n1. La provocacion existe cuando directamente se\\nincita por medio de la imprenta, la radiodifusion o cualquier\\notro medio de eficacia semejante, que facilite la publicidad,\\na la perpetracion de un delito.\",\n",
    "        \"El artículo 25 de la Constitución Española establece que las penas privativas de libertad y las medidas de seguridad estarán orientadas hacia la reeducación y reinserción social.\",\n",
    "        \"El artículo 19 del Código Penal establece que los menores de dieciocho años no serán responsables criminalmente con arreglo a este Código.\",\n",
    "        \"El artículo 23 del Código Penal regula la extradición y el cumplimiento de penas impuestas por tribunales extranjeros.\",\n",
    "        \"El principio de legalidad, según el Código Penal, establece que no puede imponerse pena alguna sin previa ley que la establezca.\",\n",
    "        \"El artículo 33 del Código Penal establece las diferentes clases de penas, clasificándolas en graves, menos graves y leves.\",\n",
    "        \"El artículo 50 del Código Penal regula la multa como pena, incluyendo su cuantía y los criterios para su determinación.\",\n",
    "        \"El delito de lesa humanidad, según el Código Penal, comprende actos inhumanos cometidos como parte de un ataque generalizado o sistemático contra una población civil.\",\n",
    "        \"El artículo 25 del Código Penal establece que las penas tienen como función principal la prevención de la comisión de nuevos delitos.\",\n",
    "        \"El artículo 44 del Código Penal regula la suspensión de la ejecución de la pena en ciertos casos y bajo determinadas condiciones.\",\n",
    "        \"La reincidencia, según el Código Penal, se entiende como la comisión de un nuevo delito por una persona que ya ha sido condenada anteriormente por un delito de la misma naturaleza.\",\n",
    "        \"El artículo 76 del Código Penal regula el concurso de delitos, estableciendo cómo se deben computar las penas cuando una persona es condenada por varios delitos.\",\n",
    "        \"El artículo 55 del Código Penal establece la responsabilidad civil derivada del delito, incluyendo la obligación de reparación del daño causado.\",\n",
    "        \"La eximente de legítima defensa, según el Código Penal, permite a una persona eximirse de responsabilidad criminal si actúa en defensa propia o de terceros frente a una agresión ilegítima.\",\n",
    "        \"El artículo 88 del Código Penal regula la sustitución de las penas privativas de libertad por otras penas menos gravosas en ciertos casos.\",\n",
    "        \"El artículo 21 del Código Penal establece las circunstancias atenuantes que pueden reducir la gravedad de la pena impuesta.\",\n",
    "        \"El delito continuado, según el Código Penal, se entiende como la realización de varias acciones u omisiones que infringen el mismo precepto legal y responden a un plan preconcebido.\",\n",
    "        \"El artículo 83 del Código Penal regula la concesión de la libertad condicional a los penados que cumplan determinados requisitos.\",\n",
    "        \"El artículo 61 del Código Penal establece las condiciones bajo las cuales se puede expulsar a un extranjero del territorio español como consecuencia de una condena penal.\",\n",
    "        \"El cumplimiento sucesivo de penas, según el Código Penal, se refiere a la ejecución de varias penas de privación de libertad una tras otra cuando una persona ha sido condenada por múltiples delitos.\",\n",
    "        \"El artículo 100 del Código Penal regula las causas de extinción de la responsabilidad criminal, como el cumplimiento de la pena, la amnistía, y el indulto.\",\n",
    "        \"La tentativa inacabada, según el Código Penal, ocurre cuando una persona inicia la ejecución de un delito pero no completa todos los actos necesarios para su consumación.\",\n",
    "        \"El artículo 70 del Código Penal regula la prescripción de delitos, estableciendo los plazos después de los cuales no puede perseguirse un delito.\",\n",
    "        \"El artículo 56 del Código Penal establece la prohibición de acercamiento a la víctima como medida de protección en casos de violencia o amenazas.\",\n",
    "        \"El concurso medial, según el Código Penal, se entiende como la comisión de varios delitos mediante una sola acción que cumple todos los elementos de cada delito.\",\n",
    "        \"El artículo 101 del Código Penal regula la reincidencia en delitos graves, estableciendo condiciones más severas para quienes reinciden en la comisión de estos delitos.\",\n",
    "        \"El artículo 90 del Código Penal regula las medidas de seguridad que se pueden imponer a los delincuentes peligrosos, además de las penas privativas de libertad.\",\n",
    "        \"La peligrosidad criminal, según el Código Penal, se refiere a la probabilidad de que una persona cometa futuros delitos basándose en su conducta pasada y otras circunstancias.\",\n",
    "        \"El artículo 45 del Código Penal regula las costas procesales, estableciendo la obligación del condenado de pagar los gastos del proceso judicial.\",\n",
    "        \"El artículo 35 del Código Penal establece las penas privativas de libertad, describiendo sus diferentes tipos y duraciones.\",\n",
    "        \"La omisión del deber de socorro, según el Código Penal, se refiere a la falta de auxilio a una persona que se encuentra en situación de peligro y necesita ayuda inmediata.\",\n",
    "        \"El artículo 31 del Código Penal regula la responsabilidad penal de las personas jurídicas, estableciendo que podrán ser responsables penalmente de los delitos cometidos en su nombre o por su cuenta.\",\n",
    "        \"El artículo 57 del Código Penal establece la inhabilitación absoluta como una pena accesoria que implica la pérdida definitiva de todos los honores, empleos y cargos públicos.\",\n",
    "        \"El artículo 62 del Código Penal define la prescripción de las penas, estableciendo los plazos específicos tras los cuales no se podrá ejecutar la pena impuesta.\",\n",
    "        \"El delito de cohecho, según el Código Penal, consiste en la solicitud o aceptación de un soborno por parte de una autoridad o funcionario público.\",\n",
    "        \"El artículo 138 del Código Penal regula el homicidio, estableciendo las penas para quien mate a otro sin concurrir las circunstancias de asesinato.\",\n",
    "        \"El artículo 181 del Código Penal establece las penas y circunstancias agravantes para los delitos de abusos sexuales, diferenciándolos de las agresiones sexuales.\",\n",
    "        \"El delito de falsedad documental, según el Código Penal, incluye la alteración, simulación o creación de documentos falsos con el fin de engañar.\",\n",
    "        \"El artículo 237 del Código Penal regula el robo, estableciendo las penas para quien se apodere de cosas muebles ajenas con ánimo de lucro y empleando fuerza en las cosas para acceder o abandonar el lugar.\",\n",
    "        \"El artículo 248 del Código Penal establece las penas para los delitos de estafa, definiendo esta como el uso de engaño con ánimo de lucro para causar un perjuicio patrimonial a otro.\",\n",
    "        \"El delito de blanqueo de capitales, según el Código Penal, incluye el acto de adquirir, poseer, usar o convertir bienes que proceden de actividades delictivas.\",\n",
    "        \"El artículo 301 del Código Penal regula el tráfico de drogas, estableciendo penas para la producción, venta, transporte o distribución de sustancias estupefacientes o psicotrópicas.\",\n",
    "        \"El artículo 317 del Código Penal establece las penas para los delitos contra los derechos de los trabajadores, incluyendo la imposición de condiciones laborales que perjudiquen su salud o dignidad.\",\n",
    "        \"La asociación ilícita, según el Código Penal, se refiere a la organización de tres o más personas con el fin de cometer delitos.\",\n",
    "        \"El artículo 367 del Código Penal regula el contrabando, estableciendo las penas para quien introduzca o extraiga mercancías prohibidas o sometidas a restricciones sin cumplir con los requisitos legales.\",\n",
    "        \"El artículo 391 del Código Penal establece las penas para la quiebra fraudulenta, definiéndola como la ocultación de bienes o el engaño a los acreedores en un proceso de insolvencia.\",\n",
    "        \"El delito de acoso sexual, según el Código Penal, incluye cualquier comportamiento de naturaleza sexual que resulte ofensivo y que sea realizado de manera insistente y reiterada.\",\n",
    "        \"El artículo 400 del Código Penal regula la insolvencia punible, estableciendo penas para quien, con el propósito de eludir sus obligaciones, se declare en insolvencia sin estar realmente en esa situación.\",\n",
    "        \"El artículo 419 del Código Penal establece las penas para el tráfico de influencias, definiéndolo como el uso indebido de la posición de una persona para influir en la decisión de otra en el ejercicio de sus funciones públicas.\",\n",
    "        \"El delito de terrorismo, según el Código Penal, incluye la comisión de actos violentos con la finalidad de subvertir el orden constitucional o alterar gravemente la paz pública.\",\n",
    "        \"El artículo 510 del Código Penal regula los delitos de odio, estableciendo penas para quienes promuevan o inciten al odio, la violencia o la discriminación por motivos de raza, religión, ideología, orientación sexual u otros.\",\n",
    "        \"El artículo 551 del Código Penal establece las penas para el atentado contra la autoridad, definiéndolo como el uso de violencia o intimidación contra funcionarios públicos en el ejercicio de sus funciones.\",\n",
    "        \"El delito de injurias, según el Código Penal, incluye toda expresión que lesione la dignidad de otra persona, menoscabando su fama o atentando contra su propia estimación.\",\n",
    "        \"El artículo 623 del Código Penal regula los delitos leves contra el patrimonio, estableciendo penas para aquellos que cometan hurtos, daños o usurpaciones de menor gravedad.\",\n",
    "        \"El artículo 639 del Código Penal establece las penas para la usurpación de funciones públicas, definiéndola como el ejercicio de actos propios de una autoridad o funcionario público sin serlo.\",\n",
    "        \"La omisión del deber de socorro, según el Código Penal, se refiere a la falta de auxilio a una persona que se encuentra en situación de peligro y necesita ayuda inmediata.\",\n",
    "        \"El artículo 637 del Código Penal regula las penas para quienes alteren el orden público, participando en tumultos, desórdenes o disturbios.\",\n",
    "        \"El artículo 641 del Código Penal establece las penas para la tenencia ilícita de armas, definiéndola como la posesión de armas de fuego o explosivos sin la correspondiente autorización.\",\n",
    "        \"El delito de tráfico de órganos, según el Código Penal, incluye la extracción, comercialización o transporte ilegal de órganos humanos.\",\n",
    "        \"El artículo 643 del Código Penal regula los delitos contra la salud pública, estableciendo penas para quienes pongan en peligro la salud de la población mediante la distribución de sustancias nocivas o peligrosas.\",\n",
    "        \"El artículo 667 del Código Penal establece la responsabilidad penal del menor, definiendo las circunstancias y condiciones bajo las cuales los menores de edad pueden ser considerados responsables de sus actos delictivos.\"\n",
    "    ],\n",
    "    \"answers\": [\n",
    "        {\"answer_start\": 0, \"text\": \"Ley Orgánica 1/1982\"},\n",
    "        {\"answer_start\": 0, \"text\": \"artículo 14\"},\n",
    "        {\"answer_start\": 0, \"text\": \"artículo 15\"},\n",
    "        {\"answer_start\": 0, \"text\": \"habeas corpus\"},\n",
    "        {\"answer_start\": 0, \"text\": \"Ley Orgánica 3/2007\"},\n",
    "        {\"answer_start\": 0, \"text\": \"artículo 47\"},\n",
    "        {\"answer_start\": 0, \"text\": \"Ley de Enjuiciamiento Criminal\"},\n",
    "        {\"answer_start\": 0, \"text\": \"artículo 20\"},\n",
    "        {\"answer_start\": 0, \"text\": \"Tribunal Constitucional\"},\n",
    "        {\"answer_start\": 0, \"text\": \"Ley de Propiedad Intelectual\"},\n",
    "        {\"answer_start\": 0, \"text\": \"artículo 18\"},\n",
    "        {\"answer_start\": 0, \"text\": \"Ley de Transparencia\"},\n",
    "        {\"answer_start\": 0, \"text\": \"artículo 21\"},\n",
    "        {\"answer_start\": 0, \"text\": \"derecho de asilo\"},\n",
    "        {\"answer_start\": 0, \"text\": \"Ley de Protección de Datos Personales\"},\n",
    "        {\"answer_start\": 0, \"text\": \"recurso de amparo\"},\n",
    "        {\"answer_start\": 0, \"text\": \"artículo 27\"},\n",
    "        {\"answer_start\": 0, \"text\": \"Ley General de la Seguridad Social\"},\n",
    "        {\"answer_start\": 0, \"text\": \"Tribunal Supremo\"},\n",
    "        {\"answer_start\": 0, \"text\": \"Ley de Arrendamientos Urbanos\"}  ,    \n",
    "        {\"answer_start\": 87, \"text\": \"no este prevista como delito o falta por Ley anterior\"},\n",
    "        {\"answer_start\": 61, \"text\": \"Juez o Tribunal competente\"},\n",
    "        {\"answer_start\": 48, \"text\": \"peligrosidad criminal del sujeto\"},\n",
    "        {\"answer_start\": 104, \"text\": \"delitos y faltas que se hallen penados por leyes especiales\"},\n",
    "        {\"answer_start\": 76, \"text\": \"Son delitos o faltas las acciones y omisiones dolosas o imprudentes\"},\n",
    "        {\"answer_start\": 62, \"text\": \"infracciones que la Ley castiga con pena grave\"},\n",
    "        {\"answer_start\": 157, \"text\": \"Los menores de dieciocho años\"},\n",
    "        {\"answer_start\": 191, \"text\": \"anomalia o alteracion psiquica\"},\n",
    "        {\"answer_start\": 307, \"text\": \"da principio a la ejecucion del delito\"},\n",
    "        {\"answer_start\": 372, \"text\": \"incita por medio de la imprenta, la radiodifusion o cualquier otro medio\"},\n",
    "        {\"answer_start\": 62, \"text\": \"reeducación y reinserción social\"},\n",
    "        {\"answer_start\": 78, \"text\": \"los menores de dieciocho años no serán responsables criminalmente\"},\n",
    "        {\"answer_start\": 63, \"text\": \"extradición y el cumplimiento de penas impuestas por tribunales extranjeros\"},\n",
    "        {\"answer_start\": 67, \"text\": \"no puede imponerse pena alguna sin previa ley que la establezca\"},\n",
    "        {\"answer_start\": 41, \"text\": \"clases de penas, clasificándolas en graves, menos graves y leves\"},\n",
    "        {\"answer_start\": 31, \"text\": \"multa como pena, incluyendo su cuantía y los criterios para su determinación\"},\n",
    "        {\"answer_start\": 71, \"text\": \"actos inhumanos cometidos como parte de un ataque generalizado o sistemático\"},\n",
    "        {\"answer_start\": 52, \"text\": \"prevención de la comisión de nuevos delitos\"},\n",
    "        {\"answer_start\": 42, \"text\": \"suspensión de la ejecución de la pena en ciertos casos\"},\n",
    "        {\"answer_start\": 0, \"text\": \"reincidencia\"},\n",
    "        {\"answer_start\": 48, \"text\": \"concurso de delitos, estableciendo cómo se deben computar las penas\"},\n",
    "        {\"answer_start\": 31, \"text\": \"responsabilidad civil derivada del delito, incluyendo la obligación de reparación\"},\n",
    "        {\"answer_start\": 19, \"text\": \"legítima defensa, según el Código Penal, permite a una persona eximirse de responsabilidad criminal\"},\n",
    "        {\"answer_start\": 31, \"text\": \"sustitución de las penas privativas de libertad por otras penas menos gravosas\"},\n",
    "        {\"answer_start\": 48, \"text\": \"circunstancias atenuantes que pueden reducir la gravedad de la pena\"},\n",
    "        {\"answer_start\": 0, \"text\": \"delito continuado\"},\n",
    "        {\"answer_start\": 42, \"text\": \"libertad condicional a los penados que cumplan determinados requisitos\"},\n",
    "        {\"answer_start\": 67, \"text\": \"se puede expulsar a un extranjero del territorio español como consecuencia de una condena penal\"},\n",
    "        {\"answer_start\": 48, \"text\": \"cumplimiento sucesivo de penas\"},\n",
    "        {\"answer_start\": 41, \"text\": \"causas de extinción de la responsabilidad criminal\"},\n",
    "        {\"answer_start\": 0, \"text\": \"tentativa inacabada\"},\n",
    "        {\"answer_start\": 48, \"text\": \"prescripción de delitos, estableciendo los plazos después de los cuales no puede perseguirse un delito\"},\n",
    "        {\"answer_start\": 43, \"text\": \"prohibición de acercamiento a la víctima como medida de protección\"},\n",
    "        {\"answer_start\": 0, \"text\": \"concurso medial\"},\n",
    "        {\"answer_start\": 48, \"text\": \"reincidencia en delitos graves, estableciendo condiciones más severas\"},\n",
    "        {\"answer_start\": 41, \"text\": \"medidas de seguridad que se pueden imponer a los delincuentes peligrosos\"},\n",
    "        {\"answer_start\": 31, \"text\": \"peligrosidad criminal\"},\n",
    "        {\"answer_start\": 31, \"text\": \"costas procesales, estableciendo la obligación del condenado de pagar los gastos\"},\n",
    "        {\"answer_start\": 41, \"text\": \"penas privativas de libertad, describiendo sus diferentes tipos y duraciones\"},\n",
    "        {\"answer_start\": 31, \"text\": \"omisión del deber de socorro, según el Código Penal, se refiere a la falta de auxilio\"},\n",
    "        {\"answer_start\": 53, \"text\": \"delitos cometidos en su nombre o por su cuenta\"},\n",
    "        {\"answer_start\": 78, \"text\": \"inhabilitación absoluta como una pena accesoria\"},\n",
    "        {\"answer_start\": 54, \"text\": \"plazos específicos tras los cuales no se podrá ejecutar la pena\"},\n",
    "        {\"answer_start\": 42, \"text\": \"solicitud o aceptación de un soborno por parte de una autoridad o funcionario público\"},\n",
    "        {\"answer_start\": 51, \"text\": \"penas para quien mate a otro sin concurrir las circunstancias de asesinato\"},\n",
    "        {\"answer_start\": 51, \"text\": \"penas y circunstancias agravantes para los delitos de abusos sexuales\"},\n",
    "        {\"answer_start\": 64, \"text\": \"alteración, simulación o creación de documentos falsos con el fin de engañar\"},\n",
    "        {\"answer_start\": 47, \"text\": \"penas para quien se apodere de cosas muebles ajenas con ánimo de lucro\"},\n",
    "        {\"answer_start\": 37, \"text\": \"penas para los delitos de estafa, definiendo esta como el uso de engaño\"},\n",
    "        {\"answer_start\": 63, \"text\": \"adquirir, poseer, usar o convertir bienes que proceden de actividades delictivas\"},\n",
    "        {\"answer_start\": 48, \"text\": \"penas para la producción, venta, transporte o distribución de sustancias estupefacientes\"},\n",
    "        {\"answer_start\": 67, \"text\": \"penas para los delitos contra los derechos de los trabajadores\"},\n",
    "        {\"answer_start\": 58, \"text\": \"organización de tres o más personas con el fin de cometer delitos\"},\n",
    "        {\"answer_start\": 59, \"text\": \"penas para quien introduzca o extraiga mercancías prohibidas\"},\n",
    "        {\"answer_start\": 45, \"text\": \"penas para la quiebra fraudulenta, definiéndola como la ocultación de bienes\"},\n",
    "        {\"answer_start\": 35, \"text\": \"comportamiento de naturaleza sexual que resulte ofensivo\"},\n",
    "        {\"answer_start\": 53, \"text\": \"penas para quien se declare en insolvencia sin estar realmente en esa situación\"},\n",
    "        {\"answer_start\": 61, \"text\": \"penas para el tráfico de influencias, definiéndolo como el uso indebido de la posición\"},\n",
    "        {\"answer_start\": 43, \"text\": \"actos violentos con la finalidad de subvertir el orden constitucional\"},\n",
    "        {\"answer_start\": 53, \"text\": \"penas para quienes promuevan o inciten al odio, la violencia o la discriminación\"},\n",
    "        {\"answer_start\": 51, \"text\": \"penas para el atentado contra la autoridad, definiéndolo como el uso de violencia\"},\n",
    "        {\"answer_start\": 38, \"text\": \"expresión que lesione la dignidad de otra persona\"},\n",
    "        {\"answer_start\": 43, \"text\": \"penas para aquellos que cometan hurtos, daños o usurpaciones de menor gravedad\"},\n",
    "        {\"answer_start\": 45, \"text\": \"penas para la usurpación de funciones públicas, definiéndola como el ejercicio de actos propios\"},\n",
    "        {\"answer_start\": 49, \"text\": \"falta de auxilio a una persona que se encuentra en situación de peligro\"},\n",
    "        {\"answer_start\": 43, \"text\": \"penas para quienes alteren el orden público, participando en tumultos\"},\n",
    "        {\"answer_start\": 45, \"text\": \"penas para la tenencia ilícita de armas, definiéndola como la posesión de armas\"},\n",
    "        {\"answer_start\": 43, \"text\": \"extracción, comercialización o transporte ilegal de órganos humanos\"},\n",
    "        {\"answer_start\": 57, \"text\": \"penas para quienes pongan en peligro la salud de la población mediante la distribución de sustancias\"},\n",
    "        {\"answer_start\": 45, \"text\": \"responsabilidad penal del menor, definiendo las circunstancias y condiciones\"}\n",
    "    ]\n",
    "}\n",
    "\n",
    "dataset = Dataset.from_dict(data)"
   ]
  },
  {
   "cell_type": "markdown",
   "metadata": {},
   "source": [
    "## Data Pre-Processing"
   ]
  },
  {
   "cell_type": "markdown",
   "metadata": {},
   "source": [
    "We create a function that ensures that the model can learn to identify the start and end positions of answers within the context, making it suitable for training a question-answering system."
   ]
  },
  {
   "cell_type": "markdown",
   "metadata": {},
   "source": [
    "# Train-Test Split for model Training"
   ]
  },
  {
   "cell_type": "markdown",
   "metadata": {},
   "source": [
    "Split data into train and evaluation sets and tokenize."
   ]
  },
  {
   "cell_type": "code",
   "execution_count": null,
   "metadata": {},
   "outputs": [],
   "source": [
    "from utils import preprocess_function\n",
    "\n",
    "train_dataset, eval_dataset = dataset.train_test_split(test_size=0.2).values()\n",
    "\n",
    "tokenizer = AutoTokenizer.from_pretrained(\"bert-base-uncased\")\n",
    "\n",
    "tokenized_train_dataset = train_dataset.map(lambda x: preprocess_function(x, tokenizer), batched=True)\n",
    "tokenized_eval_dataset = eval_dataset.map(lambda x: preprocess_function(x, tokenizer), batched=True)"
   ]
  },
  {
   "cell_type": "markdown",
   "metadata": {},
   "source": [
    "# Fine-Tuning Model"
   ]
  },
  {
   "cell_type": "code",
   "execution_count": null,
   "metadata": {},
   "outputs": [],
   "source": [
    "# We will use BERT\n",
    "model = AutoModelForQuestionAnswering.from_pretrained(\"bert-base-uncased\")\n",
    "\n",
    "# Training arguments and directory to save the trained model\n",
    "training_args = TrainingArguments(\n",
    "    output_dir=\"/notebooks/TFM_LAW_LLM/fine_tuning_trained_model/results\",\n",
    "    evaluation_strategy=\"epoch\",\n",
    "    learning_rate=2e-5,\n",
    "    per_device_train_batch_size=2,\n",
    "    per_device_eval_batch_size=2,\n",
    "    num_train_epochs=3,\n",
    "    weight_decay=0.01,\n",
    "    logging_dir=\"/notebooks/TFM_LAW_LLM/fine_tuning_trained_model/logs\", \n",
    "    logging_steps=100,     \n",
    ")"
   ]
  },
  {
   "cell_type": "markdown",
   "metadata": {},
   "source": [
    "We now train the model."
   ]
  },
  {
   "cell_type": "code",
   "execution_count": null,
   "metadata": {},
   "outputs": [],
   "source": [
    "trainer = Trainer(\n",
    "    model=model,\n",
    "    args=training_args,\n",
    "    train_dataset=tokenized_train_dataset,\n",
    "    eval_dataset=tokenized_eval_dataset\n",
    ")\n",
    "\n",
    "# Train the model\n",
    "trainer.train()\n",
    "\n",
    "model.save_pretrained(\"/notebooks/TFM_LAW_LLM/fine_tuning_trained_model/results\")\n",
    "tokenizer.save_pretrained(\"/notebooks/TFM_LAW_LLM/fine_tuning_trained_model/results\")"
   ]
  },
  {
   "cell_type": "code",
   "execution_count": null,
   "metadata": {},
   "outputs": [],
   "source": [
    "# We load the tokenizer and the fine-tuned model\n",
    "tokenizer = AutoTokenizer.from_pretrained(\"bert-base-uncased\")\n",
    "model = AutoModelForQuestionAnswering.from_pretrained(\"/notebooks/TFM_LAW_LLM/fine_tuning_trained_model/results\")  "
   ]
  },
  {
   "cell_type": "markdown",
   "metadata": {},
   "source": [
    "# Question and Context"
   ]
  },
  {
   "cell_type": "markdown",
   "metadata": {},
   "source": [
    "We create the question, and we provide a context so the model can find the answer in it."
   ]
  },
  {
   "cell_type": "code",
   "execution_count": null,
   "metadata": {},
   "outputs": [],
   "source": [
    "question = \"¿Cual es la diferencia entre un homicidio y un asesinato?\"\n",
    "context = \"\"\"\n",
    "En el derecho penal español, tanto el homicidio como el asesinato son delitos que implican la muerte de una persona, pero se diferencian en sus características y gravedad. \n",
    "El homicidio, regulado en el artículo 138 del Código Penal, se define como causar la muerte a otra persona sin que concurran circunstancias agravantes. \n",
    "Por otro lado, el asesinato, tipificado en el artículo 139 del Código Penal, es una forma agravada de homicidio que incluye circunstancias específicas como la alevosía, el ensañamiento o la comisión del delito para facilitar otro delito o evitar ser descubierto.\n",
    "Estas diferencias se reflejan en las penas aplicables: el homicidio conlleva una pena de prisión de 10 a 15 años, mientras que el asesinato se castiga con una pena de 15 a 25 años, pudiendo incluso llegar a la prisión permanente revisable en casos extremadamente graves.\n",
    "\"\"\""
   ]
  },
  {
   "cell_type": "markdown",
   "metadata": {},
   "source": [
    "# Input Pipeline"
   ]
  },
  {
   "cell_type": "code",
   "execution_count": null,
   "metadata": {},
   "outputs": [],
   "source": [
    "# Tokenize the input\n",
    "inputs = tokenizer(\n",
    "    question,\n",
    "    context,\n",
    "    max_length=512,\n",
    "    truncation=\"only_second\",\n",
    "    padding=\"max_length\",\n",
    "    return_tensors=\"pt\"\n",
    ")\n",
    "\n",
    "# Get the input IDs and attention mask\n",
    "input_ids = inputs[\"input_ids\"].to(model.device)\n",
    "attention_mask = inputs[\"attention_mask\"].to(model.device)"
   ]
  },
  {
   "cell_type": "markdown",
   "metadata": {},
   "source": [
    "# Output of the Fine-Tuned model"
   ]
  },
  {
   "cell_type": "code",
   "execution_count": null,
   "metadata": {},
   "outputs": [],
   "source": [
    "# Run the model\n",
    "with torch.no_grad():\n",
    "    outputs = model(input_ids=input_ids, attention_mask=attention_mask)\n",
    "\n",
    "# We get the start and end positions \n",
    "start_scores = outputs.start_logits\n",
    "end_scores = outputs.end_logits\n",
    "\n",
    "# Once we have the start and end positions, we convert the scores to probabilities\n",
    "start_prob = torch.softmax(start_scores, dim=1)\n",
    "end_prob = torch.softmax(end_scores, dim=1)\n",
    "\n",
    "# Now, we get the most probable start and end positions\n",
    "start_index = torch.argmax(start_prob)\n",
    "end_index = torch.argmax(end_prob)"
   ]
  },
  {
   "cell_type": "markdown",
   "metadata": {},
   "source": [
    "Results:"
   ]
  },
  {
   "cell_type": "code",
   "execution_count": null,
   "metadata": {},
   "outputs": [],
   "source": [
    "# We are now able gto extract the answer from the context\n",
    "all_tokens = tokenizer.convert_ids_to_tokens(input_ids[0])\n",
    "answer_tokens = all_tokens[start_index:end_index + 1]\n",
    "answer = tokenizer.convert_tokens_to_string(answer_tokens)\n",
    "\n",
    "print(f\"Question: {question}\")\n",
    "print(f\"Answer: {answer}\")"
   ]
  }
 ],
 "metadata": {
  "kernelspec": {
   "display_name": "Python 3",
   "language": "python",
   "name": "python3"
  },
  "language_info": {
   "codemirror_mode": {
    "name": "ipython",
    "version": 3
   },
   "file_extension": ".py",
   "mimetype": "text/x-python",
   "name": "python",
   "nbconvert_exporter": "python",
   "pygments_lexer": "ipython3",
   "version": "3.12.0"
  }
 },
 "nbformat": 4,
 "nbformat_minor": 2
}
