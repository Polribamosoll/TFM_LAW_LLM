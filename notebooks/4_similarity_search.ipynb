{
 "cells": [
  {
   "cell_type": "markdown",
   "metadata": {},
   "source": [
    "# Similarity search"
   ]
  },
  {
   "cell_type": "markdown",
   "metadata": {},
   "source": [
    "# Setup"
   ]
  },
  {
   "cell_type": "code",
   "execution_count": 1,
   "metadata": {},
   "outputs": [],
   "source": [
    "# Python version\n",
    "import sys \n",
    "print(sys.version)"
   ]
  },
  {
   "cell_type": "code",
   "execution_count": 2,
   "metadata": {},
   "outputs": [
    {
     "data": {
      "text/plain": [
       "True"
      ]
     },
     "execution_count": 2,
     "metadata": {},
     "output_type": "execute_result"
    }
   ],
   "source": [
    "# Environment Variables\n",
    "from dotenv import load_dotenv\n",
    "import yaml\n",
    "import os\n",
    "\n",
    "# Load env\n",
    "load_dotenv()"
   ]
  },
  {
   "cell_type": "code",
   "execution_count": null,
   "metadata": {},
   "outputs": [],
   "source": [
    "# Torch config\n",
    "from torch import cuda, bfloat16, float16\n",
    "import torch\n",
    "\n",
    "# Torch options\n",
    "torch.backends.cuda.enable_mem_efficient_sdp(False)\n",
    "torch.backends.cuda.enable_flash_sdp(False)"
   ]
  },
  {
   "cell_type": "code",
   "execution_count": null,
   "metadata": {},
   "outputs": [],
   "source": [
    "# Jupyter extensions\n",
    "!jupyter nbextension enable --py widgetsnbextension"
   ]
  },
  {
   "cell_type": "markdown",
   "metadata": {},
   "source": [
    "# Parameters"
   ]
  },
  {
   "cell_type": "markdown",
   "metadata": {},
   "source": [
    "We get the needed parameters from the yaml file."
   ]
  },
  {
   "cell_type": "code",
   "execution_count": null,
   "metadata": {},
   "outputs": [],
   "source": [
    "# Load parameters from YAML file\n",
    "with open('config.yaml', 'r') as file:\n",
    "    config = yaml.safe_load(file)"
   ]
  },
  {
   "cell_type": "code",
   "execution_count": null,
   "metadata": {},
   "outputs": [],
   "source": [
    "# Use optimum\n",
    "use_optimum = config[\"use_optimum\"]\n",
    "\n",
    "# Show\n",
    "use_optimum"
   ]
  },
  {
   "cell_type": "markdown",
   "metadata": {},
   "source": [
    "# Reference"
   ]
  },
  {
   "cell_type": "markdown",
   "metadata": {},
   "source": [
    "- https://colab.research.google.com/drive/1rt318Ew-5dDw21YZx2zK2vnxbsuDAchH?usp=sharing#scrollTo=YFw8HWIyTCnJ\n",
    "- https://www.reddit.com/r/LocalLLaMA/comments/16j624z/some_questions_of_implementing_llm_to_generate_qa\n",
    "- https://www.anyscale.com/blog/a-comprehensive-guide-for-building-rag-based-llm-applications-part-1\n",
    "- https://medium.com/@saurabhgssingh/why-your-rag-is-not-working-96053b4d5305\n",
    "- https://towardsdatascience.com/rag-how-to-talk-to-your-data-eaf5469b83b0\n",
    "- https://andriymulyar.com/blog/how-to-visualize-pinecone-vector-database\n",
    "- https://github.com/edumunozsala/question-answering-pinecone-sts\n",
    "- https://www.pinecone.io/learn/hybrid-search-intro/"
   ]
  },
  {
   "cell_type": "markdown",
   "metadata": {
    "tags": []
   },
   "source": [
    "# Directory"
   ]
  },
  {
   "cell_type": "code",
   "execution_count": 3,
   "metadata": {},
   "outputs": [
    {
     "data": {
      "text/plain": [
       "'/notebooks/LawGPT'"
      ]
     },
     "execution_count": 3,
     "metadata": {},
     "output_type": "execute_result"
    }
   ],
   "source": [
    "# Set directory to file location\n",
    "from pathlib import Path\n",
    "import sys\n",
    "notebook_location = Path(os.path.abspath(''))\n",
    "os.chdir(notebook_location)\n",
    "# Get the current working directory\n",
    "current_directory = os.getcwd()\n",
    "current_directory"
   ]
  },
  {
   "cell_type": "markdown",
   "metadata": {},
   "source": [
    "# Libraries"
   ]
  },
  {
   "cell_type": "code",
   "execution_count": 4,
   "metadata": {},
   "outputs": [],
   "source": [
    "# General\n",
    "from IPython.display import Markdown, display\n",
    "import gradio as gr\n",
    "import pinecone\n",
    "import time\n",
    "import yaml\n",
    "import json\n",
    "\n",
    "import gc\n",
    "import os\n",
    "\n",
    "# HuggingFace\n",
    "from huggingface_hub import notebook_login\n",
    "\n",
    "# Transformers\n",
    "from transformers import BitsAndBytesConfig\n",
    "from sentence_transformers import CrossEncoder\n",
    "from typing import List\n",
    "import accelerate\n",
    "\n",
    "# Langchain\n",
    "from sentence_transformers import SentenceTransformer\n",
    "from langchain.embeddings.huggingface import HuggingFaceEmbeddings\n",
    "from langchain.schema import AIMessage, HumanMessage\n",
    "from langchain.memory import ConversationBufferMemory\n",
    "from langchain.chains import SimpleSequentialChain, RetrievalQA, LLMChain\n",
    "from langchain.chains import RetrievalQAWithSourcesChain\n",
    "from langchain.chains import ConversationalRetrievalChain\n",
    "from langchain.prompts.chat import (\n",
    "    ChatPromptTemplate,\n",
    "    HumanMessagePromptTemplate,\n",
    "    SystemMessagePromptTemplate\n",
    ")\n",
    "from langchain import HuggingFacePipeline\n",
    "from langchain import PromptTemplate\n",
    "\n",
    "# Pinecone\n",
    "from langchain_pinecone import PineconeVectorStore  \n",
    "from pinecone import Pinecone\n",
    "\n",
    "# Optimization\n",
    "import xformers\n",
    "\n",
    "# Other\n",
    "from tqdm.notebook import tqdm\n",
    "\n",
    "# Atlas\n",
    "from nomic import atlas\n",
    "import nomic\n",
    "\n",
    "# Local\n",
    "from functions import *"
   ]
  },
  {
   "cell_type": "code",
   "execution_count": null,
   "metadata": {},
   "outputs": [],
   "source": [
    "if use_optimum:\n",
    "    from transformers import AutoTokenizer\n",
    "    from optimum.nvidia import AutoModelForCausalLM\n",
    "    from optimum.nvidia.pipelines import pipeline\n",
    "else:\n",
    "    from transformers import AutoTokenizer\n",
    "    from transformers import AutoModelForCausalLM\n",
    "    from transformers import pipeline"
   ]
  },
  {
   "cell_type": "code",
   "execution_count": null,
   "metadata": {},
   "outputs": [],
   "source": [
    "# Warnings\n",
    "import warnings\n",
    "warnings.filterwarnings(\"ignore\")"
   ]
  },
  {
   "cell_type": "markdown",
   "metadata": {},
   "source": [
    "# Device"
   ]
  },
  {
   "cell_type": "code",
   "execution_count": 7,
   "metadata": {},
   "outputs": [
    {
     "name": "stdout",
     "output_type": "stream",
     "text": [
      "Using device: cuda\n",
      "\n",
      "Quadro P5000\n",
      "Memory Usage:\n",
      "Allocated: 0.0 GB\n",
      "Cached:    0.0 GB\n"
     ]
    }
   ],
   "source": [
    "# Setting device on GPU if available, else CPU\n",
    "device = torch.device('cuda' if torch.cuda.is_available() else 'cpu')\n",
    "print('Using device:', device)\n",
    "print()\n",
    "\n",
    "# CUDA information\n",
    "if torch.cuda.is_available():\n",
    "    device = torch.device(\"cuda\")\n",
    "    print(torch.cuda.get_device_name(0))\n",
    "    print('Memory Usage:')\n",
    "    allocated_memory = torch.cuda.memory_allocated(0) / (1024**3)  # Convert bytes to GB\n",
    "    cached_memory = torch.cuda.memory_reserved(0) / (1024**3)  # Convert bytes to GB\n",
    "    total_memory = torch.cuda.get_device_properties(0).total_memory / (1024**3)  # Convert bytes to GB\n",
    "    available_memory = total_memory - cached_memory\n",
    "    print('Allocated:  ', round(allocated_memory, 1), 'GB')\n",
    "    print('Cached:     ', round(cached_memory, 1), 'GB')\n",
    "    print('Available: ', round(available_memory, 1), 'GB')\n",
    "    print('Total:     ', round(total_memory, 1), 'GB')"
   ]
  },
  {
   "cell_type": "code",
   "execution_count": 8,
   "metadata": {},
   "outputs": [
    {
     "data": {
      "text/plain": [
       "248"
      ]
     },
     "execution_count": 8,
     "metadata": {},
     "output_type": "execute_result"
    }
   ],
   "source": [
    "# Clean memory\n",
    "torch.cuda.empty_cache()\n",
    "gc.collect()"
   ]
  },
  {
   "cell_type": "markdown",
   "metadata": {},
   "source": [
    "# Pinecone"
   ]
  },
  {
   "cell_type": "code",
   "execution_count": 9,
   "metadata": {},
   "outputs": [
    {
     "data": {
      "text/plain": [
       "{'dimension': 384,\n",
       " 'index_fullness': 0.03524,\n",
       " 'namespaces': {'': {'vector_count': 3524}},\n",
       " 'total_vector_count': 3524}"
      ]
     },
     "execution_count": 9,
     "metadata": {},
     "output_type": "execute_result"
    }
   ],
   "source": [
    "# Init pinecone\n",
    "pinecone = Pinecone(api_key = os.environ.get('PINECONE_API_KEY'))\n",
    "\n",
    "# Connect\n",
    "index_name = 'lawgpt-unstructured-db'\n",
    "index = pinecone.Index(index_name)\n",
    "\n",
    "# Index stats\n",
    "index.describe_index_stats()"
   ]
  },
  {
   "cell_type": "markdown",
   "metadata": {
    "tags": []
   },
   "source": [
    "# Embedding model"
   ]
  },
  {
   "cell_type": "code",
   "execution_count": 11,
   "metadata": {},
   "outputs": [
    {
     "data": {
      "application/vnd.jupyter.widget-view+json": {
       "model_id": "3bc5e16927cf4a9995577a0fbc3310b6",
       "version_major": 2,
       "version_minor": 0
      },
      "text/plain": [
       ".gitattributes:   0%|          | 0.00/968 [00:00<?, ?B/s]"
      ]
     },
     "metadata": {},
     "output_type": "display_data"
    },
    {
     "data": {
      "application/vnd.jupyter.widget-view+json": {
       "model_id": "70e19afb031949afb43e413a51223eee",
       "version_major": 2,
       "version_minor": 0
      },
      "text/plain": [
       "1_Pooling/config.json:   0%|          | 0.00/190 [00:00<?, ?B/s]"
      ]
     },
     "metadata": {},
     "output_type": "display_data"
    },
    {
     "data": {
      "application/vnd.jupyter.widget-view+json": {
       "model_id": "18185bf47e9349309131b7ba6b2e1950",
       "version_major": 2,
       "version_minor": 0
      },
      "text/plain": [
       "README.md:   0%|          | 0.00/4.09k [00:00<?, ?B/s]"
      ]
     },
     "metadata": {},
     "output_type": "display_data"
    },
    {
     "data": {
      "application/vnd.jupyter.widget-view+json": {
       "model_id": "f10727ab07e1494eb16ea313cf8fac77",
       "version_major": 2,
       "version_minor": 0
      },
      "text/plain": [
       "config.json:   0%|          | 0.00/645 [00:00<?, ?B/s]"
      ]
     },
     "metadata": {},
     "output_type": "display_data"
    },
    {
     "data": {
      "application/vnd.jupyter.widget-view+json": {
       "model_id": "1409eeb0320d4370be167170a4eed0d2",
       "version_major": 2,
       "version_minor": 0
      },
      "text/plain": [
       "config_sentence_transformers.json:   0%|          | 0.00/122 [00:00<?, ?B/s]"
      ]
     },
     "metadata": {},
     "output_type": "display_data"
    },
    {
     "data": {
      "application/vnd.jupyter.widget-view+json": {
       "model_id": "4b73776cc5184b7b8b35546689e98f40",
       "version_major": 2,
       "version_minor": 0
      },
      "text/plain": [
       "pytorch_model.bin:   0%|          | 0.00/471M [00:00<?, ?B/s]"
      ]
     },
     "metadata": {},
     "output_type": "display_data"
    },
    {
     "data": {
      "application/vnd.jupyter.widget-view+json": {
       "model_id": "dad0b89a4bcb464db0c489039662f903",
       "version_major": 2,
       "version_minor": 0
      },
      "text/plain": [
       "sentence_bert_config.json:   0%|          | 0.00/53.0 [00:00<?, ?B/s]"
      ]
     },
     "metadata": {},
     "output_type": "display_data"
    },
    {
     "data": {
      "application/vnd.jupyter.widget-view+json": {
       "model_id": "e9e65630de0142f8b218e2a0dcaea77e",
       "version_major": 2,
       "version_minor": 0
      },
      "text/plain": [
       "sentencepiece.bpe.model:   0%|          | 0.00/5.07M [00:00<?, ?B/s]"
      ]
     },
     "metadata": {},
     "output_type": "display_data"
    },
    {
     "data": {
      "application/vnd.jupyter.widget-view+json": {
       "model_id": "a6dd04aebf3448ae8d0ff55f58053513",
       "version_major": 2,
       "version_minor": 0
      },
      "text/plain": [
       "special_tokens_map.json:   0%|          | 0.00/239 [00:00<?, ?B/s]"
      ]
     },
     "metadata": {},
     "output_type": "display_data"
    },
    {
     "data": {
      "application/vnd.jupyter.widget-view+json": {
       "model_id": "2cda421f05c141b4a76585a4ca9022ef",
       "version_major": 2,
       "version_minor": 0
      },
      "text/plain": [
       "tokenizer.json:   0%|          | 0.00/9.08M [00:00<?, ?B/s]"
      ]
     },
     "metadata": {},
     "output_type": "display_data"
    },
    {
     "data": {
      "application/vnd.jupyter.widget-view+json": {
       "model_id": "d98d3430a3d24fdd8d3705af48b3fa9a",
       "version_major": 2,
       "version_minor": 0
      },
      "text/plain": [
       "tokenizer_config.json:   0%|          | 0.00/480 [00:00<?, ?B/s]"
      ]
     },
     "metadata": {},
     "output_type": "display_data"
    },
    {
     "data": {
      "application/vnd.jupyter.widget-view+json": {
       "model_id": "fafa1540313f44fca66519e1f3efecb6",
       "version_major": 2,
       "version_minor": 0
      },
      "text/plain": [
       "unigram.json:   0%|          | 0.00/14.8M [00:00<?, ?B/s]"
      ]
     },
     "metadata": {},
     "output_type": "display_data"
    },
    {
     "data": {
      "application/vnd.jupyter.widget-view+json": {
       "model_id": "a9f4f2a7e39c430da29dceebf6fa7abd",
       "version_major": 2,
       "version_minor": 0
      },
      "text/plain": [
       "modules.json:   0%|          | 0.00/229 [00:00<?, ?B/s]"
      ]
     },
     "metadata": {},
     "output_type": "display_data"
    }
   ],
   "source": [
    "# Model ID\n",
    "embed_model_id = config[\"embedding_model\"]\n",
    "\n",
    "# Show\n",
    "embed_model_id"
   ]
  },
  {
   "cell_type": "code",
   "execution_count": 12,
   "metadata": {},
   "outputs": [
    {
     "name": "stdout",
     "output_type": "stream",
     "text": [
      "Quadro P5000\n",
      "Memory Usage:\n",
      "Allocated: 0.0 GB\n",
      "Cached:    0.0 GB\n"
     ]
    }
   ],
   "source": [
    "# Embed model\n",
    "embed_model = HuggingFaceEmbeddings(\n",
    "    model_name = embed_model_id,\n",
    "    model_kwargs = {'device': device},\n",
    "    encode_kwargs = {'device': device, 'batch_size': 32}\n",
    ") \n",
    "\n",
    "# Show\n",
    "embed_model"
   ]
  },
  {
   "cell_type": "code",
   "execution_count": null,
   "metadata": {},
   "outputs": [],
   "source": [
    "# CUDA information\n",
    "if torch.cuda.is_available():\n",
    "    device = torch.device(\"cuda\")\n",
    "    print(torch.cuda.get_device_name(0))\n",
    "    print('Memory Usage:')\n",
    "    allocated_memory = torch.cuda.memory_allocated(0) / (1024**3)  # Convert bytes to GB\n",
    "    cached_memory = torch.cuda.memory_reserved(0) / (1024**3)  # Convert bytes to GB\n",
    "    total_memory = torch.cuda.get_device_properties(0).total_memory / (1024**3)  # Convert bytes to GB\n",
    "    available_memory = total_memory - cached_memory\n",
    "    print('Allocated:  ', round(allocated_memory, 1), 'GB')\n",
    "    print('Cached:     ', round(cached_memory, 1), 'GB')\n",
    "    print('Available: ', round(available_memory, 1), 'GB')\n",
    "    print('Total:     ', round(total_memory, 1), 'GB')"
   ]
  },
  {
   "cell_type": "markdown",
   "metadata": {},
   "source": [
    "# Prepared Data"
   ]
  },
  {
   "cell_type": "code",
   "execution_count": 20,
   "metadata": {},
   "outputs": [],
   "source": [
    "# Get list of IDS\n",
    "folder_path = \"prepared_data/\"\n",
    "file_name = \"splitted_input_core.csv\"\n",
    "file_path = f'{folder_path}{file_name}'\n",
    "\n",
    "# Read csv\n",
    "df_txt = pd.read_csv(file_path)\n",
    "\n",
    "# Format\n",
    "df_txt['text_id'] = df_txt['text_id'].astype(str)\n",
    "\n",
    "# Unique IDs\n",
    "unique_ids = df_txt['text_id'].unique()\n",
    "\n",
    "# To list\n",
    "unique_ids = unique_ids.tolist()"
   ]
  },
  {
   "cell_type": "code",
   "execution_count": null,
   "metadata": {},
   "outputs": [],
   "source": [
    "# Length of IDs\n",
    "len(unique_ids)"
   ]
  },
  {
   "cell_type": "markdown",
   "metadata": {},
   "source": [
    "# Parameters"
   ]
  },
  {
   "cell_type": "code",
   "execution_count": 21,
   "metadata": {},
   "outputs": [],
   "source": [
    "# Model ID\n",
    "use_quantization = config[\"use_quantization\"]\n",
    "\n",
    "# Show\n",
    "use_quantization"
   ]
  },
  {
   "cell_type": "code",
   "execution_count": null,
   "metadata": {},
   "outputs": [],
   "source": [
    "# Summarizer\n",
    "model_id = config['core_model']\n",
    "\n",
    "# Show\n",
    "model_id"
   ]
  },
  {
   "cell_type": "code",
   "execution_count": null,
   "metadata": {},
   "outputs": [],
   "source": [
    "# Summarizer\n",
    "expand_prompt = config['expand_prompt']\n",
    "\n",
    "# Show\n",
    "expand_prompt"
   ]
  },
  {
   "cell_type": "markdown",
   "metadata": {},
   "source": [
    "# User Query"
   ]
  },
  {
   "cell_type": "code",
   "execution_count": 22,
   "metadata": {},
   "outputs": [],
   "source": [
    "# Query\n",
    "initial_query = 'Explícame el Artículo 245 del Código Penal de España referente a ocupaciones ilegales de bienes inmuebles'\n",
    "\n",
    "# Show\n",
    "initial_query"
   ]
  },
  {
   "cell_type": "markdown",
   "metadata": {},
   "source": [
    "# Enhance query"
   ]
  },
  {
   "cell_type": "code",
   "execution_count": 23,
   "metadata": {},
   "outputs": [],
   "source": [
    "# Tokenizer\n",
    "tokenizer = transformers.AutoTokenizer.from_pretrained(\n",
    "    model_id\n",
    ")"
   ]
  },
  {
   "cell_type": "code",
   "execution_count": 24,
   "metadata": {},
   "outputs": [
    {
     "data": {
      "text/plain": [
       "[{'context': 'Ley Orgánica 8/1983, de 25 de junio, de Reforma Urgente y Parcial del Código Penal.: E1 párrafo 1. queda así redactado: <Los delitos prescriben a los veinte años cuando la Ley señalare al delito la pena de reclusión mayor>. Artículo 115. El apartado 1. queda así redactado: <Las de reclusión mayor a los treinta y cinco años>. Artículo 120. Queda así redactado: <El español que indujere a una potencia extranjera a declarar la guerra a España o se concertase con ella para el mismo fin, será castigado con la pena de reclusión mayor>. Artículo 137 bis. Queda redactado así: <Los que, con propósito de destruir, total o parcialmente, a un grupo nacional étnico, racial o religioso perpetraren alguno de los actos siguientes, serán castigados: 1. Con la pena de reclusión mayor si causaren la muerte castración, esterilización, mutilación o lesión grave a alguno de sus miembros. 2. Con la reclusión menor, si sometieren al grupo o a cualquiera de sus individuos a condiciones de existencia que pongan en peligro su vida o perturben gravemente su salud. En la misma pena incurrirán los que llevaren a cabo desplazamientos forzosos del grupo o de sus miembros, adoptaren cualquier medida que tienda a impedir su género de vida o reproducción o bien trasladaren individuos por la fuerza de un grupo a otro.> Artículo tercero. La expresión <reclusión mayor a muerte>, contenida en los artículos 121, 122, 139, 142, 144, 163, párrafo 2.; 215, párrafo 2.; 219, apartado 1.; 233, párrafo 1., y 406, párrafo último, queda sustituida por la expresión <reclúsión mayor en su grado máximo. Artículo cuarto. Las expresiones <presidio mayor> o <presidio menor> quedan sustituidas por las expresiones <prisión mayor> o <prisión menor>, respectivamente, en los siguientes artículos: 269, 270, 272, 273, 275, 277, 278, 280, 285, 291, 292 295, 296, 299, 302, 303, 305, 306, 325, 326, 385, 386, 394, 400, 468, 470 509, 519, 520, 521, 524, 540, 542, 544, 546 bis, a); 549, 550, 551, 552, 554, 556 y 558. Artículo quinto.',\n",
       "  'score': 0.729626},\n",
       " {'context': 'Ley Orgánica 1/2015, de 30 de marzo, por la que se modifica la Ley Orgánica 10/1995, de 23 de noviembre, del Código Penal.: El resto de los bienes, valores y efectos decomisados serán adjudicados al Estado español, que les dará el destino que se determine legal o reglamentariamente. 3.º Lo dispuesto en el apartado anterior será únicamente aplicable en defecto de acuerdo entre el Reino de España y el Estado requirente. 4.º Se dispondrá de los bienes, valores o efectos decomisados del siguiente modo: a) Si se trata de dinero, se transferirá al Estado requirente la cantidad que corresponda. b) Si se trata de bienes, valores o efectos de otra naturaleza, se transferirán al Estado requirente, en la parte que corresponda, salvo que la resolución de decomiso se hubiera referido a una cantidad de dinero y el Estado requirente no se muestre conforme; se procederá a su venta conforme al procedimiento que se determine reglamentariamente, y se transferirá el efectivo obtenido, una vez descontados los gastos de ejecución, al Estado requirente, en la parte que corresponda. Cuando ninguno de los dos procedimientos anteriores pueda ser aplicado, se procederá conforme a cualquier otro procedimiento autorizado legal o reglamentariamente. 5.º Cuando de la ejecución de la resolución de decomiso resulten afectados bienes integrantes del patrimonio histórico español, en ningún caso se procederá a su enajenación o restitución al Estado de emisión. En tal supuesto, el decomiso será inmediatamente comunicado a las autoridades españolas competentes y serán de aplicación las disposiciones de la Ley 16/1985, de 25 de junio, del Patrimonio Histórico Español y su normativa de desarrollo.» Disposición final quinta. Desarrollo reglamentario. Se habilita al Gobierno para que apruebe las disposiciones reglamentarias precisas para regular la estructura, organización, funcionamiento y actividad de la Oficina de Recuperación y Gestión de Activos. Disposición final sexta. Incorporación de Derecho de la Unión Europea. Mediante esta Ley se incorporan al Derecho español:',\n",
       "  'score': 0.728961408},\n",
       " {'context': 'Pleno. Sentencia 86/2010, de 3 de noviembre de 2010. Cuestión de inconstitucionalidad 3213-2009. Planteada por el Juzgado de lo Penal núm. 4 de Valencia en relación con el artículo 57.2 del Código penal, en la redacción dada por la Ley Orgánica 15/2003, de 25 de noviembre. Principios de personalidad y proporcionalidad de las penas, prohibición de indefensión, derecho a la intimidad familiar y libertades de circulación y residencia: STC 60/2010 (imposición obligatoria, para determinados delitos, de la pena accesoria de alejamiento) y STC 45/2009 (trato penal diferente en el delito de amenazas leves); inadmisión parcial de la cuestión de inconstitucionalidad por defectuoso cumplimiento del trámite de audiencia.: 6. El Presidente del Senado, mediante escrito registrado el día 14 de octubre de 2009, comunicó que la Mesa de la Cámara había acordado personarse en el proceso y dar por ofrecida su colaboración a los efectos del art. 88.1 LOTC. 7. El Abogado del Estado se personó en el presente procedimiento, en nombre del Gobierno, solicitando en su escrito de alegaciones, registrado el día 21 de octubre de 2009, la desestimación de la cuestión de inconstitucionalidad. Empieza el escrito dando por reproducidas las alegaciones efectuadas en la tramitación de las cuestiones de inconstitucionalidad núms. 640-2005 y 4976-2005. Tras exponer la argumentación contenida en el Auto de cuestionamiento, indica que toda pena es limitativa de la libertad, sin que la pena de alejamiento descanse exclusivamente en el objetivo de tutelar un interés puramente personal de la víctima, pues de ser así la naturaleza del delito sería privada. Asimismo descarta que la pena de alejamiento infrinja el art. 18 CE en relación con los arts. 10 y 1.1 CE, al sustentar el Auto de planteamiento la argumentación sobre el rechazo de que la pena pueda tener proyección indirecta o incidir en terceras personas distintas del condenado. Considera que dicho argumento no es asumible, en términos generales, ni guarda relación con el principio de personalidad de las penas. Entiende que de tomarse en consideración las consecuencias extraprocesales de las penas, negativas para terceros, debería excluirse hasta la pena de multa, al entender que toda pena puede ocasionar un efecto sobre terceros. Con base en las alegaciones expuestas, el Abogado del Estado interesó la desestimación de la cuestión promovida. 8. Con fecha 2 de diciembre de 2009 el Fiscal General del Estado presentó ante el Registro General del Tribunal sus alegaciones, que se resumen a continuación.',\n",
       "  'score': 0.722651601},\n",
       " {'context': 'Pleno. Sentencia 86/2010, de 3 de noviembre de 2010. Cuestión de inconstitucionalidad 3213-2009. Planteada por el Juzgado de lo Penal núm. 4 de Valencia en relación con el artículo 57.2 del Código penal, en la redacción dada por la Ley Orgánica 15/2003, de 25 de noviembre. Principios de personalidad y proporcionalidad de las penas, prohibición de indefensión, derecho a la intimidad familiar y libertades de circulación y residencia: STC 60/2010 (imposición obligatoria, para determinados delitos, de la pena accesoria de alejamiento) y STC 45/2009 (trato penal diferente en el delito de amenazas leves); inadmisión parcial de la cuestión de inconstitucionalidad por defectuoso cumplimiento del trámite de audiencia.: El Pleno del Tribunal Constitucional, compuesto por doña María Emilia Casas Baamonde, Presidenta, don Guillermo Jiménez Sánchez, don Vicente Conde Martín de Hijas, don Javier Delgado Barrio, doña Elisa Pérez Vera, don Eugeni Gay Montalvo, don Jorge Rodríguez-Zapata Pérez, don Ramón Rodríguez Arribas, don Pascual Sala Sánchez, don Manuel Aragón Reyes y don Pablo Pérez Tremps, Magistrados, ha pronunciado EN NOMBRE DEL REY la siguiente SENTENCIA En la cuestión de inconstitucionalidad núm. 3213-2009, planteada por el Juzgado de lo Penal núm. 4 de Valencia, en relación con el art. 57.2 del Código penal. Han intervenido y formulado alegaciones el Abogado del Estado y el Fiscal General del Estado. Ha sido Ponente la Magistrada doña Elisa Pérez Vera, quien expresa el parecer del Tribunal. I. Antecedentes 1. El día 6 de abril de 2009 tuvo entrada en el Registro General de este Tribunal escrito del Juzgado de lo Penal núm. 4 de Valencia, al que se acompaña, junto al testimonio de particulares del correspondiente procedimiento abreviado núm. 12-2008, el Auto del referido órgano judicial de 16 de marzo de 2009, en el que se acuerda plantear cuestión de inconstitucionalidad respecto del art. 57.2 del Código penal (CP). 2. Del conjunto de las actuaciones remitidas por el órgano judicial proponente resulta que los hechos que dan lugar al planteamiento de la presente cuestión son, concisamente expuestos, los siguientes: a) El Juzgado de Instrucción núm. 1 de Sagunto, mediante Auto dictado el 25 de noviembre de 2006, inició la tramitación de diligencias previas, en virtud del atestado policial recibido, al poder ser los hechos que constaban en el mismo, constitutivos de un delito de maltrato familiar. El mismo día dictó Auto acordando medidas cautelares a favor de la víctima.',\n",
       "  'score': 0.722651601},\n",
       " {'context': 'Pleno. Sentencia 86/2010, de 3 de noviembre de 2010. Cuestión de inconstitucionalidad 3213-2009. Planteada por el Juzgado de lo Penal núm. 4 de Valencia en relación con el artículo 57.2 del Código penal, en la redacción dada por la Ley Orgánica 15/2003, de 25 de noviembre. Principios de personalidad y proporcionalidad de las penas, prohibición de indefensión, derecho a la intimidad familiar y libertades de circulación y residencia: STC 60/2010 (imposición obligatoria, para determinados delitos, de la pena accesoria de alejamiento) y STC 45/2009 (trato penal diferente en el delito de amenazas leves); inadmisión parcial de la cuestión de inconstitucionalidad por defectuoso cumplimiento del trámite de audiencia.: 3. Las restantes de las cuestiones planteadas han sido ya resueltas en la STC 60/2010, de 7 de octubre, a cuyos razonamientos y conclusiones nos remitimos, por lo que procedente será aquí el mismo pronunciamiento desestimatorio al que llegamos en la citada Sentencia. FALLO En atención a todo lo expuesto, el Tribunal Constitucional, POR LA AUTORIDAD QUE LE CONFIERE LA CONSTITUCIÓN DE LA NACIÓN ESPAÑOLA, Ha decidido 1. Inadmitir, por incumplimiento de las condiciones procesales exigidas por los arts. 163 CE y 35 LOTC, la presente cuestión de inconstitucionalidad en lo que se refiere a la posible vulneración de los arts. 9.1 y 3, 14, 25. 2, 32.1 y 39.1 CE. 2. Desestimar la presente cuestión de inconstitucionalidad en todo lo demás. Publíquese esta Sentencia en el «Boletín Oficial del Estado» Dada en Madrid, a tres de noviembre de dos mil diez.–María Emilia Casas Baamonde.–Guillermo Jiménez Sánchez.–Vicente Conde Martín de Hijas.–Javier Delgado Barrio.–Elisa Pérez Vera.–Eugeni Gay Montalvo.–Jorge Rodríguez-Zapata Pérez.–Ramón Rodríguez Arribas.–Pascual Sala Sánchez.–Manuel Aragón Reyes.–Pablo Pérez Tremps.–Firmado y rubricado.',\n",
       "  'score': 0.722651601},\n",
       " {'context': 'Pleno. Sentencia 86/2010, de 3 de noviembre de 2010. Cuestión de inconstitucionalidad 3213-2009. Planteada por el Juzgado de lo Penal núm. 4 de Valencia en relación con el artículo 57.2 del Código penal, en la redacción dada por la Ley Orgánica 15/2003, de 25 de noviembre. Principios de personalidad y proporcionalidad de las penas, prohibición de indefensión, derecho a la intimidad familiar y libertades de circulación y residencia: STC 60/2010 (imposición obligatoria, para determinados delitos, de la pena accesoria de alejamiento) y STC 45/2009 (trato penal diferente en el delito de amenazas leves); inadmisión parcial de la cuestión de inconstitucionalidad por defectuoso cumplimiento del trámite de audiencia.: Considera que si se estimara que no concurre óbice procesal, procedería la estimación de la cuestión de inconstitucionalidad ya que la aquí promovida por el Juzgado de lo Penal núm. 4 de Valencia, se mueve en coordenadas parecidas, incluso con remisiones literales, a la planteada por el Juzgado de lo Penal núm. 20 de Madrid, registrada como cuestión de inconstitucionalidad núm. 4976-2005, por lo que se remite, por razones de economía procesal, a las alegaciones formuladas al tramitar dicha cuestión. En aquel escrito, tras propiciar la estimación de la cuestión planteada por vulneración del art. 9.3 CE, señaló que la rigidez del sistema ha quedado paliada en parte a raíz de la Ley Orgánica 1/2004, de 28 de diciembre, que ha modificado el art. 153.4 CP permitiendo a los Jueces adecuar la pena de alejamiento a las circunstancias concurrentes en el caso concreto y a la entidad del hecho cometido, con lo que se evita la arbitrariedad de la Ley que la antigua legislación propiciaba. En suma, por lo expuesto, interesa la inadmisión por defectos procesales en el trámite de audiencia o, subsidiariamente, la estimación de la cuestión de inconstitucionalidad, declarando que es inconstitucional y por lo tanto nulo el art. 57.2 CP según redacción dada por Ley Orgánica 15/2003 por ser contrario al art. 9.3 CE, en su dimensión de interdicción de la arbitrariedad de los poderes públicos o, alternativamente, que se desestime la cuestión de inconstitucionalidad sobre la base de la legislación sobrevenida al planteamiento de la misma. 9. Mediante providencia de 3 de noviembre de 2010, se señaló para la deliberación y votación de la presente Sentencia el día 3 del mismo mes y año. II. Fundamentos jurídicos',\n",
       "  'score': 0.722651601},\n",
       " {'context': 'Pleno. Sentencia 86/2010, de 3 de noviembre de 2010. Cuestión de inconstitucionalidad 3213-2009. Planteada por el Juzgado de lo Penal núm. 4 de Valencia en relación con el artículo 57.2 del Código penal, en la redacción dada por la Ley Orgánica 15/2003, de 25 de noviembre. Principios de personalidad y proporcionalidad de las penas, prohibición de indefensión, derecho a la intimidad familiar y libertades de circulación y residencia: STC 60/2010 (imposición obligatoria, para determinados delitos, de la pena accesoria de alejamiento) y STC 45/2009 (trato penal diferente en el delito de amenazas leves); inadmisión parcial de la cuestión de inconstitucionalidad por defectuoso cumplimiento del trámite de audiencia.: a) El Juzgado de Instrucción núm. 1 de Sagunto, mediante Auto dictado el 25 de noviembre de 2006, inició la tramitación de diligencias previas, en virtud del atestado policial recibido, al poder ser los hechos que constaban en el mismo, constitutivos de un delito de maltrato familiar. El mismo día dictó Auto acordando medidas cautelares a favor de la víctima. b) Tras continuar la tramitación de las diligencias por los trámites del procedimiento abreviado, por un presunto delito de malos tratos en el ámbito familiar, y formulada acusación por el Ministerio Fiscal, en que calificó los hechos como constitutivos de un delito de lesiones del art. 153 CP y solicitó la imposición de la pena de ocho meses de prisión, de dos años de privación de tenencia y porte de armas y conforme «al art 57 (sic) prohibición de acercamiento (300 metros) y comunicación con la denunciante durante 1 año», se remitió el procedimiento al Juzgado de lo Penal núm. 4 de Valencia, que señaló la vista oral para el día 21 de noviembre de 2008. En el turno de conclusiones el Ministerio Fiscal elevó a definitivas las conclusiones del escrito de acusación, interesando la defensa, además de la absolución del acusado, que se planteara por la Juzgadora la cuestión de inconstitucionalidad sobre el art. 57.2 CP. c) El Juzgado dictó providencia de fecha 20 de enero de 2009, confiriendo al Ministerio Fiscal y a la defensa un plazo de diez días para que formularan alegaciones sobre la posibilidad de plantear cuestión de inconstitucionalidad del art. 57.2 CP al ser posible que vulnere «alguno de los arts. (sic) de la Constitución Española como son el 1.1 y el 10.1, en desarrollo de la personalidad (art. 10) y a la intimidad personal y familiar art. 18.1, así como los arts. 24.1 y 25.1 todos de la Constitución». d) Por el Ministerio Fiscal no se formularon alegaciones. La defensa del acusado se mostró favorable al planteamiento de la cuestión de inconstitucionalidad, interesando que el Juzgado lo acordara.',\n",
       "  'score': 0.722651601},\n",
       " {'context': 'Pleno. Sentencia 86/2010, de 3 de noviembre de 2010. Cuestión de inconstitucionalidad 3213-2009. Planteada por el Juzgado de lo Penal núm. 4 de Valencia en relación con el artículo 57.2 del Código penal, en la redacción dada por la Ley Orgánica 15/2003, de 25 de noviembre. Principios de personalidad y proporcionalidad de las penas, prohibición de indefensión, derecho a la intimidad familiar y libertades de circulación y residencia: STC 60/2010 (imposición obligatoria, para determinados delitos, de la pena accesoria de alejamiento) y STC 45/2009 (trato penal diferente en el delito de amenazas leves); inadmisión parcial de la cuestión de inconstitucionalidad por defectuoso cumplimiento del trámite de audiencia.: Con base en las alegaciones expuestas, el Abogado del Estado interesó la desestimación de la cuestión promovida. 8. Con fecha 2 de diciembre de 2009 el Fiscal General del Estado presentó ante el Registro General del Tribunal sus alegaciones, que se resumen a continuación. Empieza el escrito haciendo referencia a la tramitación del incidente por el que se plantea la cuestión de inconstitucionalidad. Considera que en la providencia por la que se da la audiencia a las partes exigida por el art. 35.2 LOTC «no aparece mencionado en ningún momento el art. 9.1 de la CE en cuanto a lo que se refiere a la interdicción de la arbitrariedad. Sin embargo la fundamentación sobre la oposición entre tal articulo y el cuestionado (art. 57.2 del CP) es exhaustiva en el FJ 3 del auto de planteamiento», por lo que, lo expuesto, debería conducir al Pleno del Tribunal a declarar la inadmisión de la cuestión.',\n",
       "  'score': 0.722651601},\n",
       " {'context': 'Pleno. Sentencia 86/2010, de 3 de noviembre de 2010. Cuestión de inconstitucionalidad 3213-2009. Planteada por el Juzgado de lo Penal núm. 4 de Valencia en relación con el artículo 57.2 del Código penal, en la redacción dada por la Ley Orgánica 15/2003, de 25 de noviembre. Principios de personalidad y proporcionalidad de las penas, prohibición de indefensión, derecho a la intimidad familiar y libertades de circulación y residencia: STC 60/2010 (imposición obligatoria, para determinados delitos, de la pena accesoria de alejamiento) y STC 45/2009 (trato penal diferente en el delito de amenazas leves); inadmisión parcial de la cuestión de inconstitucionalidad por defectuoso cumplimiento del trámite de audiencia.: 9. Mediante providencia de 3 de noviembre de 2010, se señaló para la deliberación y votación de la presente Sentencia el día 3 del mismo mes y año. II. Fundamentos jurídicos 1. El Auto del Juzgado de lo Penal núm. 4 de Valencia, por el que se plantea la cuestión de inconstitucionalidad, considera que el párrafo segundo del art. 57.2 del Código penal (CP), en su redacción dada por la Ley Orgánica 15/2003, de 25 de noviembre, puede ser contrario a los arts. 1.1, 9.1 y 3, 10.1, 14, 24.1, 25.1 y 2, 32.1 y 39.1 CE. El Ministerio Fiscal solicita la inadmisión de la cuestión en lo concerniente a la vulneración del principio de interdicción de arbitrariedad (art. 9.3 CE), al no haber sido sometido al preceptivo trámite de audiencia previsto en el art. 35.2 de la Ley Orgánica del Tribunal Constitucional (LOTC). El Abogado del Estado interesa la desestimación de la cuestión. 2. Tal y como ha hecho constar el Fiscal General del Estado en sus alegaciones, en el trámite del art. 35.2 LOTC la titular del Juzgado se limitó a advertir a las partes sobre la posibilidad de plantear cuestión de inconstitucionalidad del art. 57.2 CP al ser posible que vulnere «alguno de los arts. de la Constitución Española como son el 1.1 y el 10.1, en desarrollo de la personalidad (art. 10) y a la intimidad personal y familiar art. 18.1, así como los arts. 24.1 y 25.1 todos de la Constitución», lo que conduce a la conclusión de que el trámite de audiencia a las partes ha sido cumplido de forma defectuosa respecto de los arts. 9.1 y 3, 14, 25.2, 32.1 y 39.1 CE, por lo que la presente cuestión debe ser inadmitida respecto a las alegaciones referidas a la vulneración de estos artículos (por todas STC 164/2009, de 2 de julio, FJ 2). 3. Las restantes de las cuestiones planteadas han sido ya resueltas en la STC 60/2010, de 7 de octubre, a cuyos razonamientos y conclusiones nos remitimos, por lo que procedente será aquí el mismo pronunciamiento desestimatorio al que llegamos en la citada Sentencia. FALLO',\n",
       "  'score': 0.722651601},\n",
       " {'context': 'Pleno. Sentencia 86/2010, de 3 de noviembre de 2010. Cuestión de inconstitucionalidad 3213-2009. Planteada por el Juzgado de lo Penal núm. 4 de Valencia en relación con el artículo 57.2 del Código penal, en la redacción dada por la Ley Orgánica 15/2003, de 25 de noviembre. Principios de personalidad y proporcionalidad de las penas, prohibición de indefensión, derecho a la intimidad familiar y libertades de circulación y residencia: STC 60/2010 (imposición obligatoria, para determinados delitos, de la pena accesoria de alejamiento) y STC 45/2009 (trato penal diferente en el delito de amenazas leves); inadmisión parcial de la cuestión de inconstitucionalidad por defectuoso cumplimiento del trámite de audiencia.: Por último, considera que «el precepto podría infringir otros derechos no menos importantes como el derecho a la dignidad de la persona, (arts. 1.1 y 10.1 de la CE), en sus manifestaciones relacionadas con el libre desarrollo de la personalidad (art. 10 CE), y a la intimidad personal y familiar (art. 18.1), así como los arts. 24.1 y 25.1 en consecuencia el precepto cuestionado es contrario a los citados preceptos constitucionales (sic).» 4. Mediante providencia de 29 de diciembre de 2009 este Tribunal acordó admitir a trámite la cuestión de inconstitucionalidad, así como dar traslado de las actuaciones recibidas, de conformidad con el art. 37.3 de la Ley Orgánica del Tribunal Constitucional (LOTC), al Congreso de los Diputados y al Senado por conducto de sus Presidentes; al Gobierno, por conducto del Ministerio de Justicia; y al Fiscal General del Estado, al objeto de que en el plazo de quince días pudieran personarse en el proceso y formular las alegaciones que estimaran convenientes. Acordando publicar la incoación de la cuestión en el «Boletín Oficial del Estado», efectuándose la misma en el núm. 246, de 12 de octubre de 2005. 5. El Presidente del Congreso de los Diputados, a través de escrito registrado el día 13 de octubre de 2009, comunicó, que aunque el Congreso había decidido no personarse en el procedimiento ni formular alegaciones, ponía a disposición del Tribunal las actuaciones que pudiera precisar. 6. El Presidente del Senado, mediante escrito registrado el día 14 de octubre de 2009, comunicó que la Mesa de la Cámara había acordado personarse en el proceso y dar por ofrecida su colaboración a los efectos del art. 88.1 LOTC. 7. El Abogado del Estado se personó en el presente procedimiento, en nombre del Gobierno, solicitando en su escrito de alegaciones, registrado el día 21 de octubre de 2009, la desestimación de la cuestión de inconstitucionalidad.',\n",
       "  'score': 0.722651601}]"
      ]
     },
     "execution_count": 24,
     "metadata": {},
     "output_type": "execute_result"
    }
   ],
   "source": [
    "# Set BNB configuration if quantization is enabled\n",
    "bnb_config = transformers.BitsAndBytesConfig(\n",
    "    load_in_4bit=True,\n",
    "    bnb_4bit_quant_type='nf4',\n",
    "    bnb_4bit_use_double_quant=True,\n",
    "    bnb_4bit_compute_dtype=torch.bfloat16\n",
    ") if use_quantization else None"
   ]
  },
  {
   "cell_type": "code",
   "execution_count": null,
   "metadata": {},
   "outputs": [],
   "source": [
    "# Set model\n",
    "if use_optimum:\n",
    "    model = transformers.AutoModelForCausalLM.from_pretrained(\n",
    "        \"meta-llama/Llama-2-7b-chat-hf\",\n",
    "        trust_remote_code=True,\n",
    "        quantization_config = bnb_config,\n",
    "        device_map=\"auto\",\n",
    "        use_fp8=True\n",
    "    )\n",
    "else:\n",
    "    model = transformers.AutoModelForCausalLM.from_pretrained(\n",
    "        model_id,\n",
    "        trust_remote_code=True,\n",
    "        quantization_config = bnb_config,\n",
    "        device_map=\"auto\""
   ]
  },
  {
   "cell_type": "code",
   "execution_count": null,
   "metadata": {},
   "outputs": [],
   "source": [
    "# Pipeline\n",
    "pipeline = pipeline(\n",
    "    model = model,\n",
    "    tokenizer = tokenizer,\n",
    "    task = 'text-generation',\n",
    "    model_kwargs = {\"torch_dtype\": torch.bfloat16},\n",
    "    return_full_text = config[\"return_full_text\"],\n",
    "    max_new_tokens = config[\"max_new_tokens\"],\n",
    "    repetition_penalty = config[\"repetition_penalty\"],\n",
    "    temperature = config[\"temperature\"],\n",
    "    pad_token_id = tokenizer.eos_token_id\n",
    ")"
   ]
  },
  {
   "cell_type": "code",
   "execution_count": null,
   "metadata": {},
   "outputs": [],
   "source": [
    "# CUDA information\n",
    "if torch.cuda.is_available():\n",
    "    device = torch.device(\"cuda\")\n",
    "    print(torch.cuda.get_device_name(0))\n",
    "    print('Memory Usage:')\n",
    "    allocated_memory = torch.cuda.memory_allocated(0) / (1024**3)  # Convert bytes to GB\n",
    "    cached_memory = torch.cuda.memory_reserved(0) / (1024**3)  # Convert bytes to GB\n",
    "    total_memory = torch.cuda.get_device_properties(0).total_memory / (1024**3)  # Convert bytes to GB\n",
    "    available_memory = total_memory - cached_memory\n",
    "    print('Allocated:   ', round(allocated_memory, 1), 'GB')\n",
    "    print('Cached:      ', round(cached_memory, 1), 'GB')\n",
    "    print('Available:  ', round(available_memory, 1), 'GB')\n",
    "    print('Total:      ', round(total_memory, 1), 'GB')"
   ]
  },
  {
   "cell_type": "code",
   "execution_count": null,
   "metadata": {},
   "outputs": [],
   "source": [
    "# Run generate summary\n",
    "expanded_query = generate_summary(pipeline, tokenizer, expand_prompt, initial_query)"
   ]
  },
  {
   "cell_type": "code",
   "execution_count": null,
   "metadata": {},
   "outputs": [],
   "source": [
    "# Show\n",
    "expanded_query"
   ]
  },
  {
   "cell_type": "markdown",
   "metadata": {},
   "source": [
    "# Final query"
   ]
  },
  {
   "cell_type": "code",
   "execution_count": null,
   "metadata": {},
   "outputs": [],
   "source": [
    "# Final query\n",
    "# final_query = initial_query + ': ' + expanded_query\n",
    "final_query = initial_query\n",
    "\n",
    "# Show\n",
    "final_query"
   ]
  },
  {
   "cell_type": "markdown",
   "metadata": {},
   "source": [
    "# Find closer docs"
   ]
  },
  {
   "cell_type": "code",
   "execution_count": null,
   "metadata": {},
   "outputs": [],
   "source": [
    "# Text field\n",
    "text_field = \"text\"  \n",
    "\n",
    "# Vector store\n",
    "vectorstore = PineconeVectorStore(index, embed_model, text_field)  \n",
    "\n",
    "# Show\n",
    "vectorstore"
   ]
  },
  {
   "cell_type": "code",
   "execution_count": null,
   "metadata": {},
   "outputs": [],
   "source": [
    "# Similarity output\n",
    "similarity_output = vectorstore.similarity_search_with_score(final_query, k = config['top_k_docs'])"
   ]
  },
  {
   "cell_type": "code",
   "execution_count": null,
   "metadata": {},
   "outputs": [],
   "source": [
    "# Assuming similarity_output is the list of Document objects\n",
    "context_processed = []\n",
    "\n",
    "for doc, score in similarity_output:\n",
    "    metadata = doc.metadata\n",
    "    context_processed.append({\n",
    "        \"date\": metadata.get('date', ''),\n",
    "        \"department\": metadata.get('department', ''),\n",
    "        \"legislative_origin\": metadata.get('legislative_origin', ''),\n",
    "        \"rang\": metadata.get('rang', ''),\n",
    "        \"text_id\": metadata.get('text_id', ''),\n",
    "        \"title\": metadata.get('title', ''),\n",
    "        \"context\": doc.page_content,\n",
    "        \"score\": score\n",
    "    })\n",
    "    \n",
    "# Show\n",
    "context_processed[0:3]"
   ]
  },
  {
   "cell_type": "markdown",
   "metadata": {},
   "source": [
    "# Re-Ranking"
   ]
  },
  {
   "cell_type": "code",
   "execution_count": null,
   "metadata": {},
   "outputs": [],
   "source": [
    "# Model ID\n",
    "reranking_model = config[\"reranking_model\"]\n",
    "\n",
    "# Show\n",
    "reranking_model "
   ]
  },
  {
   "cell_type": "code",
   "execution_count": null,
   "metadata": {},
   "outputs": [],
   "source": [
    "# Model ID\n",
    "top_reranked_docs = config[\"top_reranked_docs\"]\n",
    "\n",
    "# Show\n",
    "top_reranked_docs"
   ]
  },
  {
   "cell_type": "code",
   "execution_count": null,
   "metadata": {},
   "outputs": [],
   "source": [
    "# Cross encoder\n",
    "cross_encoder = CrossEncoder(reranking_model)"
   ]
  },
  {
   "cell_type": "code",
   "execution_count": null,
   "metadata": {},
   "outputs": [],
   "source": [
    "# CUDA information\n",
    "if torch.cuda.is_available():\n",
    "    device = torch.device(\"cuda\")\n",
    "    print(torch.cuda.get_device_name(0))\n",
    "    print('Memory Usage:')\n",
    "    allocated_memory = torch.cuda.memory_allocated(0) / (1024**3)  # Convert bytes to GB\n",
    "    cached_memory = torch.cuda.memory_reserved(0) / (1024**3)  # Convert bytes to GB\n",
    "    total_memory = torch.cuda.get_device_properties(0).total_memory / (1024**3)  # Convert bytes to GB\n",
    "    available_memory = total_memory - cached_memory\n",
    "    print('Allocated:   ', round(allocated_memory, 1), 'GB')\n",
    "    print('Cached:      ', round(cached_memory, 1), 'GB')\n",
    "    print('Available:  ', round(available_memory, 1), 'GB')\n",
    "    print('Total:      ', round(total_memory, 1), 'GB')"
   ]
  },
  {
   "cell_type": "code",
   "execution_count": null,
   "metadata": {},
   "outputs": [],
   "source": [
    "# Re-ranking\n",
    "text_field = 'context'\n",
    "ranked_context = rank_documents(cross_encoder, text_field, final_query, context_processed)"
   ]
  },
  {
   "cell_type": "code",
   "execution_count": null,
   "metadata": {},
   "outputs": [],
   "source": [
    "# Sort\n",
    "sorted_ranked_context = dict(sorted(ranked_context.items())[:top_reranked_docs])"
   ]
  },
  {
   "cell_type": "code",
   "execution_count": null,
   "metadata": {},
   "outputs": [],
   "source": [
    "# Format\n",
    "sorted_ranked_context = list(sorted_ranked_context.values())"
   ]
  },
  {
   "cell_type": "code",
   "execution_count": null,
   "metadata": {},
   "outputs": [],
   "source": [
    "# Show\n",
    "sorted_ranked_context[0:3]"
   ]
  },
  {
   "cell_type": "markdown",
   "metadata": {},
   "source": [
    "# Get max docs"
   ]
  },
  {
   "cell_type": "code",
   "execution_count": null,
   "metadata": {},
   "outputs": [],
   "source": [
    "# Model ID\n",
    "max_model_tokens = config[\"max_model_tokens\"]\n",
    "\n",
    "# Show\n",
    "max_model_tokens"
   ]
  },
  {
   "cell_type": "code",
   "execution_count": null,
   "metadata": {},
   "outputs": [],
   "source": [
    "# Initialize cumulative token count\n",
    "cumulative_tokens = 0\n",
    "\n",
    "# Filtered list to store dictionaries\n",
    "filtered_context = []\n",
    "\n",
    "# Iterate through the list of dictionaries\n",
    "for item in sorted_ranked_context:\n",
    "    # Calculate number of tokens for 'context' value\n",
    "    token_count = count_tokens(item['context'])\n",
    "    \n",
    "    # Cumulative sum of token counts\n",
    "    cumulative_tokens += token_count\n",
    "    \n",
    "    # Check if cumulative tokens are still less than max_model_tokens\n",
    "    if cumulative_tokens < max_model_tokens:\n",
    "        filtered_context.append(item)\n",
    "    else:\n",
    "        break\n",
    "\n",
    "# Show\n",
    "filtered_context[0:3]"
   ]
  },
  {
   "cell_type": "code",
   "execution_count": null,
   "metadata": {},
   "outputs": [],
   "source": [
    "# Sum tokens for all contexts in filtered_data\n",
    "total_tokens = sum(count_tokens(item['context']) for item in filtered_context)\n",
    "\n",
    "print(\"Total tokens for all contexts in filtered_context:\", total_tokens)"
   ]
  },
  {
   "cell_type": "code",
   "execution_count": null,
   "metadata": {},
   "outputs": [],
   "source": [
    "# Number of contexts added\n",
    "len(filtered_context)"
   ]
  },
  {
   "cell_type": "markdown",
   "metadata": {},
   "source": [
    "# Clean"
   ]
  },
  {
   "cell_type": "code",
   "execution_count": null,
   "metadata": {},
   "outputs": [],
   "source": [
    "# CUDA information\n",
    "if torch.cuda.is_available():\n",
    "    device = torch.device(\"cuda\")\n",
    "    print(torch.cuda.get_device_name(0))\n",
    "    print('Memory Usage:')\n",
    "    allocated_memory = torch.cuda.memory_allocated(0) / (1024**3)  # Convert bytes to GB\n",
    "    cached_memory = torch.cuda.memory_reserved(0) / (1024**3)  # Convert bytes to GB\n",
    "    total_memory = torch.cuda.get_device_properties(0).total_memory / (1024**3)  # Convert bytes to GB\n",
    "    available_memory = total_memory - cached_memory\n",
    "    print('Allocated:   ', round(allocated_memory, 1), 'GB')\n",
    "    print('Cached:      ', round(cached_memory, 1), 'GB')\n",
    "    print('Available:  ', round(available_memory, 1), 'GB')\n",
    "    print('Total:      ', round(total_memory, 1), 'GB')"
   ]
  },
  {
   "cell_type": "code",
   "execution_count": null,
   "metadata": {},
   "outputs": [],
   "source": [
    "# Clean memory\n",
    "torch.cuda.empty_cache()\n",
    "gc.collect()"
   ]
  }
 ],
 "metadata": {
  "kernelspec": {
   "display_name": "Python 3 (ipykernel)",
   "language": "python",
   "name": "python3"
  },
  "language_info": {
   "codemirror_mode": {
    "name": "ipython",
    "version": 3
   },
   "file_extension": ".py",
   "mimetype": "text/x-python",
   "name": "python",
   "nbconvert_exporter": "python",
   "pygments_lexer": "ipython3",
   "version": "3.9.16"
  }
 },
 "nbformat": 4,
 "nbformat_minor": 4
}
